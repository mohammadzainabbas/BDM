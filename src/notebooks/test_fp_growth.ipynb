{
 "cells": [
  {
   "cell_type": "code",
   "execution_count": 4,
   "id": "1775511a-83f0-4d6e-9611-2e27291144ce",
   "metadata": {},
   "outputs": [
    {
     "name": "stdout",
     "output_type": "stream",
     "text": [
      "The autoreload extension is already loaded. To reload it, use:\n",
      "  %reload_ext autoreload\n"
     ]
    }
   ],
   "source": [
    "%load_ext autoreload\n",
    "\n",
    "import warnings\n",
    "warnings.filterwarnings(\"ignore\") # disable warnings\n",
    "\n",
    "from os import getcwd\n",
    "from os.path import join, abspath, pardir, exists\n",
    "import numpy as np\n",
    "import pandas as pd\n",
    "import pyspark as ps\n",
    "from pyspark import SparkContext\n",
    "from pyspark.sql import SparkSession, SQLContext\n",
    "from pyspark.sql.types import (StringType, DoubleType, TimestampType, NullType, IntegerType, StructType, StructField)\n",
    "from pyspark.ml.fpm import FPGrowth\n",
    "\n",
    "from IPython.core.interactiveshell import InteractiveShell"
   ]
  },
  {
   "cell_type": "code",
   "execution_count": 2,
   "id": "3d3cf65f",
   "metadata": {},
   "outputs": [],
   "source": [
    "# For IPython\n",
    "\n",
    "InteractiveShell.ast_node_interactivity = \"all\" # To show all output after each cell execution (instead of the last output)\n",
    "\n",
    "# For pandas\n",
    "\n",
    "pd.options.display.max_columns = 200 # display upto 200 columns (instead of default 20)\n",
    "pd.options.display.max_rows = 200 # display upto 200 rows (instead of default 60)\n",
    "pd.options.mode.use_inf_as_na = True # Consider '' and np.inf as np.NaN values (https://pandas.pydata.org/docs/reference/api/pandas.DataFrame.isna.html)\n"
   ]
  },
  {
   "cell_type": "code",
   "execution_count": 5,
   "id": "b0c24df2",
   "metadata": {},
   "outputs": [
    {
     "name": "stderr",
     "output_type": "stream",
     "text": [
      "WARNING: An illegal reflective access operation has occurred\n",
      "WARNING: Illegal reflective access by org.apache.spark.unsafe.Platform (file:/home/bdm/miniconda3/envs/bdm/lib/python3.8/site-packages/pyspark/jars/spark-unsafe_2.12-3.2.1.jar) to constructor java.nio.DirectByteBuffer(long,int)\n",
      "WARNING: Please consider reporting this to the maintainers of org.apache.spark.unsafe.Platform\n",
      "WARNING: Use --illegal-access=warn to enable warnings of further illegal reflective access operations\n",
      "WARNING: All illegal access operations will be denied in a future release\n",
      "Using Spark's default log4j profile: org/apache/spark/log4j-defaults.properties\n",
      "Setting default log level to \"WARN\".\n",
      "To adjust logging level use sc.setLogLevel(newLevel). For SparkR, use setLogLevel(newLevel).\n",
      "22/06/07 12:56:10 WARN NativeCodeLoader: Unable to load native-hadoop library for your platform... using builtin-java classes where applicable\n"
     ]
    }
   ],
   "source": [
    "spark = SparkSession.builder.appName(\"bdm\").master('local').getOrCreate()\n",
    "sc = spark.sparkContext\n",
    "sqlContext = SQLContext(sc)"
   ]
  },
  {
   "cell_type": "code",
   "execution_count": 6,
   "id": "f81edf94",
   "metadata": {},
   "outputs": [
    {
     "name": "stderr",
     "output_type": "stream",
     "text": [
      "[Stage 0:>                                                          (0 + 1) / 1]\r"
     ]
    },
    {
     "name": "stdout",
     "output_type": "stream",
     "text": [
      "+---+------------+\n",
      "| id|       items|\n",
      "+---+------------+\n",
      "|  0|   [1, 2, 5]|\n",
      "|  1|[1, 2, 3, 5]|\n",
      "|  2|      [1, 2]|\n",
      "+---+------------+\n",
      "\n"
     ]
    },
    {
     "name": "stderr",
     "output_type": "stream",
     "text": [
      "                                                                                \r"
     ]
    }
   ],
   "source": [
    "df = spark.createDataFrame([\n",
    "    (0, [1, 2, 5]),\n",
    "    (1, [1, 2, 3, 5]),\n",
    "    (2, [1, 2])\n",
    "], [\"id\", \"items\"])\n",
    "df.show()"
   ]
  },
  {
   "cell_type": "code",
   "execution_count": 7,
   "id": "cb97904b",
   "metadata": {},
   "outputs": [
    {
     "data": {
      "text/plain": [
       "pyspark.ml.fpm.FPGrowth"
      ]
     },
     "execution_count": 7,
     "metadata": {},
     "output_type": "execute_result"
    },
    {
     "data": {
      "text/plain": [
       "['__abstractmethods__',\n",
       " '__class__',\n",
       " '__del__',\n",
       " '__delattr__',\n",
       " '__dict__',\n",
       " '__dir__',\n",
       " '__doc__',\n",
       " '__eq__',\n",
       " '__format__',\n",
       " '__ge__',\n",
       " '__getattribute__',\n",
       " '__gt__',\n",
       " '__hash__',\n",
       " '__init__',\n",
       " '__init_subclass__',\n",
       " '__le__',\n",
       " '__lt__',\n",
       " '__module__',\n",
       " '__ne__',\n",
       " '__new__',\n",
       " '__reduce__',\n",
       " '__reduce_ex__',\n",
       " '__repr__',\n",
       " '__setattr__',\n",
       " '__sizeof__',\n",
       " '__str__',\n",
       " '__subclasshook__',\n",
       " '__weakref__',\n",
       " '_abc_impl',\n",
       " '_call_java',\n",
       " '_copyValues',\n",
       " '_copy_params',\n",
       " '_create_from_java_class',\n",
       " '_create_model',\n",
       " '_create_params_from_java',\n",
       " '_defaultParamMap',\n",
       " '_dummy',\n",
       " '_empty_java_param_map',\n",
       " '_fit',\n",
       " '_fit_java',\n",
       " '_from_java',\n",
       " '_input_kwargs',\n",
       " '_java_obj',\n",
       " '_make_java_param_pair',\n",
       " '_new_java_array',\n",
       " '_new_java_obj',\n",
       " '_paramMap',\n",
       " '_params',\n",
       " '_randomUID',\n",
       " '_resetUid',\n",
       " '_resolveParam',\n",
       " '_set',\n",
       " '_setDefault',\n",
       " '_shouldOwn',\n",
       " '_testOwnParam',\n",
       " '_to_java',\n",
       " '_transfer_param_map_from_java',\n",
       " '_transfer_param_map_to_java',\n",
       " '_transfer_params_from_java',\n",
       " '_transfer_params_to_java',\n",
       " 'clear',\n",
       " 'copy',\n",
       " 'explainParam',\n",
       " 'explainParams',\n",
       " 'extractParamMap',\n",
       " 'fit',\n",
       " 'fitMultiple',\n",
       " 'getItemsCol',\n",
       " 'getMinConfidence',\n",
       " 'getMinSupport',\n",
       " 'getNumPartitions',\n",
       " 'getOrDefault',\n",
       " 'getParam',\n",
       " 'getPredictionCol',\n",
       " 'hasDefault',\n",
       " 'hasParam',\n",
       " 'isDefined',\n",
       " 'isSet',\n",
       " 'itemsCol',\n",
       " 'load',\n",
       " 'minConfidence',\n",
       " 'minSupport',\n",
       " 'numPartitions',\n",
       " 'params',\n",
       " 'predictionCol',\n",
       " 'read',\n",
       " 'save',\n",
       " 'set',\n",
       " 'setItemsCol',\n",
       " 'setMinConfidence',\n",
       " 'setMinSupport',\n",
       " 'setNumPartitions',\n",
       " 'setParams',\n",
       " 'setPredictionCol',\n",
       " 'uid',\n",
       " 'write']"
      ]
     },
     "execution_count": 7,
     "metadata": {},
     "output_type": "execute_result"
    },
    {
     "data": {
      "text/plain": [
       "FPGrowth_65a23c53c691"
      ]
     },
     "execution_count": 7,
     "metadata": {},
     "output_type": "execute_result"
    }
   ],
   "source": [
    "fpGrowth = FPGrowth(itemsCol=\"items\", minSupport=0.5, minConfidence=0.6)\n",
    "type(fpGrowth)\n",
    "dir(fpGrowth)\n",
    "fpGrowth"
   ]
  },
  {
   "cell_type": "code",
   "execution_count": null,
   "id": "e1e5a8ad",
   "metadata": {},
   "outputs": [],
   "source": [
    "\n",
    "model = fpGrowth.fit(df)\n",
    "\n",
    "# Display frequent itemsets.\n",
    "model.freqItemsets.show()\n",
    "\n",
    "# Display generated association rules.\n",
    "model.associationRules.show()\n",
    "\n",
    "# transform examines the input items against all the association rules and summarize the\n",
    "# consequents as prediction\n",
    "model.transform(df).show()"
   ]
  }
 ],
 "metadata": {
  "interpreter": {
   "hash": "bbe16ac06b6d4bacd07cf5564ffa86eb58e7e2ab169d83d01490a955ddfe1246"
  },
  "kernelspec": {
   "display_name": "Python 3.8.13 ('bdm')",
   "language": "python",
   "name": "python3"
  },
  "language_info": {
   "codemirror_mode": {
    "name": "ipython",
    "version": 3
   },
   "file_extension": ".py",
   "mimetype": "text/x-python",
   "name": "python",
   "nbconvert_exporter": "python",
   "pygments_lexer": "ipython3",
   "version": "3.8.13"
  }
 },
 "nbformat": 4,
 "nbformat_minor": 5
}
