{
 "cells": [
  {
   "cell_type": "code",
   "execution_count": 63,
   "id": "40395952-efee-4ce9-a21b-fe326add3ae5",
   "metadata": {},
   "outputs": [
    {
     "name": "stdout",
     "output_type": "stream",
     "text": [
      "The autoreload extension is already loaded. To reload it, use:\n",
      "  %reload_ext autoreload\n"
     ]
    }
   ],
   "source": [
    "%load_ext autoreload\n",
    "\n",
    "import warnings\n",
    "warnings.filterwarnings(\"ignore\") # disable warnings\n",
    "\n",
    "from os import listdir\n",
    "from os.path import join\n",
    "import csv, sys\n",
    "import dateutil.parser\n",
    "import pyspark as ps\n",
    "from pyspark.sql import functions as SF\n",
    "from pyspark import SparkContext\n",
    "from pyspark.sql import SparkSession, SQLContext\n",
    "from pyspark.sql.types import (StringType, DoubleType, TimestampType, NullType, IntegerType, StructType, StructField)\n",
    "\n",
    "from random import choice\n",
    "import names\n",
    "from hdfs import InsecureClient\n",
    "from functools import reduce\n",
    "from IPython.core.interactiveshell import InteractiveShell"
   ]
  },
  {
   "cell_type": "markdown",
   "id": "afed05d9",
   "metadata": {},
   "source": [
    "Config settings"
   ]
  },
  {
   "cell_type": "code",
   "execution_count": 18,
   "id": "8a97ebd1",
   "metadata": {},
   "outputs": [],
   "source": [
    "# For IPython\n",
    "\n",
    "InteractiveShell.ast_node_interactivity = \"all\" # To show all output after each cell execution (instead of the last output)\n",
    "\n",
    "# For HDFS\n",
    "HDFS_PORT = 9870\n",
    "HDFS_IP = \"10.4.41.81\"\n",
    "HDFS_HOSTNAME = \"alakazam.fib.upc.es\"\n",
    "HDFS_DEFAULT = \"hdfs://alakazam.fib.upc.es:27000\"\n",
    "HDFS_ADDRESS = \"http://{}:{}\".format(HDFS_IP, HDFS_PORT)\n",
    "HDFS_USER = \"bdm\"\n",
    "HDFS_HOME = \"/user/{}\".format(HDFS_USER)\n",
    "\n",
    "# For HDFS Path\n",
    "\n",
    "hdfs_home = \"{}{}\".format(HDFS_DEFAULT, HDFS_HOME)\n",
    "\n",
    "# For users\n",
    "users_dir = join(\"formatted_data\", \"users\")\n",
    "hdfs_location = \"{}/{}\".format(hdfs_home, users_dir)\n",
    "\n",
    "# For events\n",
    "activities_dir = \"{}/{}\".format(hdfs_home, join(\"formatted_data\", \"activities\"))\n",
    "culture_dir = \"{}/{}\".format(hdfs_home, join(\"formatted_data\", \"cultural_events\"))\n",
    "tourist_points_dir = \"{}/{}\".format(hdfs_home, join(\"formatted_data\", \"touristic_points\"))"
   ]
  },
  {
   "cell_type": "code",
   "execution_count": 19,
   "id": "3071a0e2",
   "metadata": {},
   "outputs": [
    {
     "data": {
      "text/plain": [
       "'hdfs://alakazam.fib.upc.es:27000/user/bdm/formatted_data/activities'"
      ]
     },
     "execution_count": 19,
     "metadata": {},
     "output_type": "execute_result"
    },
    {
     "data": {
      "text/plain": [
       "'hdfs://alakazam.fib.upc.es:27000/user/bdm/formatted_data/cultural_events'"
      ]
     },
     "execution_count": 19,
     "metadata": {},
     "output_type": "execute_result"
    },
    {
     "data": {
      "text/plain": [
       "'hdfs://alakazam.fib.upc.es:27000/user/bdm/formatted_data/touristic_points'"
      ]
     },
     "execution_count": 19,
     "metadata": {},
     "output_type": "execute_result"
    },
    {
     "data": {
      "text/plain": [
       "'hdfs://alakazam.fib.upc.es:27000/user/bdm/formatted_data/users'"
      ]
     },
     "execution_count": 19,
     "metadata": {},
     "output_type": "execute_result"
    }
   ],
   "source": [
    "activities_dir\n",
    "culture_dir\n",
    "tourist_points_dir\n",
    "hdfs_location"
   ]
  },
  {
   "cell_type": "code",
   "execution_count": 9,
   "id": "a6bcc837",
   "metadata": {},
   "outputs": [],
   "source": [
    "def get_hdfs_address():\n",
    "    return HDFS_ADDRESS\n",
    "\n",
    "def get_hdfs_user():\n",
    "    return HDFS_USER\n",
    "\n",
    "def get_hdfs_user_home():\n",
    "    return HDFS_HOME\n",
    "\n",
    "def get_hdfs_client():\n",
    "    return InsecureClient(url=get_hdfs_address(), user=get_hdfs_user())\n"
   ]
  },
  {
   "cell_type": "code",
   "execution_count": 24,
   "id": "ce436229",
   "metadata": {},
   "outputs": [],
   "source": [
    "def concat_dataframes(dfs):\n",
    "    \"\"\"\n",
    "    Concat multiple pyspark dataframe(s)\n",
    "\n",
    "    https://www.geeksforgeeks.org/concatenate-two-pyspark-dataframes/\n",
    "    \"\"\"\n",
    "    return reduce(lambda df1, df2: df1.union( df2.select( df1.columns ) ), dfs)"
   ]
  },
  {
   "cell_type": "code",
   "execution_count": 10,
   "id": "4bee5a98",
   "metadata": {},
   "outputs": [
    {
     "name": "stderr",
     "output_type": "stream",
     "text": [
      "WARNING: An illegal reflective access operation has occurred\n",
      "WARNING: Illegal reflective access by org.apache.spark.unsafe.Platform (file:/home/bdm/miniconda3/envs/bdm/lib/python3.8/site-packages/pyspark/jars/spark-unsafe_2.12-3.2.1.jar) to constructor java.nio.DirectByteBuffer(long,int)\n",
      "WARNING: Please consider reporting this to the maintainers of org.apache.spark.unsafe.Platform\n",
      "WARNING: Use --illegal-access=warn to enable warnings of further illegal reflective access operations\n",
      "WARNING: All illegal access operations will be denied in a future release\n",
      "Using Spark's default log4j profile: org/apache/spark/log4j-defaults.properties\n",
      "Setting default log level to \"WARN\".\n",
      "To adjust logging level use sc.setLogLevel(newLevel). For SparkR, use setLogLevel(newLevel).\n",
      "22/06/13 06:32:47 WARN NativeCodeLoader: Unable to load native-hadoop library for your platform... using builtin-java classes where applicable\n",
      "22/06/13 06:32:52 WARN Utils: Service 'SparkUI' could not bind on port 4040. Attempting port 4041.\n",
      "22/06/13 06:32:52 WARN Utils: Service 'SparkUI' could not bind on port 4041. Attempting port 4042.\n",
      "22/06/13 06:32:52 WARN Utils: Service 'SparkUI' could not bind on port 4042. Attempting port 4043.\n"
     ]
    }
   ],
   "source": [
    "spark = SparkSession.builder.appName(\"bdm5\").master('local').getOrCreate()\n",
    "sc = spark.sparkContext\n",
    "sqlContext = SQLContext(sc)"
   ]
  },
  {
   "cell_type": "code",
   "execution_count": 11,
   "id": "14e48560",
   "metadata": {},
   "outputs": [
    {
     "data": {
      "text/plain": [
       "<InsecureClient(url='http://10.4.41.81:9870')>"
      ]
     },
     "execution_count": 11,
     "metadata": {},
     "output_type": "execute_result"
    }
   ],
   "source": [
    "client = get_hdfs_client()\n",
    "client"
   ]
  },
  {
   "cell_type": "code",
   "execution_count": 12,
   "id": "8a267007",
   "metadata": {},
   "outputs": [],
   "source": [
    "def get_random_name():\n",
    "    \"\"\"\n",
    "    Generate her names\n",
    "    \"\"\"\n",
    "    return names.get_full_name()"
   ]
  },
  {
   "cell_type": "code",
   "execution_count": 14,
   "id": "bcbdb998",
   "metadata": {},
   "outputs": [
    {
     "data": {
      "text/plain": [
       "'Leola Odom'"
      ]
     },
     "execution_count": 14,
     "metadata": {},
     "output_type": "execute_result"
    }
   ],
   "source": [
    "get_random_name()"
   ]
  },
  {
   "cell_type": "code",
   "execution_count": 16,
   "id": "50009f58",
   "metadata": {},
   "outputs": [
    {
     "name": "stdout",
     "output_type": "stream",
     "text": [
      "No users\n"
     ]
    }
   ],
   "source": [
    "files = client.list(users_dir)\n",
    "if not len(files):\n",
    "    # no files\n",
    "    print(\"No users\")\n",
    "else:\n",
    "    df = sqlContext.read.parquet(hdfs_location)\n",
    "    df.show(10)"
   ]
  },
  {
   "cell_type": "code",
   "execution_count": 40,
   "id": "5d27a5db",
   "metadata": {},
   "outputs": [],
   "source": [
    "df_activities = sqlContext.read.parquet(activities_dir)\n",
    "df_culture = sqlContext.read.parquet(culture_dir)\n",
    "df_tourist_points = sqlContext.read.parquet(tourist_points_dir)"
   ]
  },
  {
   "cell_type": "code",
   "execution_count": 39,
   "id": "d96f9e53",
   "metadata": {},
   "outputs": [],
   "source": [
    "activities_type = SF.udf(lambda : \"activities\", StringType())\n",
    "culture_type = SF.udf(lambda : \"cultural events\", StringType())\n",
    "tourist_points_type = SF.udf(lambda : \"tourist points\", StringType())"
   ]
  },
  {
   "cell_type": "code",
   "execution_count": null,
   "id": "b2b92d37",
   "metadata": {},
   "outputs": [],
   "source": [
    "df_activities = df_activities.withColumn(\"type\", activities_type())\n",
    "df_culture = df_culture.withColumn(\"type\", culture_type())\n",
    "df_tourist_points = df_tourist_points.withColumn(\"type\", tourist_points_type())"
   ]
  },
  {
   "cell_type": "code",
   "execution_count": 91,
   "id": "e3735b6f",
   "metadata": {},
   "outputs": [],
   "source": [
    "df = concat_dataframes([df_activities, df_culture, df_tourist_points])"
   ]
  },
  {
   "cell_type": "code",
   "execution_count": 45,
   "id": "1cd30c9d",
   "metadata": {},
   "outputs": [
    {
     "name": "stderr",
     "output_type": "stream",
     "text": [
      "                                                                                \r"
     ]
    },
    {
     "name": "stdout",
     "output_type": "stream",
     "text": [
      "+------------+--------------------+------------------+-----------------+-------------------------+---------------------------+---------------------+-----------------------+-------------------+-----------------+--------------------+----------+\n",
      "| register_id|                name|   geo_epgs_4326_x|  geo_epgs_4326_y|addresses_neighborhood_id|addresses_neighborhood_name|addresses_district_id|addresses_district_name|addresses_road_name|addresses_road_id|           timestamp|      type|\n",
      "+------------+--------------------+------------------+-----------------+-------------------------+---------------------------+---------------------+-----------------------+-------------------+-----------------+--------------------+----------+\n",
      "|﻿99400169638|Visites guiades '...| 41.38666133472934|2.171438214409541|                        2|             el Barri Gòtic|                    1|           Ciutat Vella| Plaça de Catalunya|            74404|2022-06-11 13:26:...|activities|\n",
      "|﻿99400683221|'American Space. ...| 41.43451246069436|2.190888481599359|                       60|                Sant Andreu|                    9|            Sant Andreu|   Carrer del Segre|           322007|2022-06-11 13:26:...|activities|\n",
      "|﻿99400652028|Campus Olímpia Es...|   41.417043044689|2.173643558580499|                       35|                el Guinardó|                    7|         Horta-Guinardó|         C Telègraf|           332805|2022-06-11 13:26:...|activities|\n",
      "|﻿99400227760|\"Festa Major Baró...|41.447626594973904|2.201748594300489|                       58|              Baró de Viver|                    9|            Sant Andreu| Carrer de Clariana|            81206|2022-06-11 13:26:...|activities|\n",
      "+------------+--------------------+------------------+-----------------+-------------------------+---------------------------+---------------------+-----------------------+-------------------+-----------------+--------------------+----------+\n",
      "only showing top 4 rows\n",
      "\n"
     ]
    }
   ],
   "source": [
    "df.show(4)"
   ]
  },
  {
   "cell_type": "code",
   "execution_count": 47,
   "id": "e24ef077",
   "metadata": {},
   "outputs": [
    {
     "name": "stderr",
     "output_type": "stream",
     "text": [
      "                                                                                \r"
     ]
    },
    {
     "data": {
      "text/plain": [
       "3156"
      ]
     },
     "execution_count": 47,
     "metadata": {},
     "output_type": "execute_result"
    },
    {
     "name": "stderr",
     "output_type": "stream",
     "text": [
      "                                                                                \r"
     ]
    },
    {
     "data": {
      "text/plain": [
       "2364"
      ]
     },
     "execution_count": 47,
     "metadata": {},
     "output_type": "execute_result"
    },
    {
     "name": "stderr",
     "output_type": "stream",
     "text": [
      "                                                                                \r"
     ]
    },
    {
     "data": {
      "text/plain": [
       "855"
      ]
     },
     "execution_count": 47,
     "metadata": {},
     "output_type": "execute_result"
    },
    {
     "name": "stderr",
     "output_type": "stream",
     "text": [
      "                                                                                \r"
     ]
    },
    {
     "data": {
      "text/plain": [
       "6375"
      ]
     },
     "execution_count": 47,
     "metadata": {},
     "output_type": "execute_result"
    }
   ],
   "source": [
    "df_activities.count()\n",
    "df_culture.count()\n",
    "df_tourist_points.count()\n",
    "df.count()"
   ]
  },
  {
   "cell_type": "code",
   "execution_count": 61,
   "id": "3325028d",
   "metadata": {},
   "outputs": [],
   "source": [
    "users = [get_random_name() for i in range(0, 10)]"
   ]
  },
  {
   "cell_type": "code",
   "execution_count": 62,
   "id": "c7afd60d",
   "metadata": {},
   "outputs": [
    {
     "data": {
      "text/plain": [
       "['David Smith',\n",
       " 'Donald Roberts',\n",
       " 'Betty Mannino',\n",
       " 'Mildred Chong',\n",
       " 'Edith Tibbles',\n",
       " 'Tony Barlow',\n",
       " 'Antonia Jernigan',\n",
       " 'Mickey Broadnax',\n",
       " 'Francisco Wyatt',\n",
       " 'Junior Fulton']"
      ]
     },
     "execution_count": 62,
     "metadata": {},
     "output_type": "execute_result"
    }
   ],
   "source": [
    "users"
   ]
  },
  {
   "cell_type": "code",
   "execution_count": 92,
   "id": "a2f09a8d",
   "metadata": {},
   "outputs": [],
   "source": [
    "generate_random = SF.udf(lambda : choice(users), StringType())"
   ]
  },
  {
   "cell_type": "code",
   "execution_count": 93,
   "id": "6ab02f23",
   "metadata": {},
   "outputs": [],
   "source": [
    "df = df.withColumn(\"user\", generate_random())"
   ]
  },
  {
   "cell_type": "code",
   "execution_count": null,
   "id": "75f57417",
   "metadata": {},
   "outputs": [],
   "source": [
    "df.show(10)"
   ]
  },
  {
   "cell_type": "code",
   "execution_count": 48,
   "id": "b0757887",
   "metadata": {},
   "outputs": [],
   "source": [
    "df_rdd = df.rdd.sample(False, 0.1, 0)"
   ]
  },
  {
   "cell_type": "code",
   "execution_count": 53,
   "id": "0d519033",
   "metadata": {},
   "outputs": [
    {
     "name": "stderr",
     "output_type": "stream",
     "text": [
      "                                                                                \r"
     ]
    },
    {
     "data": {
      "text/plain": [
       "641"
      ]
     },
     "execution_count": 53,
     "metadata": {},
     "output_type": "execute_result"
    }
   ],
   "source": [
    "df_rdd.count()"
   ]
  },
  {
   "cell_type": "code",
   "execution_count": 54,
   "id": "8567ae78",
   "metadata": {},
   "outputs": [],
   "source": [
    "    generate_random = SF.udf(lambda : get_random_name(), StringType())"
   ]
  },
  {
   "cell_type": "code",
   "execution_count": 55,
   "id": "439dbf97",
   "metadata": {},
   "outputs": [],
   "source": [
    "df = df.withColumn(\"user\", generate_random())"
   ]
  },
  {
   "cell_type": "code",
   "execution_count": 94,
   "id": "47f29819",
   "metadata": {},
   "outputs": [
    {
     "name": "stdout",
     "output_type": "stream",
     "text": [
      "root\n",
      " |-- register_id: string (nullable = true)\n",
      " |-- name: string (nullable = true)\n",
      " |-- geo_epgs_4326_x: string (nullable = true)\n",
      " |-- geo_epgs_4326_y: string (nullable = true)\n",
      " |-- addresses_neighborhood_id: string (nullable = true)\n",
      " |-- addresses_neighborhood_name: string (nullable = true)\n",
      " |-- addresses_district_id: string (nullable = true)\n",
      " |-- addresses_district_name: string (nullable = true)\n",
      " |-- addresses_road_name: string (nullable = true)\n",
      " |-- addresses_road_id: string (nullable = true)\n",
      " |-- timestamp: timestamp (nullable = true)\n",
      " |-- type: string (nullable = true)\n",
      " |-- user: string (nullable = true)\n",
      "\n"
     ]
    }
   ],
   "source": [
    "df.printSchema()"
   ]
  },
  {
   "cell_type": "code",
   "execution_count": 68,
   "id": "28792067",
   "metadata": {},
   "outputs": [],
   "source": [
    "df = df.select([\"user\", \"type\", \"name\"])"
   ]
  },
  {
   "cell_type": "code",
   "execution_count": 69,
   "id": "a101d6cd",
   "metadata": {},
   "outputs": [],
   "source": [
    "df = df.sample(withReplacement=True, fraction=0.5, seed=3)"
   ]
  },
  {
   "cell_type": "code",
   "execution_count": 85,
   "id": "df70f6dc",
   "metadata": {},
   "outputs": [],
   "source": [
    "from pyspark.ml.fpm import FPGrowth\n"
   ]
  },
  {
   "cell_type": "code",
   "execution_count": 82,
   "id": "45ca18eb",
   "metadata": {},
   "outputs": [],
   "source": [
    "d = df.groupBy(\"user\").agg(SF.collect_list(\"name\").alias(\"items\"))"
   ]
  },
  {
   "cell_type": "code",
   "execution_count": 86,
   "id": "17edf0a5",
   "metadata": {},
   "outputs": [],
   "source": [
    "d = d.select(\"items\")"
   ]
  },
  {
   "cell_type": "code",
   "execution_count": 87,
   "id": "9f77977b",
   "metadata": {},
   "outputs": [],
   "source": [
    "fp = FPGrowth(minSupport=0.2, minConfidence=0.7)"
   ]
  },
  {
   "cell_type": "code",
   "execution_count": 88,
   "id": "9c8e60be",
   "metadata": {},
   "outputs": [
    {
     "name": "stderr",
     "output_type": "stream",
     "text": [
      "22/06/13 08:13:47 ERROR Executor: Exception in task 0.0 in stage 78.0 (TID 715) \n",
      "org.apache.spark.SparkException: Items in a transaction must be unique but got WrappedArray(Torneig de videojocs: Clash Royale, Campus Olímpia Específic de bàsquet 'Game Time' per a adolescents de 11 a 17 anys a la Pistes Poliesportives Municipals Parc de la Maquinista, 'Assaig en companyia', amb la Companyia Juvenil de Ballet clàssic de Catalunya, Dinar casalero, Dinar casalero, Visites exprés gratuïtes: '11 de setembre, memòria d’una desfeta', Espectacle “Orpheus”, a càrrec d’”Insectotròpics”, Fira d'Entitats i Comercial, Fira d'Entitats i Comercial, Casal d'estiu 'Mitjans' per a infants de 7 a 10 anys a l'Escola Pia Sant Antoni, Congrés \"Global Public Transport Summit\", Taller híbrid 'Ioga en família. Infants de 4 a 9 anys', 'Contes orientals', 'Contes a la mà', a càrrec de Marta Catalán, Mapping al Palau Güell 'Parabòlic Gaudí', Mapping al Palau Güell 'Parabòlic Gaudí', Espectacle \"A los 30 lo petamos\", Activitats dia 14 de juny, Concert \"Uriah Heep\", Concert \"Uriah Heep\", Concert \"A Nou Barris donem la nota\", a càrrec de la Banda Simfònica de Roquetes - Nou Barris, Exposició \"Igualtat de gènere i objectius de desenvolupament sostenible\" Empoderament de la dona, Taller 'Ceràmica: Fes el teu animal imaginari', Exposició 'Turner. La llum és color', Exposició 'Turner. La llum és color', Exposició 'La grandesa del que és senzill: mobles del Monestir de Pedralbes', Casal d'estiu 'Els 7 misteris perduts de l'Arenal' per a infants i adolescents de 6 a 14 anys a l'Escola L'Arenal de Llevant, Calendari d'obertura de comerços en diumenges i dies festius 2022, Concert \"Milton Nascimento\", Concert \"Milton Nascimento\", Espectacle \"Calladitas estáis más guapas\", Espectacle \"Calladitas estáis más guapas\", Exposició 'Unsafe', Exposició 'Més que abelles. Pol·linitzadors i flors, la vida en joc', Concert \"Sinatra & Jobim Project\", Concert \"Sinatra & Jobim Project\", Concert \"Andrés Calamaro\", I si no estimem els nostres cossos? Parlem dels Trastorns de la Conducta Alimentària, Precampus Olímpia per a infants de 3 a 5 anys al CEM Cotxeres Borbó, Precampus Olímpia per a infants de 3 a 5 anys al CEM Cotxeres Borbó, Contes a cau d'orella, Exposició 'Lab Math' *Suspès, Patis escolars oberts al barri - Escola Bressol Municipal La Mar, Taller 'Sevillanes', Taller 'Sevillanes', Espectacle \"La pell Rosetta\", Arribada de l' \"Ultra Clean Marathon\", Casal d'estiu 'Grans' per a infants i adolescents de 10 a 14 anys a l'Escola Pia Sant Antoni, Casal d'estiu 'Grans' per a infants i adolescents de 10 a 14 anys a l'Escola Pia Sant Antoni, Taller temàtic combinat 'COA Besòs' per a adolescents de 12 a 16  anys a l'Institut Besòs, Campus Olímpia Poliesportiu per a infants de 6 a 8 anys al CEM Can Ricart, Fira del Col·leccionisme de la Zona Nord, Casal d'estiu per a infants i adolescents de 3 a 14 anys a l'Escola Parc de la Ciutadella, Casal d'estiu per a infants i adolescents de 3 a 14 anys a l'Escola Immaculada Concepció d'Horta, Espectacle \"Riot Comedy\", Espectacle \"Riot Comedy\", Jornada \"Déjate ser y carnaval trans\", 'Alegria', a càrrec d'Olga Rodríguez, Precampus Olímpia per a infants 3 a 5 anys al CEM Olímpics de la Vall d'Hebron, Casal d'estiu per a infants i adolescents de 5 a 12 anys al Casal Parroquial del Crist Rei, Concert 'Festival Simfònic', Concert 'Festival Simfònic', Campus Olímpia Específic 'Pàdel' per a infants i adolescents de 9 a 16 anys al CEM  Bon Pastor, Festival \"The authentic italian table\", Festival \"The authentic italian table\", Visites guiades sobre la història arquitectònica del Pavelló de la República, Exposició 'Objectiu Dona: Maternar' de Lisi Andrés Palacios, Bressol d'estiu per a infants d'1 a 3 anys a l'EBM La Fassina, Campus Olímpia de natura per a infants i adolescents de 11 a 16 anys a l'Ins Doctor Puigvert, Patis escolars oberts al barri - Escola Mercè Rodoreda, Patis escolars oberts al barri - Escola Mercè Rodoreda, Espectacle \"Replecs\", a càrrec de la Cia. Isabel Vinardell, 'Activa't als parcs' als Jardins de la Maternitat, 'Activa't als parcs' als Jardins de la Maternitat, 'Sarrià i els sarrianencs de fa 100 anys', Bressol d'estiu per a infants de 1 a 3 anys a l'EBM Ralet, Bressol d'estiu per a infants de 1 a 3 anys a l'EBM Ralet, Patis escolars oberts al barri  - Escola Reina Violant, Exposició 'Interrogar Barcelona. De la industrialització al segle XXI', Exposició \"Entourage\", d'Enric Tormo, Taller familiar 'Kangeroo (mares amb nadó i embarassades)', Campus Olímpia Específic 'Summer dance' per a infants i adolescents de 7 a 16 anys a l'Escola Els Llorers, Campus Olímpia Específic 'Summer dance' per a infants i adolescents de 7 a 16 anys a l'Escola Els Llorers, Acte de districte pel Dia Internacional contra l'Lgtbifòbia', Complex Esportiu Municipal Pau Negre - Parc Migdia, Fira Espai d'Art a l'avinguda Diagonal, Casal d'Estiu 'Un estiu de pel·lícula' per a infants de 3 a 5 anys a a l'Escola Can Fabra, Espectacle \"Cobalto. Laila Tafur i Alba Rihe\", 'Còmics', 'Còmics', Patis escolars oberts al barri - Escola Vila Olímpica, Patis escolars oberts al barri - Escola Pau Romeva, Patis escolars oberts al barri - Escola Pau Romeva, Concert \"Companyia Elèctrica Dharma\", Activitats familiars, Bressol d'estiu per a infants de 1 a 3 anys a l'EBM Puigmal, Casal d'estiu 'Enriquezarte' per a infants i adolescents de 3 a 12 anys a Centre Cultural EnriquezArte, Taller 'Percussió corporal', a càrrec de Sol Re Percussió, Campaments d’estiu 'Tria' per a adolescents de 12 a 17 anys, Campus Olímpia Específic 'Futbol' per a infants i adolescents de 7 a 16 anys al CEM Fort Pienc, Taller 'Posa’t a prova amb l’STEAM (9 a 12 anys)', Espectacle \"¿Estamos programados?\", a càrrec de Magno El Mentalista, Precampus Olímpia per a infants de 4 a 6 anys al Poliesportiu La Marina, Concert \"The Beach Boys\", Concert \"The Bea"
     ]
    },
    {
     "ename": "Py4JJavaError",
     "evalue": "An error occurred while calling o527.fit.\n: org.apache.spark.SparkException: Job aborted due to stage failure: Task 0 in stage 78.0 failed 1 times, most recent failure: Lost task 0.0 in stage 78.0 (TID 715) (alakazam.fib.upc.es executor driver): org.apache.spark.SparkException: Items in a transaction must be unique but got WrappedArray(Torneig de videojocs: Clash Royale, Campus Olímpia Específic de bàsquet 'Game Time' per a adolescents de 11 a 17 anys a la Pistes Poliesportives Municipals Parc de la Maquinista, 'Assaig en companyia', amb la Companyia Juvenil de Ballet clàssic de Catalunya, Dinar casalero, Dinar casalero, Visites exprés gratuïtes: '11 de setembre, memòria d’una desfeta', Espectacle “Orpheus”, a càrrec d’”Insectotròpics”, Fira d'Entitats i Comercial, Fira d'Entitats i Comercial, Casal d'estiu 'Mitjans' per a infants de 7 a 10 anys a l'Escola Pia Sant Antoni, Congrés \"Global Public Transport Summit\", Taller híbrid 'Ioga en família. Infants de 4 a 9 anys', 'Contes orientals', 'Contes a la mà', a càrrec de Marta Catalán, Mapping al Palau Güell 'Parabòlic Gaudí', Mapping al Palau Güell 'Parabòlic Gaudí', Espectacle \"A los 30 lo petamos\", Activitats dia 14 de juny, Concert \"Uriah Heep\", Concert \"Uriah Heep\", Concert \"A Nou Barris donem la nota\", a càrrec de la Banda Simfònica de Roquetes - Nou Barris, Exposició \"Igualtat de gènere i objectius de desenvolupament sostenible\" Empoderament de la dona, Taller 'Ceràmica: Fes el teu animal imaginari', Exposició 'Turner. La llum és color', Exposició 'Turner. La llum és color', Exposició 'La grandesa del que és senzill: mobles del Monestir de Pedralbes', Casal d'estiu 'Els 7 misteris perduts de l'Arenal' per a infants i adolescents de 6 a 14 anys a l'Escola L'Arenal de Llevant, Calendari d'obertura de comerços en diumenges i dies festius 2022, Concert \"Milton Nascimento\", Concert \"Milton Nascimento\", Espectacle \"Calladitas estáis más guapas\", Espectacle \"Calladitas estáis más guapas\", Exposició 'Unsafe', Exposició 'Més que abelles. Pol·linitzadors i flors, la vida en joc', Concert \"Sinatra & Jobim Project\", Concert \"Sinatra & Jobim Project\", Concert \"Andrés Calamaro\", I si no estimem els nostres cossos? Parlem dels Trastorns de la Conducta Alimentària, Precampus Olímpia per a infants de 3 a 5 anys al CEM Cotxeres Borbó, Precampus Olímpia per a infants de 3 a 5 anys al CEM Cotxeres Borbó, Contes a cau d'orella, Exposició 'Lab Math' *Suspès, Patis escolars oberts al barri - Escola Bressol Municipal La Mar, Taller 'Sevillanes', Taller 'Sevillanes', Espectacle \"La pell Rosetta\", Arribada de l' \"Ultra Clean Marathon\", Casal d'estiu 'Grans' per a infants i adolescents de 10 a 14 anys a l'Escola Pia Sant Antoni, Casal d'estiu 'Grans' per a infants i adolescents de 10 a 14 anys a l'Escola Pia Sant Antoni, Taller temàtic combinat 'COA Besòs' per a adolescents de 12 a 16  anys a l'Institut Besòs, Campus Olímpia Poliesportiu per a infants de 6 a 8 anys al CEM Can Ricart, Fira del Col·leccionisme de la Zona Nord, Casal d'estiu per a infants i adolescents de 3 a 14 anys a l'Escola Parc de la Ciutadella, Casal d'estiu per a infants i adolescents de 3 a 14 anys a l'Escola Immaculada Concepció d'Horta, Espectacle \"Riot Comedy\", Espectacle \"Riot Comedy\", Jornada \"Déjate ser y carnaval trans\", 'Alegria', a càrrec d'Olga Rodríguez, Precampus Olímpia per a infants 3 a 5 anys al CEM Olímpics de la Vall d'Hebron, Casal d'estiu per a infants i adolescents de 5 a 12 anys al Casal Parroquial del Crist Rei, Concert 'Festival Simfònic', Concert 'Festival Simfònic', Campus Olímpia Específic 'Pàdel' per a infants i adolescents de 9 a 16 anys al CEM  Bon Pastor, Festival \"The authentic italian table\", Festival \"The authentic italian table\", Visites guiades sobre la història arquitectònica del Pavelló de la República, Exposició 'Objectiu Dona: Maternar' de Lisi Andrés Palacios, Bressol d'estiu per a infants d'1 a 3 anys a l'EBM La Fassina, Campus Olímpia de natura per a infants i adolescents de 11 a 16 anys a l'Ins Doctor Puigvert, Patis escolars oberts al barri - Escola Mercè Rodoreda, Patis escolars oberts al barri - Escola Mercè Rodoreda, Espectacle \"Replecs\", a càrrec de la Cia. Isabel Vinardell, 'Activa't als parcs' als Jardins de la Maternitat, 'Activa't als parcs' als Jardins de la Maternitat, 'Sarrià i els sarrianencs de fa 100 anys', Bressol d'estiu per a infants de 1 a 3 anys a l'EBM Ralet, Bressol d'estiu per a infants de 1 a 3 anys a l'EBM Ralet, Patis escolars oberts al barri  - Escola Reina Violant, Exposició 'Interrogar Barcelona. De la industrialització al segle XXI', Exposició \"Entourage\", d'Enric Tormo, Taller familiar 'Kangeroo (mares amb nadó i embarassades)', Campus Olímpia Específic 'Summer dance' per a infants i adolescents de 7 a 16 anys a l'Escola Els Llorers, Campus Olímpia Específic 'Summer dance' per a infants i adolescents de 7 a 16 anys a l'Escola Els Llorers, Acte de districte pel Dia Internacional contra l'Lgtbifòbia', Complex Esportiu Municipal Pau Negre - Parc Migdia, Fira Espai d'Art a l'avinguda Diagonal, Casal d'Estiu 'Un estiu de pel·lícula' per a infants de 3 a 5 anys a a l'Escola Can Fabra, Espectacle \"Cobalto. Laila Tafur i Alba Rihe\", 'Còmics', 'Còmics', Patis escolars oberts al barri - Escola Vila Olímpica, Patis escolars oberts al barri - Escola Pau Romeva, Patis escolars oberts al barri - Escola Pau Romeva, Concert \"Companyia Elèctrica Dharma\", Activitats familiars, Bressol d'estiu per a infants de 1 a 3 anys a l'EBM Puigmal, Casal d'estiu 'Enriquezarte' per a infants i adolescents de 3 a 12 anys a Centre Cultural EnriquezArte, Taller 'Percussió corporal', a càrrec de Sol Re Percussió, Campaments d’estiu 'Tria' per a adolescents de 12 a 17 anys, Campus Olímpia Específic 'Futbol' per a infants i adolescents de 7 a 16 anys al CEM Fort Pienc, Taller 'Posa’t a prova amb l’STEAM (9 a 12 anys)', Espectacle \"¿Estamos programados?\", a càrrec de Magno El Mentalista, Precampus Olímpia per a infants de 4 a 6 anys al Poliesportiu La Marina, Concert \"The Beach Boys\", Concert \"The Beach Boys\", Projecció del documental \"La maleta de Mauthausen\", Concert de l’Orquestra Simfònica de Barcelona i Nacional de Catalunya (OBC) i Alba G. Corral, Concert \"Coque Malla\", Taller 'Relats de viatge: mirades a través de la literatura' *NOU*, Campanya solidària per becar colònies i casals d'infants sense recursos, Casal d'estiu 'Juguem amb l'art' per a infants i adolescents de 3 a 12 anys de L'Escola Mediterrània, Joc virtual 'La natura en històries', XVII Obrador d'Estiu de la Sala Beckett, Club de lectura de literatura asiàtica “La historia interminable\" de Michael Ende, Casal d'estiu per a infants i adolescents de 3 a 12 anys a l'Escola Ferran Sunyer, Concert \"August Tharrats Trio\", Concert \"August Tharrats Trio\", Concert \"August Tharrats Trio\", Visites a l'arxiu Joan Maragall, Casal d'estiu per a infants i adolescents de 3 a 12 anys de l'Escola Sant Martí, Fira del Llibre Vell a la Plaça de Sarrià, Fira Artesanal de l'Associació Sabors Catalans a la Rambla Guipúscoa, Taller 'Còmic (8-12 anys)', Xerrada 'L’evidència genòmica de l’evolució humana', Arribada de la Flama del Canigó a La Marina, Visites a l'Ajuntament de Barcelona, Visites a l'Ajuntament de Barcelona, Casal d'estiu 'Les històries de la senyora Antonieta i el senyor Pepituu' per a infants i adolescents de 3 a 12 anys a l'Escola l'Estel, Casal d'estiu per a infants i adolescents de 3 a 12 anys a l'Escola Vila Olímpica, Casal d'estiu per a infants i adolescents de 3 a 12 anys a l'Escola Vila Olímpica, Cinefòrum. Projecció del documental \"Seaspiracy: La Pesca Insostenible\", Caminada 'Parc de La Ciutadella', Patis escolars oberts al barri - Institut Barcelona Congrés, Exposició 'Casa Àfrica: Migrar, habitar i resistir', Campus Olímpia Poliesportiu per a infants i adolescents de 6 a 17 anys al CEM Maresme, Espai d'interpretació 'Sirenes en TRANSsit', Taller: El Pas a l'adolescència, Taller: El Pas a l'adolescència, Taller 'Iniciació al teatre' *NOU*, Correfoc, Exposició 'Mika Vainio. Sondear', Itinerari 'Més enllà del Quadrat d'Or: l'Eixample més desconegut', Escalem al Pou, Matí d'esports, Cosmètica natural, Joc de pistes 'Tauromaníacs', Cicle de concerts 'Dijous Jazz a les Corts', \"Taller 'Processos alternatius. Cianotípia, Concerts i audicions del carilló del Palau de la Generalitat, Taller 'Teatre per adults', Taller híbrid 'Orquestra d'Ukeleles', Taller híbrid 'Orquestra d'Ukeleles', Taller híbrid 'Orquestra d'Ukeleles', \"Mostra de la Biennal d’art \"\"El Venadito\"\". 4a Edició Primats\", \"Mostra de la Biennal d’art \"\"El Venadito\"\". 4a Edició Primats\", Taller 'Viatge als orígens', \"Concert \"\"Andrés Calamaro\"\"\", Conferència 'La relació de parella amb l'arribada dels fills i filles', Conferència 'La relació de parella amb l'arribada dels fills i filles', Taller temàtic imatge 'Captura el moviment' per a adolescents de 14 a 17 anys a la Fundació Mans a les Mans, Taller temàtic imatge 'Captura el moviment' per a adolescents de 14 a 17 anys a la Fundació Mans a les Mans, Taller 'Amanides per al bon temps' *Nou*, Seminari 'Gestionar l'estrès amb l'alimentació', Seminari 'Gestionar l'estrès amb l'alimentació', \"Concert \"\"Sopa de Cabra. 30 Anys Ben Endins\"\"\", \"Espectacle \"\"The Musical Box. Performing Genesis 'The Lamb Lies Down On Broadway'\"\"\", Taller 'Ioguilates', Taller 'Laca jaonesa', Taller 'Guitarra - Rumba i buleria', Taller 'Guitarra - Rumba i buleria', \"Concert \"\"ZA! & la TransMegaCobla\"\", Taller 'Retrats per a persones adultes', Taller cultural 'El cinema i les arts: influències de la pintura a la gran pantalla' *NOU*, \"\"\"Barna'n'Roll\"\" a Razzmatazz (Warm Up Party)\", Taller 'Gimnàstica GAC', Taller 'Revelat digital'  *NOU*, Taller cultural ' Història d´Europa a través de les seves obres d'art', Taller 'Biodansa', Taller 'Biodansa', Taller 'Iniciació al dibuix', Taller 'Iniciació al dibuix', Taller 'Fitnes Dance', Taller 'Fitnes Dance', Taller 'Fitnes Dance', Taller 'Sevillanes', Seminari 'Iniciació a la màquina de cosir. Nivell II', Taller 'Costura bàsica i patronatge', Taller 'Costura bàsica i patronatge', Taller 'Tècniques de dibuix', Taller 'Zumba', Taller 'Zumba', \"Concert \"\"Diana Krall\"\"\", Taller 'Mètode pilates', Taller 'Ioga per a Gent Gran', Dates, Taller per a la gent gran 'Informàtica des de zero', Taller per a dones “El cos escriptor”. Laboratori anual de creació escènica, Taller 'Cuina street food vegana matí' (sense ingredients d’origen animal), Taller 'Cuina street food vegana matí' (sense ingredients d’origen animal), \"Concert \"\"Manolo García\"\"\", \"Projecció de pel•lícula + col•loqui \"\"Las hijas del fuego\"\"\", \"Concert \"\"Jorge Drexler\"\"\", \"Concert \"\"Jorge Drexler\"\"\", \"Concert \"\"Madness\"\"\", \"Concert \"\"Madness\"\"\", Exposició 'Mare Natura', \"Òpera \"\"Die Zauberflöte (La Flauta Màgica)\"\", Catifa floral a la Parròquia de Santa Maria del Remei, Taller 'Art crític', \"Concert \"\"VV\"\"\", Taller 'Llengua de signes en família', Taller 'Llengua de signes en família', Xerrada 'L'accés a l'invisible', Taller 'Anglès des de zero', Taller 'Dibuix', \"Concert \"\"The Txandals\"\"\", Taller 'Photoshop (iniciació)', Taller 'Percussió corporal' *NOU*, Taller 'Percussió corporal' *NOU*, Exposició 'Subirachs. Retorn al Poblenou', Taller 'Restauració de mobles', Taller 'Cuina fresca de temporada', Taller 'Club de lectura', Taller 'Club de lectura', \"Exposició 'Firma', Concert 'Brutal', Taller 'Ballet barre', \"Concert \"\"Steve Vai\"\"\", Taller 'Ioga', Xerrades de teleassistència, Xerrades de teleassistència, \"Concert solidari \"\"Ladilla Rusa + Pirat's Sound Sistema + Chalart58 & Matah +Elane i més\"\"\", \"Taller 'Circ, Taller 'Pilates', \"Exposició 'Casa Àfrica: Migrar, Taller 'Urban sketching', Taller cultural 'L'art gòtic: l´Europa de le catedrals', Taller cultural 'L'art gòtic: l´Europa de le catedrals', Taller 'Balls de saló avançat', Taller en línia 'Hatha ioga per a dones', Taller 'Cuina fresca i acolorida' *Nou*, \"Taller \"\"Body-balance\"\"\", \"Taller \"\"Body-balance\"\"\", Taller voluntari 'Pintura sobre roba', \"Concert \"\"Arnau Griso\"\"\", Taller 'Escriptura creativa', Cicle líric 'Les veus del monestir', Taller 'Dansa polinèsia', Taller 'Aprèn a parlar en públic', Taller 'Clàssics indiscutibles de la història del cinema'' *NOU*, Taller 'Processos fotogràfics de creació artística' *NOU*', Taller 'Processos fotogràfics de creació artística' *NOU*', Taller 'Iniciació a la guitarra acústica', \"Concert a benefici de Xamfrà \"\"Manu Guix i Amics\"\"\", Taller 'Sòl pelvià i abdominals hipopressives' *NOU*, Taller per gent gran 'Hama', creArte: Coneixem les emocions a partir de la fotografia i el collage, \"Concert Jazztrònica XS \"\"Pol Omedes - Pura Vida\"\"\", Festival Hipnotik 2022, Festival Hipnotik 2022, \"Exposició '25 anys de la Universitat de Vic – UCC: Persones, \"Concert \"\"Mac DeMarco\"\"\", Exposició 'Tàpies. Malenconia', \"Concert \"\"Jacky Terrasson Trio\"\"\", Cicle de concerts al Hortet de la Farga, \"Concert \"\"Echo & Bunnymen\"\"\", Taller 'Gimnàstica dolça per a persones més grans de 60 anys', Sessions obertes de Dansa Lliure, Taller híbrid: 'Ioga hatha integral' *NOU*, Gran Festa Verdaguer 2022, \"Concert \"\"Jessie J\"\"\", \"Correllengua, Casa Martí Trias i Domènech, Casa Claudi Alsina, La Muralla Romana, Parc de la Font Florida, Funicular Tibidabo - Cuca de Llum, Fundació Barcelona Media - Centre d'Innovació, Plaça del Nen de la Rutlla, Plaça del Nen de la Rutlla, Casa Serra, Casa Serra, Col·legi Oficial de Metges de Barcelona, Col·legi Oficial de Metges de Barcelona, Consell Municipal del Districte de Sant Andreu, Consell Municipal del Districte de Sant Andreu, Consell Municipal del Districte de Sant Andreu, Torre d'Aigües de Carrasco i Formiguera, Carrer Aiguafreda, Casa Vidal, El Congrés i els Indians, Casa Pomar, Turó Park - Parc del Poeta Eduard Marquina, Casa Eudald Obradors, Casa Eudald Obradors, La plaça de Ramon M. Roca i Sastre, Club Natació Atlètic - Barceloneta, Casa Rubinat, Casa Rubinat, L'Estació dels FGC de Sarrià, La Vila Olímpica, Parc Carmel, Parc Carmel, La plaça de Comas, Placa Fotovoltaica, Cementiri d'Horta, Cementiri d'Horta, Parròquia de la Mare de Déu del Coll, Parròquia de la Mare de Déu del Coll, Parròquia de Sant Ramon Nonat, Castell de Torre Baró, Castell de Torre Baró, Parc del Mirador del Poble-sec, Parc del Mirador del Poble-sec, El Raval, La Casa de l'Aigua).\n\tat org.apache.spark.mllib.fpm.FPGrowth.$anonfun$genFreqItems$1(FPGrowth.scala:249)\n\tat scala.collection.Iterator$$anon$11.nextCur(Iterator.scala:486)\n\tat scala.collection.Iterator$$anon$11.hasNext(Iterator.scala:492)\n\tat scala.collection.Iterator$$anon$10.hasNext(Iterator.scala:460)\n\tat org.apache.spark.util.collection.ExternalSorter.insertAll(ExternalSorter.scala:197)\n\tat org.apache.spark.shuffle.sort.SortShuffleWriter.write(SortShuffleWriter.scala:63)\n\tat org.apache.spark.shuffle.ShuffleWriteProcessor.write(ShuffleWriteProcessor.scala:59)\n\tat org.apache.spark.scheduler.ShuffleMapTask.runTask(ShuffleMapTask.scala:99)\n\tat org.apache.spark.scheduler.ShuffleMapTask.runTask(ShuffleMapTask.scala:52)\n\tat org.apache.spark.scheduler.Task.run(Task.scala:131)\n\tat org.apache.spark.executor.Executor$TaskRunner.$anonfun$run$3(Executor.scala:506)\n\tat org.apache.spark.util.Utils$.tryWithSafeFinally(Utils.scala:1462)\n\tat org.apache.spark.executor.Executor$TaskRunner.run(Executor.scala:509)\n\tat java.base/java.util.concurrent.ThreadPoolExecutor.runWorker(ThreadPoolExecutor.java:1128)\n\tat java.base/java.util.concurrent.ThreadPoolExecutor$Worker.run(ThreadPoolExecutor.java:628)\n\tat java.base/java.lang.Thread.run(Thread.java:829)\n\nDriver stacktrace:\n\tat org.apache.spark.scheduler.DAGScheduler.failJobAndIndependentStages(DAGScheduler.scala:2454)\n\tat org.apache.spark.scheduler.DAGScheduler.$anonfun$abortStage$2(DAGScheduler.scala:2403)\n\tat org.apache.spark.scheduler.DAGScheduler.$anonfun$abortStage$2$adapted(DAGScheduler.scala:2402)\n\tat scala.collection.mutable.ResizableArray.foreach(ResizableArray.scala:62)\n\tat scala.collection.mutable.ResizableArray.foreach$(ResizableArray.scala:55)\n\tat scala.collection.mutable.ArrayBuffer.foreach(ArrayBuffer.scala:49)\n\tat org.apache.spark.scheduler.DAGScheduler.abortStage(DAGScheduler.scala:2402)\n\tat org.apache.spark.scheduler.DAGScheduler.$anonfun$handleTaskSetFailed$1(DAGScheduler.scala:1160)\n\tat org.apache.spark.scheduler.DAGScheduler.$anonfun$handleTaskSetFailed$1$adapted(DAGScheduler.scala:1160)\n\tat scala.Option.foreach(Option.scala:407)\n\tat org.apache.spark.scheduler.DAGScheduler.handleTaskSetFailed(DAGScheduler.scala:1160)\n\tat org.apache.spark.scheduler.DAGSchedulerEventProcessLoop.doOnReceive(DAGScheduler.scala:2642)\n\tat org.apache.spark.scheduler.DAGSchedulerEventProcessLoop.onReceive(DAGScheduler.scala:2584)\n\tat org.apache.spark.scheduler.DAGSchedulerEventProcessLoop.onReceive(DAGScheduler.scala:2573)\n\tat org.apache.spark.util.EventLoop$$anon$1.run(EventLoop.scala:49)\n\tat org.apache.spark.scheduler.DAGScheduler.runJob(DAGScheduler.scala:938)\n\tat org.apache.spark.SparkContext.runJob(SparkContext.scala:2214)\n\tat org.apache.spark.SparkContext.runJob(SparkContext.scala:2235)\n\tat org.apache.spark.SparkContext.runJob(SparkContext.scala:2254)\n\tat org.apache.spark.SparkContext.runJob(SparkContext.scala:2279)\n\tat org.apache.spark.rdd.RDD.$anonfun$collect$1(RDD.scala:1030)\n\tat org.apache.spark.rdd.RDDOperationScope$.withScope(RDDOperationScope.scala:151)\n\tat org.apache.spark.rdd.RDDOperationScope$.withScope(RDDOperationScope.scala:112)\n\tat org.apache.spark.rdd.RDD.withScope(RDD.scala:414)\n\tat org.apache.spark.rdd.RDD.collect(RDD.scala:1029)\n\tat org.apache.spark.mllib.fpm.FPGrowth.genFreqItems(FPGrowth.scala:254)\n\tat org.apache.spark.mllib.fpm.FPGrowth.run(FPGrowth.scala:219)\n\tat org.apache.spark.ml.fpm.FPGrowth.$anonfun$genericFit$1(FPGrowth.scala:180)\n\tat org.apache.spark.ml.util.Instrumentation$.$anonfun$instrumented$1(Instrumentation.scala:191)\n\tat scala.util.Try$.apply(Try.scala:213)\n\tat org.apache.spark.ml.util.Instrumentation$.instrumented(Instrumentation.scala:191)\n\tat org.apache.spark.ml.fpm.FPGrowth.genericFit(FPGrowth.scala:162)\n\tat org.apache.spark.ml.fpm.FPGrowth.fit(FPGrowth.scala:159)\n\tat java.base/jdk.internal.reflect.NativeMethodAccessorImpl.invoke0(Native Method)\n\tat java.base/jdk.internal.reflect.NativeMethodAccessorImpl.invoke(NativeMethodAccessorImpl.java:62)\n\tat java.base/jdk.internal.reflect.DelegatingMethodAccessorImpl.invoke(DelegatingMethodAccessorImpl.java:43)\n\tat java.base/java.lang.reflect.Method.invoke(Method.java:566)\n\tat py4j.reflection.MethodInvoker.invoke(MethodInvoker.java:244)\n\tat py4j.reflection.ReflectionEngine.invoke(ReflectionEngine.java:357)\n\tat py4j.Gateway.invoke(Gateway.java:282)\n\tat py4j.commands.AbstractCommand.invokeMethod(AbstractCommand.java:132)\n\tat py4j.commands.CallCommand.execute(CallCommand.java:79)\n\tat py4j.ClientServerConnection.waitForCommands(ClientServerConnection.java:182)\n\tat py4j.ClientServerConnection.run(ClientServerConnection.java:106)\n\tat java.base/java.lang.Thread.run(Thread.java:829)\nCaused by: org.apache.spark.SparkException: Items in a transaction must be unique but got WrappedArray(Torneig de videojocs: Clash Royale, Campus Olímpia Específic de bàsquet 'Game Time' per a adolescents de 11 a 17 anys a la Pistes Poliesportives Municipals Parc de la Maquinista, 'Assaig en companyia', amb la Companyia Juvenil de Ballet clàssic de Catalunya, Dinar casalero, Dinar casalero, Visites exprés gratuïtes: '11 de setembre, memòria d’una desfeta', Espectacle “Orpheus”, a càrrec d’”Insectotròpics”, Fira d'Entitats i Comercial, Fira d'Entitats i Comercial, Casal d'estiu 'Mitjans' per a infants de 7 a 10 anys a l'Escola Pia Sant Antoni, Congrés \"Global Public Transport Summit\", Taller híbrid 'Ioga en família. Infants de 4 a 9 anys', 'Contes orientals', 'Contes a la mà', a càrrec de Marta Catalán, Mapping al Palau Güell 'Parabòlic Gaudí', Mapping al Palau Güell 'Parabòlic Gaudí', Espectacle \"A los 30 lo petamos\", Activitats dia 14 de juny, Concert \"Uriah Heep\", Concert \"Uriah Heep\", Concert \"A Nou Barris donem la nota\", a càrrec de la Banda Simfònica de Roquetes - Nou Barris, Exposició \"Igualtat de gènere i objectius de desenvolupament sostenible\" Empoderament de la dona, Taller 'Ceràmica: Fes el teu animal imaginari', Exposició 'Turner. La llum és color', Exposició 'Turner. La llum és color', Exposició 'La grandesa del que és senzill: mobles del Monestir de Pedralbes', Casal d'estiu 'Els 7 misteris perduts de l'Arenal' per a infants i adolescents de 6 a 14 anys a l'Escola L'Arenal de Llevant, Calendari d'obertura de comerços en diumenges i dies festius 2022, Concert \"Milton Nascimento\", Concert \"Milton Nascimento\", Espectacle \"Calladitas estáis más guapas\", Espectacle \"Calladitas estáis más guapas\", Exposició 'Unsafe', Exposició 'Més que abelles. Pol·linitzadors i flors, la vida en joc', Concert \"Sinatra & Jobim Project\", Concert \"Sinatra & Jobim Project\", Concert \"Andrés Calamaro\", I si no estimem els nostres cossos? Parlem dels Trastorns de la Conducta Alimentària, Precampus Olímpia per a infants de 3 a 5 anys al CEM Cotxeres Borbó, Precampus Olímpia per a infants de 3 a 5 anys al CEM Cotxeres Borbó, Contes a cau d'orella, Exposició 'Lab Math' *Suspès, Patis escolars oberts al barri - Escola Bressol Municipal La Mar, Taller 'Sevillanes', Taller 'Sevillanes', Espectacle \"La pell Rosetta\", Arribada de l' \"Ultra Clean Marathon\", Casal d'estiu 'Grans' per a infants i adolescents de 10 a 14 anys a l'Escola Pia Sant Antoni, Casal d'estiu 'Grans' per a infants i adolescents de 10 a 14 anys a l'Escola Pia Sant Antoni, Taller temàtic combinat 'COA Besòs' per a adolescents de 12 a 16  anys a l'Institut Besòs, Campus Olímpia Poliesportiu per a infants de 6 a 8 anys al CEM Can Ricart, Fira del Col·leccionisme de la Zona Nord, Casal d'estiu per a infants i adolescents de 3 a 14 anys a l'Escola Parc de la Ciutadella, Casal d'estiu per a infants i adolescents de 3 a 14 anys a l'Escola Immaculada Concepció d'Horta, Espectacle \"Riot Comedy\", Espectacle \"Riot Comedy\", Jornada \"Déjate ser y carnaval trans\", 'Alegria', a càrrec d'Olga Rodríguez, Precampus Olímpia per a infants 3 a 5 anys al CEM Olímpics de la Vall d'Hebron, Casal d'estiu per a infants i adolescents de 5 a 12 anys al Casal Parroquial del Crist Rei, Concert 'Festival Simfònic', Concert 'Festival Simfònic', Campus Olímpia Específic 'Pàdel' per a infants i adolescents de 9 a 16 anys al CEM  Bon Pastor, Festival \"The authentic italian table\", Festival \"The authentic italian table\", Visites guiades sobre la història arquitectònica del Pavelló de la República, Exposició 'Objectiu Dona: Maternar' de Lisi Andrés Palacios, Bressol d'estiu per a infants d'1 a 3 anys a l'EBM La Fassina, Campus Olímpia de natura per a infants i adolescents de 11 a 16 anys a l'Ins Doctor Puigvert, Patis escolars oberts al barri - Escola Mercè Rodoreda, Patis escolars oberts al barri - Escola Mercè Rodoreda, Espectacle \"Replecs\", a càrrec de la Cia. Isabel Vinardell, 'Activa't als parcs' als Jardins de la Maternitat, 'Activa't als parcs' als Jardins de la Maternitat, 'Sarrià i els sarrianencs de fa 100 anys', Bressol d'estiu per a infants de 1 a 3 anys a l'EBM Ralet, Bressol d'estiu per a infants de 1 a 3 anys a l'EBM Ralet, Patis escolars oberts al barri  - Escola Reina Violant, Exposició 'Interrogar Barcelona. De la industrialització al segle XXI', Exposició \"Entourage\", d'Enric Tormo, Taller familiar 'Kangeroo (mares amb nadó i embarassades)', Campus Olímpia Específic 'Summer dance' per a infants i adolescents de 7 a 16 anys a l'Escola Els Llorers, Campus Olímpia Específic 'Summer dance' per a infants i adolescents de 7 a 16 anys a l'Escola Els Llorers, Acte de districte pel Dia Internacional contra l'Lgtbifòbia', Complex Esportiu Municipal Pau Negre - Parc Migdia, Fira Espai d'Art a l'avinguda Diagonal, Casal d'Estiu 'Un estiu de pel·lícula' per a infants de 3 a 5 anys a a l'Escola Can Fabra, Espectacle \"Cobalto. Laila Tafur i Alba Rihe\", 'Còmics', 'Còmics', Patis escolars oberts al barri - Escola Vila Olímpica, Patis escolars oberts al barri - Escola Pau Romeva, Patis escolars oberts al barri - Escola Pau Romeva, Concert \"Companyia Elèctrica Dharma\", Activitats familiars, Bressol d'estiu per a infants de 1 a 3 anys a l'EBM Puigmal, Casal d'estiu 'Enriquezarte' per a infants i adolescents de 3 a 12 anys a Centre Cultural EnriquezArte, Taller 'Percussió corporal', a càrrec de Sol Re Percussió, Campaments d’estiu 'Tria' per a adolescents de 12 a 17 anys, Campus Olímpia Específic 'Futbol' per a infants i adolescents de 7 a 16 anys al CEM Fort Pienc, Taller 'Posa’t a prova amb l’STEAM (9 a 12 anys)', Espectacle \"¿Estamos programados?\", a càrrec de Magno El Mentalista, Precampus Olímpia per a infants de 4 a 6 anys al Poliesportiu La Marina, Concert \"The Beach Boys\", Concert \"The Beach Boys\", Projecció del documental \"La maleta de Mauthausen\", Concert de l’Orquestra Simfònica de Barcelona i Nacional de Catalunya (OBC) i Alba G. Corral, Concert \"Coque Malla\", Taller 'Relats de viatge: mirades a través de la literatura' *NOU*, Campanya solidària per becar colònies i casals d'infants sense recursos, Casal d'estiu 'Juguem amb l'art' per a infants i adolescents de 3 a 12 anys de L'Escola Mediterrània, Joc virtual 'La natura en històries', XVII Obrador d'Estiu de la Sala Beckett, Club de lectura de literatura asiàtica “La historia interminable\" de Michael Ende, Casal d'estiu per a infants i adolescents de 3 a 12 anys a l'Escola Ferran Sunyer, Concert \"August Tharrats Trio\", Concert \"August Tharrats Trio\", Concert \"August Tharrats Trio\", Visites a l'arxiu Joan Maragall, Casal d'estiu per a infants i adolescents de 3 a 12 anys de l'Escola Sant Martí, Fira del Llibre Vell a la Plaça de Sarrià, Fira Artesanal de l'Associació Sabors Catalans a la Rambla Guipúscoa, Taller 'Còmic (8-12 anys)', Xerrada 'L’evidència genòmica de l’evolució humana', Arribada de la Flama del Canigó a La Marina, Visites a l'Ajuntament de Barcelona, Visites a l'Ajuntament de Barcelona, Casal d'estiu 'Les històries de la senyora Antonieta i el senyor Pepituu' per a infants i adolescents de 3 a 12 anys a l'Escola l'Estel, Casal d'estiu per a infants i adolescents de 3 a 12 anys a l'Escola Vila Olímpica, Casal d'estiu per a infants i adolescents de 3 a 12 anys a l'Escola Vila Olímpica, Cinefòrum. Projecció del documental \"Seaspiracy: La Pesca Insostenible\", Caminada 'Parc de La Ciutadella', Patis escolars oberts al barri - Institut Barcelona Congrés, Exposició 'Casa Àfrica: Migrar, habitar i resistir', Campus Olímpia Poliesportiu per a infants i adolescents de 6 a 17 anys al CEM Maresme, Espai d'interpretació 'Sirenes en TRANSsit', Taller: El Pas a l'adolescència, Taller: El Pas a l'adolescència, Taller 'Iniciació al teatre' *NOU*, Correfoc, Exposició 'Mika Vainio. Sondear', Itinerari 'Més enllà del Quadrat d'Or: l'Eixample més desconegut', Escalem al Pou, Matí d'esports, Cosmètica natural, Joc de pistes 'Tauromaníacs', Cicle de concerts 'Dijous Jazz a les Corts', \"Taller 'Processos alternatius. Cianotípia, Concerts i audicions del carilló del Palau de la Generalitat, Taller 'Teatre per adults', Taller híbrid 'Orquestra d'Ukeleles', Taller híbrid 'Orquestra d'Ukeleles', Taller híbrid 'Orquestra d'Ukeleles', \"Mostra de la Biennal d’art \"\"El Venadito\"\". 4a Edició Primats\", \"Mostra de la Biennal d’art \"\"El Venadito\"\". 4a Edició Primats\", Taller 'Viatge als orígens', \"Concert \"\"Andrés Calamaro\"\"\", Conferència 'La relació de parella amb l'arribada dels fills i filles', Conferència 'La relació de parella amb l'arribada dels fills i filles', Taller temàtic imatge 'Captura el moviment' per a adolescents de 14 a 17 anys a la Fundació Mans a les Mans, Taller temàtic imatge 'Captura el moviment' per a adolescents de 14 a 17 anys a la Fundació Mans a les Mans, Taller 'Amanides per al bon temps' *Nou*, Seminari 'Gestionar l'estrès amb l'alimentació', Seminari 'Gestionar l'estrès amb l'alimentació', \"Concert \"\"Sopa de Cabra. 30 Anys Ben Endins\"\"\", \"Espectacle \"\"The Musical Box. Performing Genesis 'The Lamb Lies Down On Broadway'\"\"\", Taller 'Ioguilates', Taller 'Laca jaonesa', Taller 'Guitarra - Rumba i buleria', Taller 'Guitarra - Rumba i buleria', \"Concert \"\"ZA! & la TransMegaCobla\"\", Taller 'Retrats per a persones adultes', Taller cultural 'El cinema i les arts: influències de la pintura a la gran pantalla' *NOU*, \"\"\"Barna'n'Roll\"\" a Razzmatazz (Warm Up Party)\", Taller 'Gimnàstica GAC', Taller 'Revelat digital'  *NOU*, Taller cultural ' Història d´Europa a través de les seves obres d'art', Taller 'Biodansa', Taller 'Biodansa', Taller 'Iniciació al dibuix', Taller 'Iniciació al dibuix', Taller 'Fitnes Dance', Taller 'Fitnes Dance', Taller 'Fitnes Dance', Taller 'Sevillanes', Seminari 'Iniciació a la màquina de cosir. Nivell II', Taller 'Costura bàsica i patronatge', Taller 'Costura bàsica i patronatge', Taller 'Tècniques de dibuix', Taller 'Zumba', Taller 'Zumba', \"Concert \"\"Diana Krall\"\"\", Taller 'Mètode pilates', Taller 'Ioga per a Gent Gran', Dates, Taller per a la gent gran 'Informàtica des de zero', Taller per a dones “El cos escriptor”. Laboratori anual de creació escènica, Taller 'Cuina street food vegana matí' (sense ingredients d’origen animal), Taller 'Cuina street food vegana matí' (sense ingredients d’origen animal), \"Concert \"\"Manolo García\"\"\", \"Projecció de pel•lícula + col•loqui \"\"Las hijas del fuego\"\"\", \"Concert \"\"Jorge Drexler\"\"\", \"Concert \"\"Jorge Drexler\"\"\", \"Concert \"\"Madness\"\"\", \"Concert \"\"Madness\"\"\", Exposició 'Mare Natura', \"Òpera \"\"Die Zauberflöte (La Flauta Màgica)\"\", Catifa floral a la Parròquia de Santa Maria del Remei, Taller 'Art crític', \"Concert \"\"VV\"\"\", Taller 'Llengua de signes en família', Taller 'Llengua de signes en família', Xerrada 'L'accés a l'invisible', Taller 'Anglès des de zero', Taller 'Dibuix', \"Concert \"\"The Txandals\"\"\", Taller 'Photoshop (iniciació)', Taller 'Percussió corporal' *NOU*, Taller 'Percussió corporal' *NOU*, Exposició 'Subirachs. Retorn al Poblenou', Taller 'Restauració de mobles', Taller 'Cuina fresca de temporada', Taller 'Club de lectura', Taller 'Club de lectura', \"Exposició 'Firma', Concert 'Brutal', Taller 'Ballet barre', \"Concert \"\"Steve Vai\"\"\", Taller 'Ioga', Xerrades de teleassistència, Xerrades de teleassistència, \"Concert solidari \"\"Ladilla Rusa + Pirat's Sound Sistema + Chalart58 & Matah +Elane i més\"\"\", \"Taller 'Circ, Taller 'Pilates', \"Exposició 'Casa Àfrica: Migrar, Taller 'Urban sketching', Taller cultural 'L'art gòtic: l´Europa de le catedrals', Taller cultural 'L'art gòtic: l´Europa de le catedrals', Taller 'Balls de saló avançat', Taller en línia 'Hatha ioga per a dones', Taller 'Cuina fresca i acolorida' *Nou*, \"Taller \"\"Body-balance\"\"\", \"Taller \"\"Body-balance\"\"\", Taller voluntari 'Pintura sobre roba', \"Concert \"\"Arnau Griso\"\"\", Taller 'Escriptura creativa', Cicle líric 'Les veus del monestir', Taller 'Dansa polinèsia', Taller 'Aprèn a parlar en públic', Taller 'Clàssics indiscutibles de la història del cinema'' *NOU*, Taller 'Processos fotogràfics de creació artística' *NOU*', Taller 'Processos fotogràfics de creació artística' *NOU*', Taller 'Iniciació a la guitarra acústica', \"Concert a benefici de Xamfrà \"\"Manu Guix i Amics\"\"\", Taller 'Sòl pelvià i abdominals hipopressives' *NOU*, Taller per gent gran 'Hama', creArte: Coneixem les emocions a partir de la fotografia i el collage, \"Concert Jazztrònica XS \"\"Pol Omedes - Pura Vida\"\"\", Festival Hipnotik 2022, Festival Hipnotik 2022, \"Exposició '25 anys de la Universitat de Vic – UCC: Persones, \"Concert \"\"Mac DeMarco\"\"\", Exposició 'Tàpies. Malenconia', \"Concert \"\"Jacky Terrasson Trio\"\"\", Cicle de concerts al Hortet de la Farga, \"Concert \"\"Echo & Bunnymen\"\"\", Taller 'Gimnàstica dolça per a persones més grans de 60 anys', Sessions obertes de Dansa Lliure, Taller híbrid: 'Ioga hatha integral' *NOU*, Gran Festa Verdaguer 2022, \"Concert \"\"Jessie J\"\"\", \"Correllengua, Casa Martí Trias i Domènech, Casa Claudi Alsina, La Muralla Romana, Parc de la Font Florida, Funicular Tibidabo - Cuca de Llum, Fundació Barcelona Media - Centre d'Innovació, Plaça del Nen de la Rutlla, Plaça del Nen de la Rutlla, Casa Serra, Casa Serra, Col·legi Oficial de Metges de Barcelona, Col·legi Oficial de Metges de Barcelona, Consell Municipal del Districte de Sant Andreu, Consell Municipal del Districte de Sant Andreu, Consell Municipal del Districte de Sant Andreu, Torre d'Aigües de Carrasco i Formiguera, Carrer Aiguafreda, Casa Vidal, El Congrés i els Indians, Casa Pomar, Turó Park - Parc del Poeta Eduard Marquina, Casa Eudald Obradors, Casa Eudald Obradors, La plaça de Ramon M. Roca i Sastre, Club Natació Atlètic - Barceloneta, Casa Rubinat, Casa Rubinat, L'Estació dels FGC de Sarrià, La Vila Olímpica, Parc Carmel, Parc Carmel, La plaça de Comas, Placa Fotovoltaica, Cementiri d'Horta, Cementiri d'Horta, Parròquia de la Mare de Déu del Coll, Parròquia de la Mare de Déu del Coll, Parròquia de Sant Ramon Nonat, Castell de Torre Baró, Castell de Torre Baró, Parc del Mirador del Poble-sec, Parc del Mirador del Poble-sec, El Raval, La Casa de l'Aigua).\n\tat org.apache.spark.mllib.fpm.FPGrowth.$anonfun$genFreqItems$1(FPGrowth.scala:249)\n\tat scala.collection.Iterator$$anon$11.nextCur(Iterator.scala:486)\n\tat scala.collection.Iterator$$anon$11.hasNext(Iterator.scala:492)\n\tat scala.collection.Iterator$$anon$10.hasNext(Iterator.scala:460)\n\tat org.apache.spark.util.collection.ExternalSorter.insertAll(ExternalSorter.scala:197)\n\tat org.apache.spark.shuffle.sort.SortShuffleWriter.write(SortShuffleWriter.scala:63)\n\tat org.apache.spark.shuffle.ShuffleWriteProcessor.write(ShuffleWriteProcessor.scala:59)\n\tat org.apache.spark.scheduler.ShuffleMapTask.runTask(ShuffleMapTask.scala:99)\n\tat org.apache.spark.scheduler.ShuffleMapTask.runTask(ShuffleMapTask.scala:52)\n\tat org.apache.spark.scheduler.Task.run(Task.scala:131)\n\tat org.apache.spark.executor.Executor$TaskRunner.$anonfun$run$3(Executor.scala:506)\n\tat org.apache.spark.util.Utils$.tryWithSafeFinally(Utils.scala:1462)\n\tat org.apache.spark.executor.Executor$TaskRunner.run(Executor.scala:509)\n\tat java.base/java.util.concurrent.ThreadPoolExecutor.runWorker(ThreadPoolExecutor.java:1128)\n\tat java.base/java.util.concurrent.ThreadPoolExecutor$Worker.run(ThreadPoolExecutor.java:628)\n\t... 1 more\n",
     "output_type": "error",
     "traceback": [
      "\u001b[0;31m---------------------------------------------------------------------------\u001b[0m",
      "\u001b[0;31mPy4JJavaError\u001b[0m                             Traceback (most recent call last)",
      "\u001b[1;32m/home/bdm/BDM/src/notebooks/test_generate_users.ipynb Cell 33'\u001b[0m in \u001b[0;36m<cell line: 1>\u001b[0;34m()\u001b[0m\n\u001b[0;32m----> <a href='vscode-notebook-cell://ssh-remote%2B7b22686f73744e616d65223a224e4e31227d/home/bdm/BDM/src/notebooks/test_generate_users.ipynb#ch0000039vscode-remote?line=0'>1</a>\u001b[0m fpm \u001b[39m=\u001b[39m fp\u001b[39m.\u001b[39;49mfit(d)\n",
      "File \u001b[0;32m~/miniconda3/envs/bdm/lib/python3.8/site-packages/pyspark/ml/base.py:161\u001b[0m, in \u001b[0;36mEstimator.fit\u001b[0;34m(self, dataset, params)\u001b[0m\n\u001b[1;32m    159\u001b[0m         \u001b[39mreturn\u001b[39;00m \u001b[39mself\u001b[39m\u001b[39m.\u001b[39mcopy(params)\u001b[39m.\u001b[39m_fit(dataset)\n\u001b[1;32m    160\u001b[0m     \u001b[39melse\u001b[39;00m:\n\u001b[0;32m--> 161\u001b[0m         \u001b[39mreturn\u001b[39;00m \u001b[39mself\u001b[39;49m\u001b[39m.\u001b[39;49m_fit(dataset)\n\u001b[1;32m    162\u001b[0m \u001b[39melse\u001b[39;00m:\n\u001b[1;32m    163\u001b[0m     \u001b[39mraise\u001b[39;00m \u001b[39mTypeError\u001b[39;00m(\u001b[39m\"\u001b[39m\u001b[39mParams must be either a param map or a list/tuple of param maps, \u001b[39m\u001b[39m\"\u001b[39m\n\u001b[1;32m    164\u001b[0m                     \u001b[39m\"\u001b[39m\u001b[39mbut got \u001b[39m\u001b[39m%s\u001b[39;00m\u001b[39m.\u001b[39m\u001b[39m\"\u001b[39m \u001b[39m%\u001b[39m \u001b[39mtype\u001b[39m(params))\n",
      "File \u001b[0;32m~/miniconda3/envs/bdm/lib/python3.8/site-packages/pyspark/ml/wrapper.py:335\u001b[0m, in \u001b[0;36mJavaEstimator._fit\u001b[0;34m(self, dataset)\u001b[0m\n\u001b[1;32m    334\u001b[0m \u001b[39mdef\u001b[39;00m \u001b[39m_fit\u001b[39m(\u001b[39mself\u001b[39m, dataset):\n\u001b[0;32m--> 335\u001b[0m     java_model \u001b[39m=\u001b[39m \u001b[39mself\u001b[39;49m\u001b[39m.\u001b[39;49m_fit_java(dataset)\n\u001b[1;32m    336\u001b[0m     model \u001b[39m=\u001b[39m \u001b[39mself\u001b[39m\u001b[39m.\u001b[39m_create_model(java_model)\n\u001b[1;32m    337\u001b[0m     \u001b[39mreturn\u001b[39;00m \u001b[39mself\u001b[39m\u001b[39m.\u001b[39m_copyValues(model)\n",
      "File \u001b[0;32m~/miniconda3/envs/bdm/lib/python3.8/site-packages/pyspark/ml/wrapper.py:332\u001b[0m, in \u001b[0;36mJavaEstimator._fit_java\u001b[0;34m(self, dataset)\u001b[0m\n\u001b[1;32m    318\u001b[0m \u001b[39m\"\"\"\u001b[39;00m\n\u001b[1;32m    319\u001b[0m \u001b[39mFits a Java model to the input dataset.\u001b[39;00m\n\u001b[1;32m    320\u001b[0m \n\u001b[0;32m   (...)\u001b[0m\n\u001b[1;32m    329\u001b[0m \u001b[39m    fitted Java model\u001b[39;00m\n\u001b[1;32m    330\u001b[0m \u001b[39m\"\"\"\u001b[39;00m\n\u001b[1;32m    331\u001b[0m \u001b[39mself\u001b[39m\u001b[39m.\u001b[39m_transfer_params_to_java()\n\u001b[0;32m--> 332\u001b[0m \u001b[39mreturn\u001b[39;00m \u001b[39mself\u001b[39;49m\u001b[39m.\u001b[39;49m_java_obj\u001b[39m.\u001b[39;49mfit(dataset\u001b[39m.\u001b[39;49m_jdf)\n",
      "File \u001b[0;32m~/miniconda3/envs/bdm/lib/python3.8/site-packages/py4j/java_gateway.py:1321\u001b[0m, in \u001b[0;36mJavaMember.__call__\u001b[0;34m(self, *args)\u001b[0m\n\u001b[1;32m   1315\u001b[0m command \u001b[39m=\u001b[39m proto\u001b[39m.\u001b[39mCALL_COMMAND_NAME \u001b[39m+\u001b[39m\\\n\u001b[1;32m   1316\u001b[0m     \u001b[39mself\u001b[39m\u001b[39m.\u001b[39mcommand_header \u001b[39m+\u001b[39m\\\n\u001b[1;32m   1317\u001b[0m     args_command \u001b[39m+\u001b[39m\\\n\u001b[1;32m   1318\u001b[0m     proto\u001b[39m.\u001b[39mEND_COMMAND_PART\n\u001b[1;32m   1320\u001b[0m answer \u001b[39m=\u001b[39m \u001b[39mself\u001b[39m\u001b[39m.\u001b[39mgateway_client\u001b[39m.\u001b[39msend_command(command)\n\u001b[0;32m-> 1321\u001b[0m return_value \u001b[39m=\u001b[39m get_return_value(\n\u001b[1;32m   1322\u001b[0m     answer, \u001b[39mself\u001b[39;49m\u001b[39m.\u001b[39;49mgateway_client, \u001b[39mself\u001b[39;49m\u001b[39m.\u001b[39;49mtarget_id, \u001b[39mself\u001b[39;49m\u001b[39m.\u001b[39;49mname)\n\u001b[1;32m   1324\u001b[0m \u001b[39mfor\u001b[39;00m temp_arg \u001b[39min\u001b[39;00m temp_args:\n\u001b[1;32m   1325\u001b[0m     temp_arg\u001b[39m.\u001b[39m_detach()\n",
      "File \u001b[0;32m~/miniconda3/envs/bdm/lib/python3.8/site-packages/pyspark/sql/utils.py:111\u001b[0m, in \u001b[0;36mcapture_sql_exception.<locals>.deco\u001b[0;34m(*a, **kw)\u001b[0m\n\u001b[1;32m    109\u001b[0m \u001b[39mdef\u001b[39;00m \u001b[39mdeco\u001b[39m(\u001b[39m*\u001b[39ma, \u001b[39m*\u001b[39m\u001b[39m*\u001b[39mkw):\n\u001b[1;32m    110\u001b[0m     \u001b[39mtry\u001b[39;00m:\n\u001b[0;32m--> 111\u001b[0m         \u001b[39mreturn\u001b[39;00m f(\u001b[39m*\u001b[39;49ma, \u001b[39m*\u001b[39;49m\u001b[39m*\u001b[39;49mkw)\n\u001b[1;32m    112\u001b[0m     \u001b[39mexcept\u001b[39;00m py4j\u001b[39m.\u001b[39mprotocol\u001b[39m.\u001b[39mPy4JJavaError \u001b[39mas\u001b[39;00m e:\n\u001b[1;32m    113\u001b[0m         converted \u001b[39m=\u001b[39m convert_exception(e\u001b[39m.\u001b[39mjava_exception)\n",
      "File \u001b[0;32m~/miniconda3/envs/bdm/lib/python3.8/site-packages/py4j/protocol.py:326\u001b[0m, in \u001b[0;36mget_return_value\u001b[0;34m(answer, gateway_client, target_id, name)\u001b[0m\n\u001b[1;32m    324\u001b[0m value \u001b[39m=\u001b[39m OUTPUT_CONVERTER[\u001b[39mtype\u001b[39m](answer[\u001b[39m2\u001b[39m:], gateway_client)\n\u001b[1;32m    325\u001b[0m \u001b[39mif\u001b[39;00m answer[\u001b[39m1\u001b[39m] \u001b[39m==\u001b[39m REFERENCE_TYPE:\n\u001b[0;32m--> 326\u001b[0m     \u001b[39mraise\u001b[39;00m Py4JJavaError(\n\u001b[1;32m    327\u001b[0m         \u001b[39m\"\u001b[39m\u001b[39mAn error occurred while calling \u001b[39m\u001b[39m{0}\u001b[39;00m\u001b[39m{1}\u001b[39;00m\u001b[39m{2}\u001b[39;00m\u001b[39m.\u001b[39m\u001b[39m\\n\u001b[39;00m\u001b[39m\"\u001b[39m\u001b[39m.\u001b[39m\n\u001b[1;32m    328\u001b[0m         \u001b[39mformat\u001b[39m(target_id, \u001b[39m\"\u001b[39m\u001b[39m.\u001b[39m\u001b[39m\"\u001b[39m, name), value)\n\u001b[1;32m    329\u001b[0m \u001b[39melse\u001b[39;00m:\n\u001b[1;32m    330\u001b[0m     \u001b[39mraise\u001b[39;00m Py4JError(\n\u001b[1;32m    331\u001b[0m         \u001b[39m\"\u001b[39m\u001b[39mAn error occurred while calling \u001b[39m\u001b[39m{0}\u001b[39;00m\u001b[39m{1}\u001b[39;00m\u001b[39m{2}\u001b[39;00m\u001b[39m. Trace:\u001b[39m\u001b[39m\\n\u001b[39;00m\u001b[39m{3}\u001b[39;00m\u001b[39m\\n\u001b[39;00m\u001b[39m\"\u001b[39m\u001b[39m.\u001b[39m\n\u001b[1;32m    332\u001b[0m         \u001b[39mformat\u001b[39m(target_id, \u001b[39m\"\u001b[39m\u001b[39m.\u001b[39m\u001b[39m\"\u001b[39m, name, value))\n",
      "\u001b[0;31mPy4JJavaError\u001b[0m: An error occurred while calling o527.fit.\n: org.apache.spark.SparkException: Job aborted due to stage failure: Task 0 in stage 78.0 failed 1 times, most recent failure: Lost task 0.0 in stage 78.0 (TID 715) (alakazam.fib.upc.es executor driver): org.apache.spark.SparkException: Items in a transaction must be unique but got WrappedArray(Torneig de videojocs: Clash Royale, Campus Olímpia Específic de bàsquet 'Game Time' per a adolescents de 11 a 17 anys a la Pistes Poliesportives Municipals Parc de la Maquinista, 'Assaig en companyia', amb la Companyia Juvenil de Ballet clàssic de Catalunya, Dinar casalero, Dinar casalero, Visites exprés gratuïtes: '11 de setembre, memòria d’una desfeta', Espectacle “Orpheus”, a càrrec d’”Insectotròpics”, Fira d'Entitats i Comercial, Fira d'Entitats i Comercial, Casal d'estiu 'Mitjans' per a infants de 7 a 10 anys a l'Escola Pia Sant Antoni, Congrés \"Global Public Transport Summit\", Taller híbrid 'Ioga en família. Infants de 4 a 9 anys', 'Contes orientals', 'Contes a la mà', a càrrec de Marta Catalán, Mapping al Palau Güell 'Parabòlic Gaudí', Mapping al Palau Güell 'Parabòlic Gaudí', Espectacle \"A los 30 lo petamos\", Activitats dia 14 de juny, Concert \"Uriah Heep\", Concert \"Uriah Heep\", Concert \"A Nou Barris donem la nota\", a càrrec de la Banda Simfònica de Roquetes - Nou Barris, Exposició \"Igualtat de gènere i objectius de desenvolupament sostenible\" Empoderament de la dona, Taller 'Ceràmica: Fes el teu animal imaginari', Exposició 'Turner. La llum és color', Exposició 'Turner. La llum és color', Exposició 'La grandesa del que és senzill: mobles del Monestir de Pedralbes', Casal d'estiu 'Els 7 misteris perduts de l'Arenal' per a infants i adolescents de 6 a 14 anys a l'Escola L'Arenal de Llevant, Calendari d'obertura de comerços en diumenges i dies festius 2022, Concert \"Milton Nascimento\", Concert \"Milton Nascimento\", Espectacle \"Calladitas estáis más guapas\", Espectacle \"Calladitas estáis más guapas\", Exposició 'Unsafe', Exposició 'Més que abelles. Pol·linitzadors i flors, la vida en joc', Concert \"Sinatra & Jobim Project\", Concert \"Sinatra & Jobim Project\", Concert \"Andrés Calamaro\", I si no estimem els nostres cossos? Parlem dels Trastorns de la Conducta Alimentària, Precampus Olímpia per a infants de 3 a 5 anys al CEM Cotxeres Borbó, Precampus Olímpia per a infants de 3 a 5 anys al CEM Cotxeres Borbó, Contes a cau d'orella, Exposició 'Lab Math' *Suspès, Patis escolars oberts al barri - Escola Bressol Municipal La Mar, Taller 'Sevillanes', Taller 'Sevillanes', Espectacle \"La pell Rosetta\", Arribada de l' \"Ultra Clean Marathon\", Casal d'estiu 'Grans' per a infants i adolescents de 10 a 14 anys a l'Escola Pia Sant Antoni, Casal d'estiu 'Grans' per a infants i adolescents de 10 a 14 anys a l'Escola Pia Sant Antoni, Taller temàtic combinat 'COA Besòs' per a adolescents de 12 a 16  anys a l'Institut Besòs, Campus Olímpia Poliesportiu per a infants de 6 a 8 anys al CEM Can Ricart, Fira del Col·leccionisme de la Zona Nord, Casal d'estiu per a infants i adolescents de 3 a 14 anys a l'Escola Parc de la Ciutadella, Casal d'estiu per a infants i adolescents de 3 a 14 anys a l'Escola Immaculada Concepció d'Horta, Espectacle \"Riot Comedy\", Espectacle \"Riot Comedy\", Jornada \"Déjate ser y carnaval trans\", 'Alegria', a càrrec d'Olga Rodríguez, Precampus Olímpia per a infants 3 a 5 anys al CEM Olímpics de la Vall d'Hebron, Casal d'estiu per a infants i adolescents de 5 a 12 anys al Casal Parroquial del Crist Rei, Concert 'Festival Simfònic', Concert 'Festival Simfònic', Campus Olímpia Específic 'Pàdel' per a infants i adolescents de 9 a 16 anys al CEM  Bon Pastor, Festival \"The authentic italian table\", Festival \"The authentic italian table\", Visites guiades sobre la història arquitectònica del Pavelló de la República, Exposició 'Objectiu Dona: Maternar' de Lisi Andrés Palacios, Bressol d'estiu per a infants d'1 a 3 anys a l'EBM La Fassina, Campus Olímpia de natura per a infants i adolescents de 11 a 16 anys a l'Ins Doctor Puigvert, Patis escolars oberts al barri - Escola Mercè Rodoreda, Patis escolars oberts al barri - Escola Mercè Rodoreda, Espectacle \"Replecs\", a càrrec de la Cia. Isabel Vinardell, 'Activa't als parcs' als Jardins de la Maternitat, 'Activa't als parcs' als Jardins de la Maternitat, 'Sarrià i els sarrianencs de fa 100 anys', Bressol d'estiu per a infants de 1 a 3 anys a l'EBM Ralet, Bressol d'estiu per a infants de 1 a 3 anys a l'EBM Ralet, Patis escolars oberts al barri  - Escola Reina Violant, Exposició 'Interrogar Barcelona. De la industrialització al segle XXI', Exposició \"Entourage\", d'Enric Tormo, Taller familiar 'Kangeroo (mares amb nadó i embarassades)', Campus Olímpia Específic 'Summer dance' per a infants i adolescents de 7 a 16 anys a l'Escola Els Llorers, Campus Olímpia Específic 'Summer dance' per a infants i adolescents de 7 a 16 anys a l'Escola Els Llorers, Acte de districte pel Dia Internacional contra l'Lgtbifòbia', Complex Esportiu Municipal Pau Negre - Parc Migdia, Fira Espai d'Art a l'avinguda Diagonal, Casal d'Estiu 'Un estiu de pel·lícula' per a infants de 3 a 5 anys a a l'Escola Can Fabra, Espectacle \"Cobalto. Laila Tafur i Alba Rihe\", 'Còmics', 'Còmics', Patis escolars oberts al barri - Escola Vila Olímpica, Patis escolars oberts al barri - Escola Pau Romeva, Patis escolars oberts al barri - Escola Pau Romeva, Concert \"Companyia Elèctrica Dharma\", Activitats familiars, Bressol d'estiu per a infants de 1 a 3 anys a l'EBM Puigmal, Casal d'estiu 'Enriquezarte' per a infants i adolescents de 3 a 12 anys a Centre Cultural EnriquezArte, Taller 'Percussió corporal', a càrrec de Sol Re Percussió, Campaments d’estiu 'Tria' per a adolescents de 12 a 17 anys, Campus Olímpia Específic 'Futbol' per a infants i adolescents de 7 a 16 anys al CEM Fort Pienc, Taller 'Posa’t a prova amb l’STEAM (9 a 12 anys)', Espectacle \"¿Estamos programados?\", a càrrec de Magno El Mentalista, Precampus Olímpia per a infants de 4 a 6 anys al Poliesportiu La Marina, Concert \"The Beach Boys\", Concert \"The Beach Boys\", Projecció del documental \"La maleta de Mauthausen\", Concert de l’Orquestra Simfònica de Barcelona i Nacional de Catalunya (OBC) i Alba G. Corral, Concert \"Coque Malla\", Taller 'Relats de viatge: mirades a través de la literatura' *NOU*, Campanya solidària per becar colònies i casals d'infants sense recursos, Casal d'estiu 'Juguem amb l'art' per a infants i adolescents de 3 a 12 anys de L'Escola Mediterrània, Joc virtual 'La natura en històries', XVII Obrador d'Estiu de la Sala Beckett, Club de lectura de literatura asiàtica “La historia interminable\" de Michael Ende, Casal d'estiu per a infants i adolescents de 3 a 12 anys a l'Escola Ferran Sunyer, Concert \"August Tharrats Trio\", Concert \"August Tharrats Trio\", Concert \"August Tharrats Trio\", Visites a l'arxiu Joan Maragall, Casal d'estiu per a infants i adolescents de 3 a 12 anys de l'Escola Sant Martí, Fira del Llibre Vell a la Plaça de Sarrià, Fira Artesanal de l'Associació Sabors Catalans a la Rambla Guipúscoa, Taller 'Còmic (8-12 anys)', Xerrada 'L’evidència genòmica de l’evolució humana', Arribada de la Flama del Canigó a La Marina, Visites a l'Ajuntament de Barcelona, Visites a l'Ajuntament de Barcelona, Casal d'estiu 'Les històries de la senyora Antonieta i el senyor Pepituu' per a infants i adolescents de 3 a 12 anys a l'Escola l'Estel, Casal d'estiu per a infants i adolescents de 3 a 12 anys a l'Escola Vila Olímpica, Casal d'estiu per a infants i adolescents de 3 a 12 anys a l'Escola Vila Olímpica, Cinefòrum. Projecció del documental \"Seaspiracy: La Pesca Insostenible\", Caminada 'Parc de La Ciutadella', Patis escolars oberts al barri - Institut Barcelona Congrés, Exposició 'Casa Àfrica: Migrar, habitar i resistir', Campus Olímpia Poliesportiu per a infants i adolescents de 6 a 17 anys al CEM Maresme, Espai d'interpretació 'Sirenes en TRANSsit', Taller: El Pas a l'adolescència, Taller: El Pas a l'adolescència, Taller 'Iniciació al teatre' *NOU*, Correfoc, Exposició 'Mika Vainio. Sondear', Itinerari 'Més enllà del Quadrat d'Or: l'Eixample més desconegut', Escalem al Pou, Matí d'esports, Cosmètica natural, Joc de pistes 'Tauromaníacs', Cicle de concerts 'Dijous Jazz a les Corts', \"Taller 'Processos alternatius. Cianotípia, Concerts i audicions del carilló del Palau de la Generalitat, Taller 'Teatre per adults', Taller híbrid 'Orquestra d'Ukeleles', Taller híbrid 'Orquestra d'Ukeleles', Taller híbrid 'Orquestra d'Ukeleles', \"Mostra de la Biennal d’art \"\"El Venadito\"\". 4a Edició Primats\", \"Mostra de la Biennal d’art \"\"El Venadito\"\". 4a Edició Primats\", Taller 'Viatge als orígens', \"Concert \"\"Andrés Calamaro\"\"\", Conferència 'La relació de parella amb l'arribada dels fills i filles', Conferència 'La relació de parella amb l'arribada dels fills i filles', Taller temàtic imatge 'Captura el moviment' per a adolescents de 14 a 17 anys a la Fundació Mans a les Mans, Taller temàtic imatge 'Captura el moviment' per a adolescents de 14 a 17 anys a la Fundació Mans a les Mans, Taller 'Amanides per al bon temps' *Nou*, Seminari 'Gestionar l'estrès amb l'alimentació', Seminari 'Gestionar l'estrès amb l'alimentació', \"Concert \"\"Sopa de Cabra. 30 Anys Ben Endins\"\"\", \"Espectacle \"\"The Musical Box. Performing Genesis 'The Lamb Lies Down On Broadway'\"\"\", Taller 'Ioguilates', Taller 'Laca jaonesa', Taller 'Guitarra - Rumba i buleria', Taller 'Guitarra - Rumba i buleria', \"Concert \"\"ZA! & la TransMegaCobla\"\", Taller 'Retrats per a persones adultes', Taller cultural 'El cinema i les arts: influències de la pintura a la gran pantalla' *NOU*, \"\"\"Barna'n'Roll\"\" a Razzmatazz (Warm Up Party)\", Taller 'Gimnàstica GAC', Taller 'Revelat digital'  *NOU*, Taller cultural ' Història d´Europa a través de les seves obres d'art', Taller 'Biodansa', Taller 'Biodansa', Taller 'Iniciació al dibuix', Taller 'Iniciació al dibuix', Taller 'Fitnes Dance', Taller 'Fitnes Dance', Taller 'Fitnes Dance', Taller 'Sevillanes', Seminari 'Iniciació a la màquina de cosir. Nivell II', Taller 'Costura bàsica i patronatge', Taller 'Costura bàsica i patronatge', Taller 'Tècniques de dibuix', Taller 'Zumba', Taller 'Zumba', \"Concert \"\"Diana Krall\"\"\", Taller 'Mètode pilates', Taller 'Ioga per a Gent Gran', Dates, Taller per a la gent gran 'Informàtica des de zero', Taller per a dones “El cos escriptor”. Laboratori anual de creació escènica, Taller 'Cuina street food vegana matí' (sense ingredients d’origen animal), Taller 'Cuina street food vegana matí' (sense ingredients d’origen animal), \"Concert \"\"Manolo García\"\"\", \"Projecció de pel•lícula + col•loqui \"\"Las hijas del fuego\"\"\", \"Concert \"\"Jorge Drexler\"\"\", \"Concert \"\"Jorge Drexler\"\"\", \"Concert \"\"Madness\"\"\", \"Concert \"\"Madness\"\"\", Exposició 'Mare Natura', \"Òpera \"\"Die Zauberflöte (La Flauta Màgica)\"\", Catifa floral a la Parròquia de Santa Maria del Remei, Taller 'Art crític', \"Concert \"\"VV\"\"\", Taller 'Llengua de signes en família', Taller 'Llengua de signes en família', Xerrada 'L'accés a l'invisible', Taller 'Anglès des de zero', Taller 'Dibuix', \"Concert \"\"The Txandals\"\"\", Taller 'Photoshop (iniciació)', Taller 'Percussió corporal' *NOU*, Taller 'Percussió corporal' *NOU*, Exposició 'Subirachs. Retorn al Poblenou', Taller 'Restauració de mobles', Taller 'Cuina fresca de temporada', Taller 'Club de lectura', Taller 'Club de lectura', \"Exposició 'Firma', Concert 'Brutal', Taller 'Ballet barre', \"Concert \"\"Steve Vai\"\"\", Taller 'Ioga', Xerrades de teleassistència, Xerrades de teleassistència, \"Concert solidari \"\"Ladilla Rusa + Pirat's Sound Sistema + Chalart58 & Matah +Elane i més\"\"\", \"Taller 'Circ, Taller 'Pilates', \"Exposició 'Casa Àfrica: Migrar, Taller 'Urban sketching', Taller cultural 'L'art gòtic: l´Europa de le catedrals', Taller cultural 'L'art gòtic: l´Europa de le catedrals', Taller 'Balls de saló avançat', Taller en línia 'Hatha ioga per a dones', Taller 'Cuina fresca i acolorida' *Nou*, \"Taller \"\"Body-balance\"\"\", \"Taller \"\"Body-balance\"\"\", Taller voluntari 'Pintura sobre roba', \"Concert \"\"Arnau Griso\"\"\", Taller 'Escriptura creativa', Cicle líric 'Les veus del monestir', Taller 'Dansa polinèsia', Taller 'Aprèn a parlar en públic', Taller 'Clàssics indiscutibles de la història del cinema'' *NOU*, Taller 'Processos fotogràfics de creació artística' *NOU*', Taller 'Processos fotogràfics de creació artística' *NOU*', Taller 'Iniciació a la guitarra acústica', \"Concert a benefici de Xamfrà \"\"Manu Guix i Amics\"\"\", Taller 'Sòl pelvià i abdominals hipopressives' *NOU*, Taller per gent gran 'Hama', creArte: Coneixem les emocions a partir de la fotografia i el collage, \"Concert Jazztrònica XS \"\"Pol Omedes - Pura Vida\"\"\", Festival Hipnotik 2022, Festival Hipnotik 2022, \"Exposició '25 anys de la Universitat de Vic – UCC: Persones, \"Concert \"\"Mac DeMarco\"\"\", Exposició 'Tàpies. Malenconia', \"Concert \"\"Jacky Terrasson Trio\"\"\", Cicle de concerts al Hortet de la Farga, \"Concert \"\"Echo & Bunnymen\"\"\", Taller 'Gimnàstica dolça per a persones més grans de 60 anys', Sessions obertes de Dansa Lliure, Taller híbrid: 'Ioga hatha integral' *NOU*, Gran Festa Verdaguer 2022, \"Concert \"\"Jessie J\"\"\", \"Correllengua, Casa Martí Trias i Domènech, Casa Claudi Alsina, La Muralla Romana, Parc de la Font Florida, Funicular Tibidabo - Cuca de Llum, Fundació Barcelona Media - Centre d'Innovació, Plaça del Nen de la Rutlla, Plaça del Nen de la Rutlla, Casa Serra, Casa Serra, Col·legi Oficial de Metges de Barcelona, Col·legi Oficial de Metges de Barcelona, Consell Municipal del Districte de Sant Andreu, Consell Municipal del Districte de Sant Andreu, Consell Municipal del Districte de Sant Andreu, Torre d'Aigües de Carrasco i Formiguera, Carrer Aiguafreda, Casa Vidal, El Congrés i els Indians, Casa Pomar, Turó Park - Parc del Poeta Eduard Marquina, Casa Eudald Obradors, Casa Eudald Obradors, La plaça de Ramon M. Roca i Sastre, Club Natació Atlètic - Barceloneta, Casa Rubinat, Casa Rubinat, L'Estació dels FGC de Sarrià, La Vila Olímpica, Parc Carmel, Parc Carmel, La plaça de Comas, Placa Fotovoltaica, Cementiri d'Horta, Cementiri d'Horta, Parròquia de la Mare de Déu del Coll, Parròquia de la Mare de Déu del Coll, Parròquia de Sant Ramon Nonat, Castell de Torre Baró, Castell de Torre Baró, Parc del Mirador del Poble-sec, Parc del Mirador del Poble-sec, El Raval, La Casa de l'Aigua).\n\tat org.apache.spark.mllib.fpm.FPGrowth.$anonfun$genFreqItems$1(FPGrowth.scala:249)\n\tat scala.collection.Iterator$$anon$11.nextCur(Iterator.scala:486)\n\tat scala.collection.Iterator$$anon$11.hasNext(Iterator.scala:492)\n\tat scala.collection.Iterator$$anon$10.hasNext(Iterator.scala:460)\n\tat org.apache.spark.util.collection.ExternalSorter.insertAll(ExternalSorter.scala:197)\n\tat org.apache.spark.shuffle.sort.SortShuffleWriter.write(SortShuffleWriter.scala:63)\n\tat org.apache.spark.shuffle.ShuffleWriteProcessor.write(ShuffleWriteProcessor.scala:59)\n\tat org.apache.spark.scheduler.ShuffleMapTask.runTask(ShuffleMapTask.scala:99)\n\tat org.apache.spark.scheduler.ShuffleMapTask.runTask(ShuffleMapTask.scala:52)\n\tat org.apache.spark.scheduler.Task.run(Task.scala:131)\n\tat org.apache.spark.executor.Executor$TaskRunner.$anonfun$run$3(Executor.scala:506)\n\tat org.apache.spark.util.Utils$.tryWithSafeFinally(Utils.scala:1462)\n\tat org.apache.spark.executor.Executor$TaskRunner.run(Executor.scala:509)\n\tat java.base/java.util.concurrent.ThreadPoolExecutor.runWorker(ThreadPoolExecutor.java:1128)\n\tat java.base/java.util.concurrent.ThreadPoolExecutor$Worker.run(ThreadPoolExecutor.java:628)\n\tat java.base/java.lang.Thread.run(Thread.java:829)\n\nDriver stacktrace:\n\tat org.apache.spark.scheduler.DAGScheduler.failJobAndIndependentStages(DAGScheduler.scala:2454)\n\tat org.apache.spark.scheduler.DAGScheduler.$anonfun$abortStage$2(DAGScheduler.scala:2403)\n\tat org.apache.spark.scheduler.DAGScheduler.$anonfun$abortStage$2$adapted(DAGScheduler.scala:2402)\n\tat scala.collection.mutable.ResizableArray.foreach(ResizableArray.scala:62)\n\tat scala.collection.mutable.ResizableArray.foreach$(ResizableArray.scala:55)\n\tat scala.collection.mutable.ArrayBuffer.foreach(ArrayBuffer.scala:49)\n\tat org.apache.spark.scheduler.DAGScheduler.abortStage(DAGScheduler.scala:2402)\n\tat org.apache.spark.scheduler.DAGScheduler.$anonfun$handleTaskSetFailed$1(DAGScheduler.scala:1160)\n\tat org.apache.spark.scheduler.DAGScheduler.$anonfun$handleTaskSetFailed$1$adapted(DAGScheduler.scala:1160)\n\tat scala.Option.foreach(Option.scala:407)\n\tat org.apache.spark.scheduler.DAGScheduler.handleTaskSetFailed(DAGScheduler.scala:1160)\n\tat org.apache.spark.scheduler.DAGSchedulerEventProcessLoop.doOnReceive(DAGScheduler.scala:2642)\n\tat org.apache.spark.scheduler.DAGSchedulerEventProcessLoop.onReceive(DAGScheduler.scala:2584)\n\tat org.apache.spark.scheduler.DAGSchedulerEventProcessLoop.onReceive(DAGScheduler.scala:2573)\n\tat org.apache.spark.util.EventLoop$$anon$1.run(EventLoop.scala:49)\n\tat org.apache.spark.scheduler.DAGScheduler.runJob(DAGScheduler.scala:938)\n\tat org.apache.spark.SparkContext.runJob(SparkContext.scala:2214)\n\tat org.apache.spark.SparkContext.runJob(SparkContext.scala:2235)\n\tat org.apache.spark.SparkContext.runJob(SparkContext.scala:2254)\n\tat org.apache.spark.SparkContext.runJob(SparkContext.scala:2279)\n\tat org.apache.spark.rdd.RDD.$anonfun$collect$1(RDD.scala:1030)\n\tat org.apache.spark.rdd.RDDOperationScope$.withScope(RDDOperationScope.scala:151)\n\tat org.apache.spark.rdd.RDDOperationScope$.withScope(RDDOperationScope.scala:112)\n\tat org.apache.spark.rdd.RDD.withScope(RDD.scala:414)\n\tat org.apache.spark.rdd.RDD.collect(RDD.scala:1029)\n\tat org.apache.spark.mllib.fpm.FPGrowth.genFreqItems(FPGrowth.scala:254)\n\tat org.apache.spark.mllib.fpm.FPGrowth.run(FPGrowth.scala:219)\n\tat org.apache.spark.ml.fpm.FPGrowth.$anonfun$genericFit$1(FPGrowth.scala:180)\n\tat org.apache.spark.ml.util.Instrumentation$.$anonfun$instrumented$1(Instrumentation.scala:191)\n\tat scala.util.Try$.apply(Try.scala:213)\n\tat org.apache.spark.ml.util.Instrumentation$.instrumented(Instrumentation.scala:191)\n\tat org.apache.spark.ml.fpm.FPGrowth.genericFit(FPGrowth.scala:162)\n\tat org.apache.spark.ml.fpm.FPGrowth.fit(FPGrowth.scala:159)\n\tat java.base/jdk.internal.reflect.NativeMethodAccessorImpl.invoke0(Native Method)\n\tat java.base/jdk.internal.reflect.NativeMethodAccessorImpl.invoke(NativeMethodAccessorImpl.java:62)\n\tat java.base/jdk.internal.reflect.DelegatingMethodAccessorImpl.invoke(DelegatingMethodAccessorImpl.java:43)\n\tat java.base/java.lang.reflect.Method.invoke(Method.java:566)\n\tat py4j.reflection.MethodInvoker.invoke(MethodInvoker.java:244)\n\tat py4j.reflection.ReflectionEngine.invoke(ReflectionEngine.java:357)\n\tat py4j.Gateway.invoke(Gateway.java:282)\n\tat py4j.commands.AbstractCommand.invokeMethod(AbstractCommand.java:132)\n\tat py4j.commands.CallCommand.execute(CallCommand.java:79)\n\tat py4j.ClientServerConnection.waitForCommands(ClientServerConnection.java:182)\n\tat py4j.ClientServerConnection.run(ClientServerConnection.java:106)\n\tat java.base/java.lang.Thread.run(Thread.java:829)\nCaused by: org.apache.spark.SparkException: Items in a transaction must be unique but got WrappedArray(Torneig de videojocs: Clash Royale, Campus Olímpia Específic de bàsquet 'Game Time' per a adolescents de 11 a 17 anys a la Pistes Poliesportives Municipals Parc de la Maquinista, 'Assaig en companyia', amb la Companyia Juvenil de Ballet clàssic de Catalunya, Dinar casalero, Dinar casalero, Visites exprés gratuïtes: '11 de setembre, memòria d’una desfeta', Espectacle “Orpheus”, a càrrec d’”Insectotròpics”, Fira d'Entitats i Comercial, Fira d'Entitats i Comercial, Casal d'estiu 'Mitjans' per a infants de 7 a 10 anys a l'Escola Pia Sant Antoni, Congrés \"Global Public Transport Summit\", Taller híbrid 'Ioga en família. Infants de 4 a 9 anys', 'Contes orientals', 'Contes a la mà', a càrrec de Marta Catalán, Mapping al Palau Güell 'Parabòlic Gaudí', Mapping al Palau Güell 'Parabòlic Gaudí', Espectacle \"A los 30 lo petamos\", Activitats dia 14 de juny, Concert \"Uriah Heep\", Concert \"Uriah Heep\", Concert \"A Nou Barris donem la nota\", a càrrec de la Banda Simfònica de Roquetes - Nou Barris, Exposició \"Igualtat de gènere i objectius de desenvolupament sostenible\" Empoderament de la dona, Taller 'Ceràmica: Fes el teu animal imaginari', Exposició 'Turner. La llum és color', Exposició 'Turner. La llum és color', Exposició 'La grandesa del que és senzill: mobles del Monestir de Pedralbes', Casal d'estiu 'Els 7 misteris perduts de l'Arenal' per a infants i adolescents de 6 a 14 anys a l'Escola L'Arenal de Llevant, Calendari d'obertura de comerços en diumenges i dies festius 2022, Concert \"Milton Nascimento\", Concert \"Milton Nascimento\", Espectacle \"Calladitas estáis más guapas\", Espectacle \"Calladitas estáis más guapas\", Exposició 'Unsafe', Exposició 'Més que abelles. Pol·linitzadors i flors, la vida en joc', Concert \"Sinatra & Jobim Project\", Concert \"Sinatra & Jobim Project\", Concert \"Andrés Calamaro\", I si no estimem els nostres cossos? Parlem dels Trastorns de la Conducta Alimentària, Precampus Olímpia per a infants de 3 a 5 anys al CEM Cotxeres Borbó, Precampus Olímpia per a infants de 3 a 5 anys al CEM Cotxeres Borbó, Contes a cau d'orella, Exposició 'Lab Math' *Suspès, Patis escolars oberts al barri - Escola Bressol Municipal La Mar, Taller 'Sevillanes', Taller 'Sevillanes', Espectacle \"La pell Rosetta\", Arribada de l' \"Ultra Clean Marathon\", Casal d'estiu 'Grans' per a infants i adolescents de 10 a 14 anys a l'Escola Pia Sant Antoni, Casal d'estiu 'Grans' per a infants i adolescents de 10 a 14 anys a l'Escola Pia Sant Antoni, Taller temàtic combinat 'COA Besòs' per a adolescents de 12 a 16  anys a l'Institut Besòs, Campus Olímpia Poliesportiu per a infants de 6 a 8 anys al CEM Can Ricart, Fira del Col·leccionisme de la Zona Nord, Casal d'estiu per a infants i adolescents de 3 a 14 anys a l'Escola Parc de la Ciutadella, Casal d'estiu per a infants i adolescents de 3 a 14 anys a l'Escola Immaculada Concepció d'Horta, Espectacle \"Riot Comedy\", Espectacle \"Riot Comedy\", Jornada \"Déjate ser y carnaval trans\", 'Alegria', a càrrec d'Olga Rodríguez, Precampus Olímpia per a infants 3 a 5 anys al CEM Olímpics de la Vall d'Hebron, Casal d'estiu per a infants i adolescents de 5 a 12 anys al Casal Parroquial del Crist Rei, Concert 'Festival Simfònic', Concert 'Festival Simfònic', Campus Olímpia Específic 'Pàdel' per a infants i adolescents de 9 a 16 anys al CEM  Bon Pastor, Festival \"The authentic italian table\", Festival \"The authentic italian table\", Visites guiades sobre la història arquitectònica del Pavelló de la República, Exposició 'Objectiu Dona: Maternar' de Lisi Andrés Palacios, Bressol d'estiu per a infants d'1 a 3 anys a l'EBM La Fassina, Campus Olímpia de natura per a infants i adolescents de 11 a 16 anys a l'Ins Doctor Puigvert, Patis escolars oberts al barri - Escola Mercè Rodoreda, Patis escolars oberts al barri - Escola Mercè Rodoreda, Espectacle \"Replecs\", a càrrec de la Cia. Isabel Vinardell, 'Activa't als parcs' als Jardins de la Maternitat, 'Activa't als parcs' als Jardins de la Maternitat, 'Sarrià i els sarrianencs de fa 100 anys', Bressol d'estiu per a infants de 1 a 3 anys a l'EBM Ralet, Bressol d'estiu per a infants de 1 a 3 anys a l'EBM Ralet, Patis escolars oberts al barri  - Escola Reina Violant, Exposició 'Interrogar Barcelona. De la industrialització al segle XXI', Exposició \"Entourage\", d'Enric Tormo, Taller familiar 'Kangeroo (mares amb nadó i embarassades)', Campus Olímpia Específic 'Summer dance' per a infants i adolescents de 7 a 16 anys a l'Escola Els Llorers, Campus Olímpia Específic 'Summer dance' per a infants i adolescents de 7 a 16 anys a l'Escola Els Llorers, Acte de districte pel Dia Internacional contra l'Lgtbifòbia', Complex Esportiu Municipal Pau Negre - Parc Migdia, Fira Espai d'Art a l'avinguda Diagonal, Casal d'Estiu 'Un estiu de pel·lícula' per a infants de 3 a 5 anys a a l'Escola Can Fabra, Espectacle \"Cobalto. Laila Tafur i Alba Rihe\", 'Còmics', 'Còmics', Patis escolars oberts al barri - Escola Vila Olímpica, Patis escolars oberts al barri - Escola Pau Romeva, Patis escolars oberts al barri - Escola Pau Romeva, Concert \"Companyia Elèctrica Dharma\", Activitats familiars, Bressol d'estiu per a infants de 1 a 3 anys a l'EBM Puigmal, Casal d'estiu 'Enriquezarte' per a infants i adolescents de 3 a 12 anys a Centre Cultural EnriquezArte, Taller 'Percussió corporal', a càrrec de Sol Re Percussió, Campaments d’estiu 'Tria' per a adolescents de 12 a 17 anys, Campus Olímpia Específic 'Futbol' per a infants i adolescents de 7 a 16 anys al CEM Fort Pienc, Taller 'Posa’t a prova amb l’STEAM (9 a 12 anys)', Espectacle \"¿Estamos programados?\", a càrrec de Magno El Mentalista, Precampus Olímpia per a infants de 4 a 6 anys al Poliesportiu La Marina, Concert \"The Beach Boys\", Concert \"The Beach Boys\", Projecció del documental \"La maleta de Mauthausen\", Concert de l’Orquestra Simfònica de Barcelona i Nacional de Catalunya (OBC) i Alba G. Corral, Concert \"Coque Malla\", Taller 'Relats de viatge: mirades a través de la literatura' *NOU*, Campanya solidària per becar colònies i casals d'infants sense recursos, Casal d'estiu 'Juguem amb l'art' per a infants i adolescents de 3 a 12 anys de L'Escola Mediterrània, Joc virtual 'La natura en històries', XVII Obrador d'Estiu de la Sala Beckett, Club de lectura de literatura asiàtica “La historia interminable\" de Michael Ende, Casal d'estiu per a infants i adolescents de 3 a 12 anys a l'Escola Ferran Sunyer, Concert \"August Tharrats Trio\", Concert \"August Tharrats Trio\", Concert \"August Tharrats Trio\", Visites a l'arxiu Joan Maragall, Casal d'estiu per a infants i adolescents de 3 a 12 anys de l'Escola Sant Martí, Fira del Llibre Vell a la Plaça de Sarrià, Fira Artesanal de l'Associació Sabors Catalans a la Rambla Guipúscoa, Taller 'Còmic (8-12 anys)', Xerrada 'L’evidència genòmica de l’evolució humana', Arribada de la Flama del Canigó a La Marina, Visites a l'Ajuntament de Barcelona, Visites a l'Ajuntament de Barcelona, Casal d'estiu 'Les històries de la senyora Antonieta i el senyor Pepituu' per a infants i adolescents de 3 a 12 anys a l'Escola l'Estel, Casal d'estiu per a infants i adolescents de 3 a 12 anys a l'Escola Vila Olímpica, Casal d'estiu per a infants i adolescents de 3 a 12 anys a l'Escola Vila Olímpica, Cinefòrum. Projecció del documental \"Seaspiracy: La Pesca Insostenible\", Caminada 'Parc de La Ciutadella', Patis escolars oberts al barri - Institut Barcelona Congrés, Exposició 'Casa Àfrica: Migrar, habitar i resistir', Campus Olímpia Poliesportiu per a infants i adolescents de 6 a 17 anys al CEM Maresme, Espai d'interpretació 'Sirenes en TRANSsit', Taller: El Pas a l'adolescència, Taller: El Pas a l'adolescència, Taller 'Iniciació al teatre' *NOU*, Correfoc, Exposició 'Mika Vainio. Sondear', Itinerari 'Més enllà del Quadrat d'Or: l'Eixample més desconegut', Escalem al Pou, Matí d'esports, Cosmètica natural, Joc de pistes 'Tauromaníacs', Cicle de concerts 'Dijous Jazz a les Corts', \"Taller 'Processos alternatius. Cianotípia, Concerts i audicions del carilló del Palau de la Generalitat, Taller 'Teatre per adults', Taller híbrid 'Orquestra d'Ukeleles', Taller híbrid 'Orquestra d'Ukeleles', Taller híbrid 'Orquestra d'Ukeleles', \"Mostra de la Biennal d’art \"\"El Venadito\"\". 4a Edició Primats\", \"Mostra de la Biennal d’art \"\"El Venadito\"\". 4a Edició Primats\", Taller 'Viatge als orígens', \"Concert \"\"Andrés Calamaro\"\"\", Conferència 'La relació de parella amb l'arribada dels fills i filles', Conferència 'La relació de parella amb l'arribada dels fills i filles', Taller temàtic imatge 'Captura el moviment' per a adolescents de 14 a 17 anys a la Fundació Mans a les Mans, Taller temàtic imatge 'Captura el moviment' per a adolescents de 14 a 17 anys a la Fundació Mans a les Mans, Taller 'Amanides per al bon temps' *Nou*, Seminari 'Gestionar l'estrès amb l'alimentació', Seminari 'Gestionar l'estrès amb l'alimentació', \"Concert \"\"Sopa de Cabra. 30 Anys Ben Endins\"\"\", \"Espectacle \"\"The Musical Box. Performing Genesis 'The Lamb Lies Down On Broadway'\"\"\", Taller 'Ioguilates', Taller 'Laca jaonesa', Taller 'Guitarra - Rumba i buleria', Taller 'Guitarra - Rumba i buleria', \"Concert \"\"ZA! & la TransMegaCobla\"\", Taller 'Retrats per a persones adultes', Taller cultural 'El cinema i les arts: influències de la pintura a la gran pantalla' *NOU*, \"\"\"Barna'n'Roll\"\" a Razzmatazz (Warm Up Party)\", Taller 'Gimnàstica GAC', Taller 'Revelat digital'  *NOU*, Taller cultural ' Història d´Europa a través de les seves obres d'art', Taller 'Biodansa', Taller 'Biodansa', Taller 'Iniciació al dibuix', Taller 'Iniciació al dibuix', Taller 'Fitnes Dance', Taller 'Fitnes Dance', Taller 'Fitnes Dance', Taller 'Sevillanes', Seminari 'Iniciació a la màquina de cosir. Nivell II', Taller 'Costura bàsica i patronatge', Taller 'Costura bàsica i patronatge', Taller 'Tècniques de dibuix', Taller 'Zumba', Taller 'Zumba', \"Concert \"\"Diana Krall\"\"\", Taller 'Mètode pilates', Taller 'Ioga per a Gent Gran', Dates, Taller per a la gent gran 'Informàtica des de zero', Taller per a dones “El cos escriptor”. Laboratori anual de creació escènica, Taller 'Cuina street food vegana matí' (sense ingredients d’origen animal), Taller 'Cuina street food vegana matí' (sense ingredients d’origen animal), \"Concert \"\"Manolo García\"\"\", \"Projecció de pel•lícula + col•loqui \"\"Las hijas del fuego\"\"\", \"Concert \"\"Jorge Drexler\"\"\", \"Concert \"\"Jorge Drexler\"\"\", \"Concert \"\"Madness\"\"\", \"Concert \"\"Madness\"\"\", Exposició 'Mare Natura', \"Òpera \"\"Die Zauberflöte (La Flauta Màgica)\"\", Catifa floral a la Parròquia de Santa Maria del Remei, Taller 'Art crític', \"Concert \"\"VV\"\"\", Taller 'Llengua de signes en família', Taller 'Llengua de signes en família', Xerrada 'L'accés a l'invisible', Taller 'Anglès des de zero', Taller 'Dibuix', \"Concert \"\"The Txandals\"\"\", Taller 'Photoshop (iniciació)', Taller 'Percussió corporal' *NOU*, Taller 'Percussió corporal' *NOU*, Exposició 'Subirachs. Retorn al Poblenou', Taller 'Restauració de mobles', Taller 'Cuina fresca de temporada', Taller 'Club de lectura', Taller 'Club de lectura', \"Exposició 'Firma', Concert 'Brutal', Taller 'Ballet barre', \"Concert \"\"Steve Vai\"\"\", Taller 'Ioga', Xerrades de teleassistència, Xerrades de teleassistència, \"Concert solidari \"\"Ladilla Rusa + Pirat's Sound Sistema + Chalart58 & Matah +Elane i més\"\"\", \"Taller 'Circ, Taller 'Pilates', \"Exposició 'Casa Àfrica: Migrar, Taller 'Urban sketching', Taller cultural 'L'art gòtic: l´Europa de le catedrals', Taller cultural 'L'art gòtic: l´Europa de le catedrals', Taller 'Balls de saló avançat', Taller en línia 'Hatha ioga per a dones', Taller 'Cuina fresca i acolorida' *Nou*, \"Taller \"\"Body-balance\"\"\", \"Taller \"\"Body-balance\"\"\", Taller voluntari 'Pintura sobre roba', \"Concert \"\"Arnau Griso\"\"\", Taller 'Escriptura creativa', Cicle líric 'Les veus del monestir', Taller 'Dansa polinèsia', Taller 'Aprèn a parlar en públic', Taller 'Clàssics indiscutibles de la història del cinema'' *NOU*, Taller 'Processos fotogràfics de creació artística' *NOU*', Taller 'Processos fotogràfics de creació artística' *NOU*', Taller 'Iniciació a la guitarra acústica', \"Concert a benefici de Xamfrà \"\"Manu Guix i Amics\"\"\", Taller 'Sòl pelvià i abdominals hipopressives' *NOU*, Taller per gent gran 'Hama', creArte: Coneixem les emocions a partir de la fotografia i el collage, \"Concert Jazztrònica XS \"\"Pol Omedes - Pura Vida\"\"\", Festival Hipnotik 2022, Festival Hipnotik 2022, \"Exposició '25 anys de la Universitat de Vic – UCC: Persones, \"Concert \"\"Mac DeMarco\"\"\", Exposició 'Tàpies. Malenconia', \"Concert \"\"Jacky Terrasson Trio\"\"\", Cicle de concerts al Hortet de la Farga, \"Concert \"\"Echo & Bunnymen\"\"\", Taller 'Gimnàstica dolça per a persones més grans de 60 anys', Sessions obertes de Dansa Lliure, Taller híbrid: 'Ioga hatha integral' *NOU*, Gran Festa Verdaguer 2022, \"Concert \"\"Jessie J\"\"\", \"Correllengua, Casa Martí Trias i Domènech, Casa Claudi Alsina, La Muralla Romana, Parc de la Font Florida, Funicular Tibidabo - Cuca de Llum, Fundació Barcelona Media - Centre d'Innovació, Plaça del Nen de la Rutlla, Plaça del Nen de la Rutlla, Casa Serra, Casa Serra, Col·legi Oficial de Metges de Barcelona, Col·legi Oficial de Metges de Barcelona, Consell Municipal del Districte de Sant Andreu, Consell Municipal del Districte de Sant Andreu, Consell Municipal del Districte de Sant Andreu, Torre d'Aigües de Carrasco i Formiguera, Carrer Aiguafreda, Casa Vidal, El Congrés i els Indians, Casa Pomar, Turó Park - Parc del Poeta Eduard Marquina, Casa Eudald Obradors, Casa Eudald Obradors, La plaça de Ramon M. Roca i Sastre, Club Natació Atlètic - Barceloneta, Casa Rubinat, Casa Rubinat, L'Estació dels FGC de Sarrià, La Vila Olímpica, Parc Carmel, Parc Carmel, La plaça de Comas, Placa Fotovoltaica, Cementiri d'Horta, Cementiri d'Horta, Parròquia de la Mare de Déu del Coll, Parròquia de la Mare de Déu del Coll, Parròquia de Sant Ramon Nonat, Castell de Torre Baró, Castell de Torre Baró, Parc del Mirador del Poble-sec, Parc del Mirador del Poble-sec, El Raval, La Casa de l'Aigua).\n\tat org.apache.spark.mllib.fpm.FPGrowth.$anonfun$genFreqItems$1(FPGrowth.scala:249)\n\tat scala.collection.Iterator$$anon$11.nextCur(Iterator.scala:486)\n\tat scala.collection.Iterator$$anon$11.hasNext(Iterator.scala:492)\n\tat scala.collection.Iterator$$anon$10.hasNext(Iterator.scala:460)\n\tat org.apache.spark.util.collection.ExternalSorter.insertAll(ExternalSorter.scala:197)\n\tat org.apache.spark.shuffle.sort.SortShuffleWriter.write(SortShuffleWriter.scala:63)\n\tat org.apache.spark.shuffle.ShuffleWriteProcessor.write(ShuffleWriteProcessor.scala:59)\n\tat org.apache.spark.scheduler.ShuffleMapTask.runTask(ShuffleMapTask.scala:99)\n\tat org.apache.spark.scheduler.ShuffleMapTask.runTask(ShuffleMapTask.scala:52)\n\tat org.apache.spark.scheduler.Task.run(Task.scala:131)\n\tat org.apache.spark.executor.Executor$TaskRunner.$anonfun$run$3(Executor.scala:506)\n\tat org.apache.spark.util.Utils$.tryWithSafeFinally(Utils.scala:1462)\n\tat org.apache.spark.executor.Executor$TaskRunner.run(Executor.scala:509)\n\tat java.base/java.util.concurrent.ThreadPoolExecutor.runWorker(ThreadPoolExecutor.java:1128)\n\tat java.base/java.util.concurrent.ThreadPoolExecutor$Worker.run(ThreadPoolExecutor.java:628)\n\t... 1 more\n"
     ]
    }
   ],
   "source": [
    "fpm = fp.fit(d)"
   ]
  },
  {
   "cell_type": "code",
   "execution_count": 79,
   "id": "6dc7bf60",
   "metadata": {},
   "outputs": [
    {
     "name": "stderr",
     "output_type": "stream",
     "text": [
      "[Stage 59:=====================================================>  (40 + 1) / 42]\r"
     ]
    },
    {
     "name": "stdout",
     "output_type": "stream",
     "text": [
      "+---------------+--------------------+----------+\n",
      "|           type|                name|trip_count|\n",
      "+---------------+--------------------+----------+\n",
      "|cultural events|    Taller 'Pilates'|        16|\n",
      "|cultural events|       Taller 'Ioga'|         9|\n",
      "|cultural events|     Taller 'Teatre'|         6|\n",
      "|cultural events|Taller 'Marxa nòr...|         5|\n",
      "|cultural events|Taller 'Estiraments'|         5|\n",
      "|     activities|     Cinema solidari|         4|\n",
      "|     activities|Visita guiada 'El...|         4|\n",
      "|     activities|Dates de Festa Major|         4|\n",
      "|     activities|Taller 'Gipsy ori...|         4|\n",
      "|cultural events|Taller híbrid 'Fe...|         4|\n",
      "|cultural events|Taller 'Iniciació...|         4|\n",
      "|cultural events|      Taller 'Zumba'|         4|\n",
      "|cultural events|Taller 'Escriptur...|         4|\n",
      "|cultural events|Taller 'Dansa con...|         4|\n",
      "|cultural events|Presentació del p...|         4|\n",
      "|cultural events|Taller 'Dibuix i ...|         4|\n",
      "|cultural events|Taller 'Iniciació...|         4|\n",
      "|cultural events|Taller 'Restaurac...|         4|\n",
      "|cultural events| Taller 'Sevillanes'|         4|\n",
      "|cultural events|     Taller 'Dibuix'|         4|\n",
      "+---------------+--------------------+----------+\n",
      "only showing top 20 rows\n",
      "\n"
     ]
    },
    {
     "name": "stderr",
     "output_type": "stream",
     "text": [
      "                                                                                \r"
     ]
    }
   ],
   "source": [
    "#df.select(SF.collect_set(\"name\").alias(\"name\")).first()[\"name\"]\n",
    "\n",
    "df1 = df.groupBy('type', 'name').agg(SF.count('name').alias('trip_count'))\n",
    "df2 = df1.sort(df1.trip_count.desc()).show()"
   ]
  },
  {
   "cell_type": "code",
   "execution_count": 75,
   "id": "bec89c3e",
   "metadata": {},
   "outputs": [
    {
     "name": "stderr",
     "output_type": "stream",
     "text": [
      "[Stage 50:======================================================> (41 + 1) / 42]\r"
     ]
    },
    {
     "name": "stdout",
     "output_type": "stream",
     "text": [
      "+--------------------+\n",
      "|                name|\n",
      "+--------------------+\n",
      "|Torneig de videoj...|\n",
      "|Monòleg amb Marc ...|\n",
      "|Casal esportiu i ...|\n",
      "|Tertúlia literari...|\n",
      "|Espectacle famili...|\n",
      "|Xerrada 'Una obra...|\n",
      "|Casal d'estiu 'Mi...|\n",
      "|Taller 'Hipopress...|\n",
      "|Intervenció artís...|\n",
      "| Festival Ubeat Live|\n",
      "|Espectacle “Bros”...|\n",
      "|Exposició 'Memòri...|\n",
      "|'Com s'inventen e...|\n",
      "|   Teatre \"Ximpanzé\"|\n",
      "|Taller 'Creació d...|\n",
      "|Espectacle \"L'oll...|\n",
      "|Visita dinamitzad...|\n",
      "|Concert \"Jimi Som...|\n",
      "|Lliure al sofà - ...|\n",
      "|Visites guiades -...|\n",
      "+--------------------+\n",
      "only showing top 20 rows\n",
      "\n"
     ]
    },
    {
     "name": "stderr",
     "output_type": "stream",
     "text": [
      "                                                                                \r"
     ]
    }
   ],
   "source": [
    "#df.select(SF.count('name').alias(\"total\")).show()\n",
    "df.select(\"name\").distinct().show()"
   ]
  },
  {
   "cell_type": "code",
   "execution_count": null,
   "id": "06576b95",
   "metadata": {},
   "outputs": [],
   "source": []
  }
 ],
 "metadata": {
  "interpreter": {
   "hash": "bbe16ac06b6d4bacd07cf5564ffa86eb58e7e2ab169d83d01490a955ddfe1246"
  },
  "kernelspec": {
   "display_name": "Python 3.8.13 ('bdm')",
   "language": "python",
   "name": "python3"
  },
  "language_info": {
   "codemirror_mode": {
    "name": "ipython",
    "version": 3
   },
   "file_extension": ".py",
   "mimetype": "text/x-python",
   "name": "python",
   "nbconvert_exporter": "python",
   "pygments_lexer": "ipython3",
   "version": "3.8.13"
  }
 },
 "nbformat": 4,
 "nbformat_minor": 5
}
