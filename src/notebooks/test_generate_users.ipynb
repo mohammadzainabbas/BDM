{
 "cells": [
  {
   "cell_type": "code",
   "execution_count": 2,
   "id": "40395952-efee-4ce9-a21b-fe326add3ae5",
   "metadata": {},
   "outputs": [],
   "source": [
    "%load_ext autoreload\n",
    "\n",
    "import warnings\n",
    "warnings.filterwarnings(\"ignore\") # disable warnings\n",
    "\n",
    "from os import listdir\n",
    "from os.path import join\n",
    "import csv, sys\n",
    "import dateutil.parser\n",
    "import pyspark as ps\n",
    "from pyspark.sql import functions as SF\n",
    "from pyspark import SparkContext\n",
    "from pyspark.sql import SparkSession, SQLContext\n",
    "from pyspark.sql.types import (StringType, DoubleType, TimestampType, NullType, IntegerType, StructType, StructField)\n",
    "\n",
    "from random import choice\n",
    "import names\n",
    "from hdfs import InsecureClient\n",
    "from functools import reduce\n",
    "from IPython.core.interactiveshell import InteractiveShell"
   ]
  },
  {
   "cell_type": "code",
   "execution_count": 3,
   "id": "27b2a52a",
   "metadata": {},
   "outputs": [],
   "source": [
    "#! /home/bdm/miniconda3/bin/python\n",
    "HDFS_PORT = 9870\n",
    "HDFS_IP = \"10.4.41.81\"\n",
    "HDFS_HOSTNAME = \"alakazam.fib.upc.es\"\n",
    "HDFS_DEFAULT = \"hdfs://alakazam.fib.upc.es:27000\"\n",
    "HDFS_ADDRESS = \"http://{}:{}\".format(HDFS_IP, HDFS_PORT)\n",
    "HDFS_USER = \"bdm\"\n",
    "HDFS_HOME = \"/user/{}\".format(HDFS_USER)\n",
    "\n",
    "def get_hdfs_home():\n",
    "    return \"{}{}\".format(HDFS_DEFAULT, HDFS_HOME)\n",
    "parent_dir = \"formatted_data\"\n",
    "# For HDFS Path\n",
    "hdfs_home = get_hdfs_home()\n",
    "# For users\n",
    "users_dir = \"{}/{}\".format(hdfs_home, join(parent_dir, \"users\"))\n"
   ]
  },
  {
   "cell_type": "code",
   "execution_count": 4,
   "id": "2fc8e0ca",
   "metadata": {},
   "outputs": [
    {
     "data": {
      "text/plain": [
       "'hdfs://alakazam.fib.upc.es:27000/user/bdm/formatted_data/users'"
      ]
     },
     "execution_count": 4,
     "metadata": {},
     "output_type": "execute_result"
    }
   ],
   "source": [
    "users_dir"
   ]
  },
  {
   "cell_type": "markdown",
   "id": "afed05d9",
   "metadata": {},
   "source": [
    "Config settings"
   ]
  },
  {
   "cell_type": "code",
   "execution_count": 18,
   "id": "8a97ebd1",
   "metadata": {},
   "outputs": [],
   "source": [
    "# For IPython\n",
    "\n",
    "InteractiveShell.ast_node_interactivity = \"all\" # To show all output after each cell execution (instead of the last output)\n",
    "\n",
    "# For HDFS\n",
    "HDFS_PORT = 9870\n",
    "HDFS_IP = \"10.4.41.81\"\n",
    "HDFS_HOSTNAME = \"alakazam.fib.upc.es\"\n",
    "HDFS_DEFAULT = \"hdfs://alakazam.fib.upc.es:27000\"\n",
    "HDFS_ADDRESS = \"http://{}:{}\".format(HDFS_IP, HDFS_PORT)\n",
    "HDFS_USER = \"bdm\"\n",
    "HDFS_HOME = \"/user/{}\".format(HDFS_USER)\n",
    "\n",
    "# For HDFS Path\n",
    "\n",
    "hdfs_home = \"{}{}\".format(HDFS_DEFAULT, HDFS_HOME)\n",
    "\n",
    "# For users\n",
    "users_dir = join(\"formatted_data\", \"users\")\n",
    "hdfs_location = \"{}/{}\".format(hdfs_home, users_dir)\n",
    "\n",
    "# For events\n",
    "activities_dir = \"{}/{}\".format(hdfs_home, join(\"formatted_data\", \"activities\"))\n",
    "culture_dir = \"{}/{}\".format(hdfs_home, join(\"formatted_data\", \"cultural_events\"))\n",
    "tourist_points_dir = \"{}/{}\".format(hdfs_home, join(\"formatted_data\", \"touristic_points\"))"
   ]
  },
  {
   "cell_type": "code",
   "execution_count": 19,
   "id": "3071a0e2",
   "metadata": {},
   "outputs": [
    {
     "data": {
      "text/plain": [
       "'hdfs://alakazam.fib.upc.es:27000/user/bdm/formatted_data/activities'"
      ]
     },
     "execution_count": 19,
     "metadata": {},
     "output_type": "execute_result"
    },
    {
     "data": {
      "text/plain": [
       "'hdfs://alakazam.fib.upc.es:27000/user/bdm/formatted_data/cultural_events'"
      ]
     },
     "execution_count": 19,
     "metadata": {},
     "output_type": "execute_result"
    },
    {
     "data": {
      "text/plain": [
       "'hdfs://alakazam.fib.upc.es:27000/user/bdm/formatted_data/touristic_points'"
      ]
     },
     "execution_count": 19,
     "metadata": {},
     "output_type": "execute_result"
    },
    {
     "data": {
      "text/plain": [
       "'hdfs://alakazam.fib.upc.es:27000/user/bdm/formatted_data/users'"
      ]
     },
     "execution_count": 19,
     "metadata": {},
     "output_type": "execute_result"
    }
   ],
   "source": [
    "activities_dir\n",
    "culture_dir\n",
    "tourist_points_dir\n",
    "hdfs_location"
   ]
  },
  {
   "cell_type": "code",
   "execution_count": 9,
   "id": "a6bcc837",
   "metadata": {},
   "outputs": [],
   "source": [
    "def get_hdfs_address():\n",
    "    return HDFS_ADDRESS\n",
    "\n",
    "def get_hdfs_user():\n",
    "    return HDFS_USER\n",
    "\n",
    "def get_hdfs_user_home():\n",
    "    return HDFS_HOME\n",
    "\n",
    "def get_hdfs_client():\n",
    "    return InsecureClient(url=get_hdfs_address(), user=get_hdfs_user())\n"
   ]
  },
  {
   "cell_type": "code",
   "execution_count": 24,
   "id": "ce436229",
   "metadata": {},
   "outputs": [],
   "source": [
    "def concat_dataframes(dfs):\n",
    "    \"\"\"\n",
    "    Concat multiple pyspark dataframe(s)\n",
    "\n",
    "    https://www.geeksforgeeks.org/concatenate-two-pyspark-dataframes/\n",
    "    \"\"\"\n",
    "    return reduce(lambda df1, df2: df1.union( df2.select( df1.columns ) ), dfs)"
   ]
  },
  {
   "cell_type": "code",
   "execution_count": 10,
   "id": "4bee5a98",
   "metadata": {},
   "outputs": [
    {
     "name": "stderr",
     "output_type": "stream",
     "text": [
      "WARNING: An illegal reflective access operation has occurred\n",
      "WARNING: Illegal reflective access by org.apache.spark.unsafe.Platform (file:/home/bdm/miniconda3/envs/bdm/lib/python3.8/site-packages/pyspark/jars/spark-unsafe_2.12-3.2.1.jar) to constructor java.nio.DirectByteBuffer(long,int)\n",
      "WARNING: Please consider reporting this to the maintainers of org.apache.spark.unsafe.Platform\n",
      "WARNING: Use --illegal-access=warn to enable warnings of further illegal reflective access operations\n",
      "WARNING: All illegal access operations will be denied in a future release\n",
      "Using Spark's default log4j profile: org/apache/spark/log4j-defaults.properties\n",
      "Setting default log level to \"WARN\".\n",
      "To adjust logging level use sc.setLogLevel(newLevel). For SparkR, use setLogLevel(newLevel).\n",
      "22/06/13 06:32:47 WARN NativeCodeLoader: Unable to load native-hadoop library for your platform... using builtin-java classes where applicable\n",
      "22/06/13 06:32:52 WARN Utils: Service 'SparkUI' could not bind on port 4040. Attempting port 4041.\n",
      "22/06/13 06:32:52 WARN Utils: Service 'SparkUI' could not bind on port 4041. Attempting port 4042.\n",
      "22/06/13 06:32:52 WARN Utils: Service 'SparkUI' could not bind on port 4042. Attempting port 4043.\n"
     ]
    }
   ],
   "source": [
    "spark = SparkSession.builder.appName(\"bdm5\").master('local').getOrCreate()\n",
    "sc = spark.sparkContext\n",
    "sqlContext = SQLContext(sc)"
   ]
  },
  {
   "cell_type": "code",
   "execution_count": 11,
   "id": "14e48560",
   "metadata": {},
   "outputs": [
    {
     "data": {
      "text/plain": [
       "<InsecureClient(url='http://10.4.41.81:9870')>"
      ]
     },
     "execution_count": 11,
     "metadata": {},
     "output_type": "execute_result"
    }
   ],
   "source": [
    "client = get_hdfs_client()\n",
    "client"
   ]
  },
  {
   "cell_type": "code",
   "execution_count": 12,
   "id": "8a267007",
   "metadata": {},
   "outputs": [],
   "source": [
    "def get_random_name():\n",
    "    \"\"\"\n",
    "    Generate her names\n",
    "    \"\"\"\n",
    "    return names.get_full_name()"
   ]
  },
  {
   "cell_type": "code",
   "execution_count": 14,
   "id": "bcbdb998",
   "metadata": {},
   "outputs": [
    {
     "data": {
      "text/plain": [
       "'Leola Odom'"
      ]
     },
     "execution_count": 14,
     "metadata": {},
     "output_type": "execute_result"
    }
   ],
   "source": [
    "get_random_name()"
   ]
  },
  {
   "cell_type": "code",
   "execution_count": 16,
   "id": "50009f58",
   "metadata": {},
   "outputs": [
    {
     "name": "stdout",
     "output_type": "stream",
     "text": [
      "No users\n"
     ]
    }
   ],
   "source": [
    "files = client.list(users_dir)\n",
    "if not len(files):\n",
    "    # no files\n",
    "    print(\"No users\")\n",
    "else:\n",
    "    df = sqlContext.read.parquet(hdfs_location)\n",
    "    df.show(10)"
   ]
  },
  {
   "cell_type": "code",
   "execution_count": 40,
   "id": "5d27a5db",
   "metadata": {},
   "outputs": [],
   "source": [
    "df_activities = sqlContext.read.parquet(activities_dir)\n",
    "df_culture = sqlContext.read.parquet(culture_dir)\n",
    "df_tourist_points = sqlContext.read.parquet(tourist_points_dir)"
   ]
  },
  {
   "cell_type": "code",
   "execution_count": 39,
   "id": "d96f9e53",
   "metadata": {},
   "outputs": [],
   "source": [
    "activities_type = SF.udf(lambda : \"activities\", StringType())\n",
    "culture_type = SF.udf(lambda : \"cultural events\", StringType())\n",
    "tourist_points_type = SF.udf(lambda : \"tourist points\", StringType())"
   ]
  },
  {
   "cell_type": "code",
   "execution_count": null,
   "id": "b2b92d37",
   "metadata": {},
   "outputs": [],
   "source": [
    "df_activities = df_activities.withColumn(\"type\", activities_type())\n",
    "df_culture = df_culture.withColumn(\"type\", culture_type())\n",
    "df_tourist_points = df_tourist_points.withColumn(\"type\", tourist_points_type())"
   ]
  },
  {
   "cell_type": "code",
   "execution_count": 91,
   "id": "e3735b6f",
   "metadata": {},
   "outputs": [],
   "source": [
    "df = concat_dataframes([df_activities, df_culture, df_tourist_points])"
   ]
  },
  {
   "cell_type": "code",
   "execution_count": 45,
   "id": "1cd30c9d",
   "metadata": {},
   "outputs": [
    {
     "name": "stderr",
     "output_type": "stream",
     "text": [
      "                                                                                \r"
     ]
    },
    {
     "name": "stdout",
     "output_type": "stream",
     "text": [
      "+------------+--------------------+------------------+-----------------+-------------------------+---------------------------+---------------------+-----------------------+-------------------+-----------------+--------------------+----------+\n",
      "| register_id|                name|   geo_epgs_4326_x|  geo_epgs_4326_y|addresses_neighborhood_id|addresses_neighborhood_name|addresses_district_id|addresses_district_name|addresses_road_name|addresses_road_id|           timestamp|      type|\n",
      "+------------+--------------------+------------------+-----------------+-------------------------+---------------------------+---------------------+-----------------------+-------------------+-----------------+--------------------+----------+\n",
      "|﻿99400169638|Visites guiades '...| 41.38666133472934|2.171438214409541|                        2|             el Barri Gòtic|                    1|           Ciutat Vella| Plaça de Catalunya|            74404|2022-06-11 13:26:...|activities|\n",
      "|﻿99400683221|'American Space. ...| 41.43451246069436|2.190888481599359|                       60|                Sant Andreu|                    9|            Sant Andreu|   Carrer del Segre|           322007|2022-06-11 13:26:...|activities|\n",
      "|﻿99400652028|Campus Olímpia Es...|   41.417043044689|2.173643558580499|                       35|                el Guinardó|                    7|         Horta-Guinardó|         C Telègraf|           332805|2022-06-11 13:26:...|activities|\n",
      "|﻿99400227760|\"Festa Major Baró...|41.447626594973904|2.201748594300489|                       58|              Baró de Viver|                    9|            Sant Andreu| Carrer de Clariana|            81206|2022-06-11 13:26:...|activities|\n",
      "+------------+--------------------+------------------+-----------------+-------------------------+---------------------------+---------------------+-----------------------+-------------------+-----------------+--------------------+----------+\n",
      "only showing top 4 rows\n",
      "\n"
     ]
    }
   ],
   "source": [
    "df.show(4)"
   ]
  },
  {
   "cell_type": "code",
   "execution_count": 47,
   "id": "e24ef077",
   "metadata": {},
   "outputs": [
    {
     "name": "stderr",
     "output_type": "stream",
     "text": [
      "                                                                                \r"
     ]
    },
    {
     "data": {
      "text/plain": [
       "3156"
      ]
     },
     "execution_count": 47,
     "metadata": {},
     "output_type": "execute_result"
    },
    {
     "name": "stderr",
     "output_type": "stream",
     "text": [
      "                                                                                \r"
     ]
    },
    {
     "data": {
      "text/plain": [
       "2364"
      ]
     },
     "execution_count": 47,
     "metadata": {},
     "output_type": "execute_result"
    },
    {
     "name": "stderr",
     "output_type": "stream",
     "text": [
      "                                                                                \r"
     ]
    },
    {
     "data": {
      "text/plain": [
       "855"
      ]
     },
     "execution_count": 47,
     "metadata": {},
     "output_type": "execute_result"
    },
    {
     "name": "stderr",
     "output_type": "stream",
     "text": [
      "                                                                                \r"
     ]
    },
    {
     "data": {
      "text/plain": [
       "6375"
      ]
     },
     "execution_count": 47,
     "metadata": {},
     "output_type": "execute_result"
    }
   ],
   "source": [
    "df_activities.count()\n",
    "df_culture.count()\n",
    "df_tourist_points.count()\n",
    "df.count()"
   ]
  },
  {
   "cell_type": "code",
   "execution_count": 61,
   "id": "3325028d",
   "metadata": {},
   "outputs": [],
   "source": [
    "users = [get_random_name() for i in range(0, 10)]"
   ]
  },
  {
   "cell_type": "code",
   "execution_count": 62,
   "id": "c7afd60d",
   "metadata": {},
   "outputs": [
    {
     "data": {
      "text/plain": [
       "['David Smith',\n",
       " 'Donald Roberts',\n",
       " 'Betty Mannino',\n",
       " 'Mildred Chong',\n",
       " 'Edith Tibbles',\n",
       " 'Tony Barlow',\n",
       " 'Antonia Jernigan',\n",
       " 'Mickey Broadnax',\n",
       " 'Francisco Wyatt',\n",
       " 'Junior Fulton']"
      ]
     },
     "execution_count": 62,
     "metadata": {},
     "output_type": "execute_result"
    }
   ],
   "source": [
    "users"
   ]
  },
  {
   "cell_type": "code",
   "execution_count": 92,
   "id": "a2f09a8d",
   "metadata": {},
   "outputs": [],
   "source": [
    "generate_random = SF.udf(lambda : choice(users), StringType())"
   ]
  },
  {
   "cell_type": "code",
   "execution_count": 93,
   "id": "6ab02f23",
   "metadata": {},
   "outputs": [],
   "source": [
    "df = df.withColumn(\"user\", generate_random())"
   ]
  },
  {
   "cell_type": "code",
   "execution_count": null,
   "id": "75f57417",
   "metadata": {},
   "outputs": [],
   "source": [
    "df.show(10)"
   ]
  },
  {
   "cell_type": "code",
   "execution_count": 48,
   "id": "b0757887",
   "metadata": {},
   "outputs": [],
   "source": [
    "df_rdd = df.rdd.sample(False, 0.1, 0)"
   ]
  },
  {
   "cell_type": "code",
   "execution_count": 53,
   "id": "0d519033",
   "metadata": {},
   "outputs": [
    {
     "name": "stderr",
     "output_type": "stream",
     "text": [
      "                                                                                \r"
     ]
    },
    {
     "data": {
      "text/plain": [
       "641"
      ]
     },
     "execution_count": 53,
     "metadata": {},
     "output_type": "execute_result"
    }
   ],
   "source": [
    "df_rdd.count()"
   ]
  },
  {
   "cell_type": "code",
   "execution_count": 54,
   "id": "8567ae78",
   "metadata": {},
   "outputs": [],
   "source": [
    "    generate_random = SF.udf(lambda : get_random_name(), StringType())"
   ]
  },
  {
   "cell_type": "code",
   "execution_count": 55,
   "id": "439dbf97",
   "metadata": {},
   "outputs": [],
   "source": [
    "df = df.withColumn(\"user\", generate_random())"
   ]
  },
  {
   "cell_type": "code",
   "execution_count": 94,
   "id": "47f29819",
   "metadata": {},
   "outputs": [
    {
     "name": "stdout",
     "output_type": "stream",
     "text": [
      "root\n",
      " |-- register_id: string (nullable = true)\n",
      " |-- name: string (nullable = true)\n",
      " |-- geo_epgs_4326_x: string (nullable = true)\n",
      " |-- geo_epgs_4326_y: string (nullable = true)\n",
      " |-- addresses_neighborhood_id: string (nullable = true)\n",
      " |-- addresses_neighborhood_name: string (nullable = true)\n",
      " |-- addresses_district_id: string (nullable = true)\n",
      " |-- addresses_district_name: string (nullable = true)\n",
      " |-- addresses_road_name: string (nullable = true)\n",
      " |-- addresses_road_id: string (nullable = true)\n",
      " |-- timestamp: timestamp (nullable = true)\n",
      " |-- type: string (nullable = true)\n",
      " |-- user: string (nullable = true)\n",
      "\n"
     ]
    }
   ],
   "source": [
    "df.printSchema()"
   ]
  },
  {
   "cell_type": "code",
   "execution_count": 95,
   "id": "28792067",
   "metadata": {},
   "outputs": [],
   "source": [
    "df = df.select([\"user\", \"type\", \"name\", \"register_id\"])"
   ]
  },
  {
   "cell_type": "code",
   "execution_count": 96,
   "id": "a101d6cd",
   "metadata": {},
   "outputs": [],
   "source": [
    "df = df.sample(withReplacement=True, fraction=0.5, seed=3)"
   ]
  },
  {
   "cell_type": "code",
   "execution_count": 85,
   "id": "df70f6dc",
   "metadata": {},
   "outputs": [],
   "source": [
    "from pyspark.ml.fpm import FPGrowth\n"
   ]
  },
  {
   "cell_type": "code",
   "execution_count": 97,
   "id": "45ca18eb",
   "metadata": {},
   "outputs": [],
   "source": [
    "d = df.groupBy(\"user\").agg(SF.collect_list(\"register_id\").alias(\"items\"))"
   ]
  },
  {
   "cell_type": "code",
   "execution_count": 98,
   "id": "17edf0a5",
   "metadata": {},
   "outputs": [],
   "source": [
    "d = d.select(\"items\")"
   ]
  },
  {
   "cell_type": "code",
   "execution_count": 99,
   "id": "9f77977b",
   "metadata": {},
   "outputs": [],
   "source": [
    "fp = FPGrowth(minSupport=0.2, minConfidence=0.7)"
   ]
  },
  {
   "cell_type": "code",
   "execution_count": 100,
   "id": "9c8e60be",
   "metadata": {},
   "outputs": [],
   "source": [
    "fpm = fp.fit(d)"
   ]
  },
  {
   "cell_type": "code",
   "execution_count": 79,
   "id": "6dc7bf60",
   "metadata": {},
   "outputs": [
    {
     "name": "stderr",
     "output_type": "stream",
     "text": [
      "[Stage 59:=====================================================>  (40 + 1) / 42]\r"
     ]
    },
    {
     "name": "stdout",
     "output_type": "stream",
     "text": [
      "+---------------+--------------------+----------+\n",
      "|           type|                name|trip_count|\n",
      "+---------------+--------------------+----------+\n",
      "|cultural events|    Taller 'Pilates'|        16|\n",
      "|cultural events|       Taller 'Ioga'|         9|\n",
      "|cultural events|     Taller 'Teatre'|         6|\n",
      "|cultural events|Taller 'Marxa nòr...|         5|\n",
      "|cultural events|Taller 'Estiraments'|         5|\n",
      "|     activities|     Cinema solidari|         4|\n",
      "|     activities|Visita guiada 'El...|         4|\n",
      "|     activities|Dates de Festa Major|         4|\n",
      "|     activities|Taller 'Gipsy ori...|         4|\n",
      "|cultural events|Taller híbrid 'Fe...|         4|\n",
      "|cultural events|Taller 'Iniciació...|         4|\n",
      "|cultural events|      Taller 'Zumba'|         4|\n",
      "|cultural events|Taller 'Escriptur...|         4|\n",
      "|cultural events|Taller 'Dansa con...|         4|\n",
      "|cultural events|Presentació del p...|         4|\n",
      "|cultural events|Taller 'Dibuix i ...|         4|\n",
      "|cultural events|Taller 'Iniciació...|         4|\n",
      "|cultural events|Taller 'Restaurac...|         4|\n",
      "|cultural events| Taller 'Sevillanes'|         4|\n",
      "|cultural events|     Taller 'Dibuix'|         4|\n",
      "+---------------+--------------------+----------+\n",
      "only showing top 20 rows\n",
      "\n"
     ]
    },
    {
     "name": "stderr",
     "output_type": "stream",
     "text": [
      "                                                                                \r"
     ]
    }
   ],
   "source": [
    "#df.select(SF.collect_set(\"name\").alias(\"name\")).first()[\"name\"]\n",
    "\n",
    "df1 = df.groupBy('type', 'name').agg(SF.count('name').alias('trip_count'))\n",
    "df2 = df1.sort(df1.trip_count.desc()).show()"
   ]
  },
  {
   "cell_type": "code",
   "execution_count": 75,
   "id": "bec89c3e",
   "metadata": {},
   "outputs": [
    {
     "name": "stderr",
     "output_type": "stream",
     "text": [
      "[Stage 50:======================================================> (41 + 1) / 42]\r"
     ]
    },
    {
     "name": "stdout",
     "output_type": "stream",
     "text": [
      "+--------------------+\n",
      "|                name|\n",
      "+--------------------+\n",
      "|Torneig de videoj...|\n",
      "|Monòleg amb Marc ...|\n",
      "|Casal esportiu i ...|\n",
      "|Tertúlia literari...|\n",
      "|Espectacle famili...|\n",
      "|Xerrada 'Una obra...|\n",
      "|Casal d'estiu 'Mi...|\n",
      "|Taller 'Hipopress...|\n",
      "|Intervenció artís...|\n",
      "| Festival Ubeat Live|\n",
      "|Espectacle “Bros”...|\n",
      "|Exposició 'Memòri...|\n",
      "|'Com s'inventen e...|\n",
      "|   Teatre \"Ximpanzé\"|\n",
      "|Taller 'Creació d...|\n",
      "|Espectacle \"L'oll...|\n",
      "|Visita dinamitzad...|\n",
      "|Concert \"Jimi Som...|\n",
      "|Lliure al sofà - ...|\n",
      "|Visites guiades -...|\n",
      "+--------------------+\n",
      "only showing top 20 rows\n",
      "\n"
     ]
    },
    {
     "name": "stderr",
     "output_type": "stream",
     "text": [
      "                                                                                \r"
     ]
    }
   ],
   "source": [
    "#df.select(SF.count('name').alias(\"total\")).show()\n",
    "df.select(\"name\").distinct().show()"
   ]
  },
  {
   "cell_type": "code",
   "execution_count": null,
   "id": "06576b95",
   "metadata": {},
   "outputs": [],
   "source": []
  }
 ],
 "metadata": {
  "interpreter": {
   "hash": "bbe16ac06b6d4bacd07cf5564ffa86eb58e7e2ab169d83d01490a955ddfe1246"
  },
  "kernelspec": {
   "display_name": "Python 3.8.13 ('bdm')",
   "language": "python",
   "name": "python3"
  },
  "language_info": {
   "codemirror_mode": {
    "name": "ipython",
    "version": 3
   },
   "file_extension": ".py",
   "mimetype": "text/x-python",
   "name": "python",
   "nbconvert_exporter": "python",
   "pygments_lexer": "ipython3",
   "version": "3.8.13"
  }
 },
 "nbformat": 4,
 "nbformat_minor": 5
}
