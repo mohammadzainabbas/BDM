{
 "cells": [
  {
   "cell_type": "code",
   "execution_count": 1,
   "id": "40395952-efee-4ce9-a21b-fe326add3ae5",
   "metadata": {},
   "outputs": [],
   "source": [
    "%load_ext autoreload\n",
    "\n",
    "import warnings\n",
    "warnings.filterwarnings(\"ignore\") # disable warnings\n",
    "\n",
    "from os import listdir\n",
    "from os.path import join\n",
    "import csv, sys\n",
    "import dateutil.parser\n",
    "import pyspark as ps\n",
    "from pyspark import SparkContext\n",
    "from pyspark.sql import SparkSession, SQLContext\n",
    "from pyspark.sql.types import (StringType, DoubleType, TimestampType, NullType, IntegerType, StructType, StructField)\n",
    "\n",
    "from IPython.core.interactiveshell import InteractiveShell"
   ]
  },
  {
   "cell_type": "markdown",
   "id": "afed05d9",
   "metadata": {},
   "source": [
    "Config settings"
   ]
  },
  {
   "cell_type": "code",
   "execution_count": 2,
   "id": "8a97ebd1",
   "metadata": {},
   "outputs": [],
   "source": [
    "# For IPython\n",
    "\n",
    "InteractiveShell.ast_node_interactivity = \"all\" # To show all output after each cell execution (instead of the last output)\n",
    "\n",
    "# For HDFS\n",
    "HDFS_DEFAULT = \"hdfs://alakazam.fib.upc.es:27000\"\n",
    "HDFS_USER = \"bdm\"\n",
    "HDFS_HOME = \"/user/{}\".format(HDFS_USER)\n",
    "\n",
    "# For HDFS Path\n",
    "\n",
    "hdfs_home = \"{}{}\".format(HDFS_DEFAULT, HDFS_HOME)\n",
    "\n",
    "# For events\n",
    "activities_dir = join(\"data\", \"events\", \"activities\")\n",
    "culture_dir = join(\"data\", \"events\", \"culture\")\n",
    "tourist_points_dir = join(\"data\", \"events\", \"tourist_points\")\n",
    "\n",
    "# For specific file\n",
    "data_date = \"20220404\"\n",
    "\n",
    "activities_file = \"{}/{}/{}\".format(hdfs_home, activities_dir, \"activities_{}.parquet\".format(data_date))\n",
    "culture_file = \"{}/{}/{}\".format(hdfs_home, culture_dir, \"culture_{}.parquet\".format(data_date))\n",
    "tourist_points_file = \"{}/{}/{}\".format(hdfs_home, tourist_points_dir, \"tourist_points_{}.parquet\".format(data_date))"
   ]
  },
  {
   "cell_type": "code",
   "execution_count": 3,
   "id": "4bee5a98",
   "metadata": {},
   "outputs": [
    {
     "name": "stderr",
     "output_type": "stream",
     "text": [
      "WARNING: An illegal reflective access operation has occurred\n",
      "WARNING: Illegal reflective access by org.apache.spark.unsafe.Platform (file:/home/bdm/miniconda3/envs/bdm/lib/python3.8/site-packages/pyspark/jars/spark-unsafe_2.12-3.2.1.jar) to constructor java.nio.DirectByteBuffer(long,int)\n",
      "WARNING: Please consider reporting this to the maintainers of org.apache.spark.unsafe.Platform\n",
      "WARNING: Use --illegal-access=warn to enable warnings of further illegal reflective access operations\n",
      "WARNING: All illegal access operations will be denied in a future release\n",
      "Using Spark's default log4j profile: org/apache/spark/log4j-defaults.properties\n",
      "Setting default log level to \"WARN\".\n",
      "To adjust logging level use sc.setLogLevel(newLevel). For SparkR, use setLogLevel(newLevel).\n",
      "22/06/22 00:29:23 WARN NativeCodeLoader: Unable to load native-hadoop library for your platform... using builtin-java classes where applicable\n"
     ]
    }
   ],
   "source": [
    "spark = SparkSession.builder.appName(\"bdm5\").master('local').getOrCreate()\n",
    "sc = spark.sparkContext\n",
    "sqlContext = SQLContext(sc)"
   ]
  },
  {
   "cell_type": "code",
   "execution_count": 14,
   "id": "4e6c471e",
   "metadata": {},
   "outputs": [
    {
     "data": {
      "text/plain": [
       "['satisfaction_level,last_evaluation,number_project,average_montly_hours,time_spend_company,Work_accident,left,promotion_last_5years,sales,salary',\n",
       " '0.38,0.53,2,157,3,0,1,0,sales,low',\n",
       " '0.8,0.86,5,262,6,0,1,0,sales,medium',\n",
       " '0.11,0.88,7,272,4,0,1,0,sales,medium',\n",
       " '0.72,0.87,5,223,5,0,1,0,sales,low',\n",
       " '0.37,0.52,2,159,3,0,1,0,sales,low',\n",
       " '0.41,0.5,2,153,3,0,1,0,sales,low',\n",
       " '0.1,0.77,6,247,4,0,1,0,sales,low',\n",
       " '0.92,0.85,5,259,5,0,1,0,sales,low',\n",
       " '0.89,1,5,224,5,0,1,0,sales,low']"
      ]
     },
     "execution_count": 14,
     "metadata": {},
     "output_type": "execute_result"
    }
   ],
   "source": [
    "file = sc.textFile(\"hr_comma_sep.csv\")\n",
    "file.take(10)"
   ]
  },
  {
   "cell_type": "code",
   "execution_count": 25,
   "id": "c5785fa8-57c6-4983-9bbe-283085d4aac9",
   "metadata": {},
   "outputs": [
    {
     "data": {
      "text/plain": [
       "[(2, (0.38, 1)),\n",
       " (5, (0.8, 1)),\n",
       " (7, (0.11, 1)),\n",
       " (5, (0.72, 1)),\n",
       " (2, (0.37, 1)),\n",
       " (2, (0.41, 1)),\n",
       " (6, (0.1, 1)),\n",
       " (5, (0.92, 1)),\n",
       " (5, (0.89, 1)),\n",
       " (2, (0.42, 1))]"
      ]
     },
     "execution_count": 25,
     "metadata": {},
     "output_type": "execute_result"
    }
   ],
   "source": [
    "r = file.filter(lambda x: \"satisfaction_level\" not in x) \\\n",
    ".map(lambda x: (int(x.split(\",\")[2]), float(x.split(\",\")[0]))) \\\n",
    ".mapValues(lambda x: (x, 1))\n",
    "\n",
    "r.take(10)"
   ]
  },
  {
   "cell_type": "code",
   "execution_count": 30,
   "id": "3792324c",
   "metadata": {},
   "outputs": [
    {
     "data": {
      "text/plain": [
       "[(2, (1143.300000000009, 2388)),\n",
       " (5, (1874.4100000000037, 2761)),\n",
       " (7, (30.39000000000001, 256)),\n",
       " (6, (321.04000000000235, 1174)),\n",
       " (4, (3034.2499999999973, 4365)),\n",
       " (3, (2788.5000000000027, 4055))]"
      ]
     },
     "execution_count": 30,
     "metadata": {},
     "output_type": "execute_result"
    }
   ],
   "source": [
    "d = r.reduceByKey(lambda a, b: (a[0] + b[0], a[1] + b[1]))\n",
    "\n",
    "d.take(10)"
   ]
  },
  {
   "cell_type": "code",
   "execution_count": 35,
   "id": "33c1916c",
   "metadata": {},
   "outputs": [
    {
     "name": "stdout",
     "output_type": "stream",
     "text": [
      "\u001b[0;31mSignature:\u001b[0m\n",
      "\u001b[0mt\u001b[0m\u001b[0;34m.\u001b[0m\u001b[0msortByKey\u001b[0m\u001b[0;34m(\u001b[0m\u001b[0;34m\u001b[0m\n",
      "\u001b[0;34m\u001b[0m    \u001b[0mascending\u001b[0m\u001b[0;34m=\u001b[0m\u001b[0;32mTrue\u001b[0m\u001b[0;34m,\u001b[0m\u001b[0;34m\u001b[0m\n",
      "\u001b[0;34m\u001b[0m    \u001b[0mnumPartitions\u001b[0m\u001b[0;34m=\u001b[0m\u001b[0;32mNone\u001b[0m\u001b[0;34m,\u001b[0m\u001b[0;34m\u001b[0m\n",
      "\u001b[0;34m\u001b[0m    \u001b[0mkeyfunc\u001b[0m\u001b[0;34m=\u001b[0m\u001b[0;34m<\u001b[0m\u001b[0mfunction\u001b[0m \u001b[0mRDD\u001b[0m\u001b[0;34m.\u001b[0m\u001b[0;34m<\u001b[0m\u001b[0;32mlambda\u001b[0m\u001b[0;34m>\u001b[0m \u001b[0mat\u001b[0m \u001b[0;36m0x7f624cdb84c0\u001b[0m\u001b[0;34m>\u001b[0m\u001b[0;34m,\u001b[0m\u001b[0;34m\u001b[0m\n",
      "\u001b[0;34m\u001b[0m\u001b[0;34m)\u001b[0m\u001b[0;34m\u001b[0m\u001b[0;34m\u001b[0m\u001b[0m\n",
      "\u001b[0;31mDocstring:\u001b[0m\n",
      "Sorts this RDD, which is assumed to consist of (key, value) pairs.\n",
      "\n",
      "Examples\n",
      "--------\n",
      ">>> tmp = [('a', 1), ('b', 2), ('1', 3), ('d', 4), ('2', 5)]\n",
      ">>> sc.parallelize(tmp).sortByKey().first()\n",
      "('1', 3)\n",
      ">>> sc.parallelize(tmp).sortByKey(True, 1).collect()\n",
      "[('1', 3), ('2', 5), ('a', 1), ('b', 2), ('d', 4)]\n",
      ">>> sc.parallelize(tmp).sortByKey(True, 2).collect()\n",
      "[('1', 3), ('2', 5), ('a', 1), ('b', 2), ('d', 4)]\n",
      ">>> tmp2 = [('Mary', 1), ('had', 2), ('a', 3), ('little', 4), ('lamb', 5)]\n",
      ">>> tmp2.extend([('whose', 6), ('fleece', 7), ('was', 8), ('white', 9)])\n",
      ">>> sc.parallelize(tmp2).sortByKey(True, 3, keyfunc=lambda k: k.lower()).collect()\n",
      "[('a', 3), ('fleece', 7), ('had', 2), ('lamb', 5),...('white', 9), ('whose', 6)]\n",
      "\u001b[0;31mFile:\u001b[0m      ~/miniconda3/envs/bdm/lib/python3.8/site-packages/pyspark/rdd.py\n",
      "\u001b[0;31mType:\u001b[0m      method\n"
     ]
    }
   ],
   "source": [
    "t = d.mapValues(lambda x: x[0] / x[1]) \\\n",
    ".map(lambda x: (x[1], x[0])) \\\n",
    ".sortByKey(ascending=False) \\\n",
    ".take(10)"
   ]
  },
  {
   "cell_type": "code",
   "execution_count": null,
   "id": "7fbbe8d3",
   "metadata": {},
   "outputs": [],
   "source": []
  }
 ],
 "metadata": {
  "interpreter": {
   "hash": "bbe16ac06b6d4bacd07cf5564ffa86eb58e7e2ab169d83d01490a955ddfe1246"
  },
  "kernelspec": {
   "display_name": "Python 3.8.13 ('bdm')",
   "language": "python",
   "name": "python3"
  },
  "language_info": {
   "codemirror_mode": {
    "name": "ipython",
    "version": 3
   },
   "file_extension": ".py",
   "mimetype": "text/x-python",
   "name": "python",
   "nbconvert_exporter": "python",
   "pygments_lexer": "ipython3",
   "version": "3.8.13"
  }
 },
 "nbformat": 4,
 "nbformat_minor": 5
}
