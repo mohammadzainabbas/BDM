{
 "cells": [
  {
   "cell_type": "code",
   "execution_count": 1,
   "id": "1775511a-83f0-4d6e-9611-2e27291144ce",
   "metadata": {},
   "outputs": [],
   "source": [
    "%load_ext autoreload\n",
    "\n",
    "import warnings\n",
    "warnings.filterwarnings(\"ignore\") # disable warnings\n",
    "\n",
    "from os import getcwd\n",
    "from os.path import join, abspath, pardir, exists\n",
    "import numpy as np\n",
    "import pandas as pd\n",
    "\n",
    "from IPython.core.interactiveshell import InteractiveShell"
   ]
  },
  {
   "cell_type": "code",
   "execution_count": 2,
   "id": "78cd6726",
   "metadata": {},
   "outputs": [],
   "source": [
    "parent_dir = abspath(join(join(getcwd(), pardir), pardir))\n",
    "data_dir = join(parent_dir, \"src\", \"data\")\n",
    "data_events_dir = join(data_dir, \"events\")\n",
    "data_file = join(data_events_dir, \"20220404\", \"activities\", \"activities_20220404.csv\")"
   ]
  },
  {
   "cell_type": "code",
   "execution_count": 3,
   "id": "3d3cf65f",
   "metadata": {},
   "outputs": [],
   "source": [
    "# For IPython\n",
    "\n",
    "InteractiveShell.ast_node_interactivity = \"all\" # To show all output after each cell execution (instead of the last output)\n",
    "\n",
    "# For pandas\n",
    "\n",
    "pd.options.display.max_columns = 200 # display upto 200 columns (instead of default 20)\n",
    "pd.options.display.max_rows = 200 # display upto 200 rows (instead of default 60)\n",
    "pd.options.mode.use_inf_as_na = True # Consider '' and np.inf as np.NaN values (https://pandas.pydata.org/docs/reference/api/pandas.DataFrame.isna.html)\n"
   ]
  },
  {
   "cell_type": "code",
   "execution_count": 4,
   "id": "75cdd79b",
   "metadata": {},
   "outputs": [
    {
     "data": {
      "text/html": [
       "<div>\n",
       "<style scoped>\n",
       "    .dataframe tbody tr th:only-of-type {\n",
       "        vertical-align: middle;\n",
       "    }\n",
       "\n",
       "    .dataframe tbody tr th {\n",
       "        vertical-align: top;\n",
       "    }\n",
       "\n",
       "    .dataframe thead th {\n",
       "        text-align: right;\n",
       "    }\n",
       "</style>\n",
       "<table border=\"1\" class=\"dataframe\">\n",
       "  <thead>\n",
       "    <tr style=\"text-align: right;\">\n",
       "      <th></th>\n",
       "      <th>addresses_roadtype_name</th>\n",
       "      <th>addresses_end_street_number</th>\n",
       "      <th>values_attribute_name</th>\n",
       "      <th>addresses_road_name</th>\n",
       "      <th>values_category</th>\n",
       "      <th>addresses_zip_code</th>\n",
       "      <th>secondary_filters_id</th>\n",
       "      <th>values_value</th>\n",
       "      <th>addresses_town</th>\n",
       "      <th>geo_epgs_4326_y</th>\n",
       "      <th>geo_epgs_4326_x</th>\n",
       "      <th>secondary_filters_name</th>\n",
       "      <th>secondary_filters_tree</th>\n",
       "      <th>addresses_district_name</th>\n",
       "      <th>geo_epgs_25831_x</th>\n",
       "      <th>addresses_start_street_number</th>\n",
       "      <th>register_id</th>\n",
       "      <th>institution_id</th>\n",
       "      <th>addresses_main_address</th>\n",
       "      <th>addresses_district_id</th>\n",
       "      <th>addresses_roadtype_id</th>\n",
       "      <th>addresses_type</th>\n",
       "      <th>addresses_neighborhood_id</th>\n",
       "      <th>_id</th>\n",
       "      <th>name</th>\n",
       "      <th>addresses_road_id</th>\n",
       "      <th>created</th>\n",
       "      <th>geo_epgs_25831_y</th>\n",
       "      <th>institution_name</th>\n",
       "      <th>modified</th>\n",
       "      <th>secondary_filters_asia_id</th>\n",
       "      <th>secondary_filters_fullpath</th>\n",
       "      <th>values_description</th>\n",
       "      <th>values_id</th>\n",
       "      <th>addresses_neighborhood_name</th>\n",
       "      <th>values_outstanding</th>\n",
       "      <th>values_attribute_id</th>\n",
       "    </tr>\n",
       "  </thead>\n",
       "  <tbody>\n",
       "    <tr>\n",
       "      <th>0</th>\n",
       "      <td>NaN</td>\n",
       "      <td>NaN</td>\n",
       "      <td>Tel.</td>\n",
       "      <td>Av Estadi</td>\n",
       "      <td>Telèfons</td>\n",
       "      <td>8038.0</td>\n",
       "      <td>56732071.0</td>\n",
       "      <td>934255445</td>\n",
       "      <td>BARCELONA</td>\n",
       "      <td>2.146913</td>\n",
       "      <td>41.365375</td>\n",
       "      <td>Universitats</td>\n",
       "      <td>651.0</td>\n",
       "      <td>Sants-Montjuïc</td>\n",
       "      <td>428651.422989</td>\n",
       "      <td>12.0</td>\n",
       "      <td>﻿92086021895</td>\n",
       "      <td>NaN</td>\n",
       "      <td>True</td>\n",
       "      <td>3.0</td>\n",
       "      <td>NaN</td>\n",
       "      <td>NaN</td>\n",
       "      <td>11.0</td>\n",
       "      <td>1</td>\n",
       "      <td>Institut Nacional d'Educació Física de Catalun...</td>\n",
       "      <td>116402.0</td>\n",
       "      <td>1988-08-01T00:00:00</td>\n",
       "      <td>4.579669e+06</td>\n",
       "      <td>NaN</td>\n",
       "      <td>2022-03-15T18:19:11.887664</td>\n",
       "      <td>6.510300e+13</td>\n",
       "      <td>Planol BCN &gt;&gt; Educació &gt;&gt; Ensenyament reglat &gt;...</td>\n",
       "      <td>NaN</td>\n",
       "      <td>166525.0</td>\n",
       "      <td>el Poble-sec</td>\n",
       "      <td>True</td>\n",
       "      <td>20001.0</td>\n",
       "    </tr>\n",
       "    <tr>\n",
       "      <th>1</th>\n",
       "      <td>NaN</td>\n",
       "      <td>NaN</td>\n",
       "      <td>Informació</td>\n",
       "      <td>Av Miramar</td>\n",
       "      <td>Telèfons</td>\n",
       "      <td>8038.0</td>\n",
       "      <td>57732077.0</td>\n",
       "      <td>934234041</td>\n",
       "      <td>BARCELONA</td>\n",
       "      <td>2.164614</td>\n",
       "      <td>41.369093</td>\n",
       "      <td>Altres esports</td>\n",
       "      <td>651.0</td>\n",
       "      <td>Sants-Montjuïc</td>\n",
       "      <td>430135.864466</td>\n",
       "      <td>31.0</td>\n",
       "      <td>﻿92086000228</td>\n",
       "      <td>NaN</td>\n",
       "      <td>True</td>\n",
       "      <td>3.0</td>\n",
       "      <td>NaN</td>\n",
       "      <td>NaN</td>\n",
       "      <td>11.0</td>\n",
       "      <td>2</td>\n",
       "      <td>Piscines Municipals Montjuïc</td>\n",
       "      <td>213307.0</td>\n",
       "      <td>1987-06-25T00:00:00</td>\n",
       "      <td>4.580068e+06</td>\n",
       "      <td>NaN</td>\n",
       "      <td>2022-03-15T18:09:30.313753</td>\n",
       "      <td>6.510300e+13</td>\n",
       "      <td>Planol BCN &gt;&gt; Esports &gt;&gt; Esports individuals &gt;...</td>\n",
       "      <td>(CEM Bernat Picornell)</td>\n",
       "      <td>159747.0</td>\n",
       "      <td>el Poble-sec</td>\n",
       "      <td>True</td>\n",
       "      <td>20006.0</td>\n",
       "    </tr>\n",
       "    <tr>\n",
       "      <th>2</th>\n",
       "      <td>NaN</td>\n",
       "      <td>NaN</td>\n",
       "      <td>Informació</td>\n",
       "      <td>Av Miramar</td>\n",
       "      <td>Telèfons</td>\n",
       "      <td>8038.0</td>\n",
       "      <td>57732073.0</td>\n",
       "      <td>934234041</td>\n",
       "      <td>BARCELONA</td>\n",
       "      <td>2.164614</td>\n",
       "      <td>41.369093</td>\n",
       "      <td>Natació</td>\n",
       "      <td>651.0</td>\n",
       "      <td>Sants-Montjuïc</td>\n",
       "      <td>430135.864466</td>\n",
       "      <td>31.0</td>\n",
       "      <td>﻿92086000228</td>\n",
       "      <td>NaN</td>\n",
       "      <td>True</td>\n",
       "      <td>3.0</td>\n",
       "      <td>NaN</td>\n",
       "      <td>NaN</td>\n",
       "      <td>11.0</td>\n",
       "      <td>3</td>\n",
       "      <td>Piscines Municipals Montjuïc</td>\n",
       "      <td>213307.0</td>\n",
       "      <td>1987-06-25T00:00:00</td>\n",
       "      <td>4.580068e+06</td>\n",
       "      <td>NaN</td>\n",
       "      <td>2022-03-15T18:09:30.313753</td>\n",
       "      <td>6.510300e+13</td>\n",
       "      <td>Planol BCN &gt;&gt; Esports &gt;&gt; Esports individuals &gt;...</td>\n",
       "      <td>(CEM Bernat Picornell)</td>\n",
       "      <td>159747.0</td>\n",
       "      <td>el Poble-sec</td>\n",
       "      <td>True</td>\n",
       "      <td>20006.0</td>\n",
       "    </tr>\n",
       "    <tr>\n",
       "      <th>3</th>\n",
       "      <td>NaN</td>\n",
       "      <td>NaN</td>\n",
       "      <td>Informació</td>\n",
       "      <td>Av Miramar</td>\n",
       "      <td>Telèfons</td>\n",
       "      <td>8038.0</td>\n",
       "      <td>57345754.0</td>\n",
       "      <td>934234041</td>\n",
       "      <td>BARCELONA</td>\n",
       "      <td>2.164614</td>\n",
       "      <td>41.369093</td>\n",
       "      <td>Instal·lacions esportives</td>\n",
       "      <td>651.0</td>\n",
       "      <td>Sants-Montjuïc</td>\n",
       "      <td>430135.864466</td>\n",
       "      <td>31.0</td>\n",
       "      <td>﻿92086000228</td>\n",
       "      <td>NaN</td>\n",
       "      <td>True</td>\n",
       "      <td>3.0</td>\n",
       "      <td>NaN</td>\n",
       "      <td>NaN</td>\n",
       "      <td>11.0</td>\n",
       "      <td>4</td>\n",
       "      <td>Piscines Municipals Montjuïc</td>\n",
       "      <td>213307.0</td>\n",
       "      <td>1987-06-25T00:00:00</td>\n",
       "      <td>4.580068e+06</td>\n",
       "      <td>NaN</td>\n",
       "      <td>2022-03-15T18:09:30.313753</td>\n",
       "      <td>6.510200e+10</td>\n",
       "      <td>Planol BCN &gt;&gt; Esports &gt;&gt; Instal·lacions esport...</td>\n",
       "      <td>(CEM Bernat Picornell)</td>\n",
       "      <td>159747.0</td>\n",
       "      <td>el Poble-sec</td>\n",
       "      <td>True</td>\n",
       "      <td>20006.0</td>\n",
       "    </tr>\n",
       "    <tr>\n",
       "      <th>4</th>\n",
       "      <td>NaN</td>\n",
       "      <td>NaN</td>\n",
       "      <td>Informació</td>\n",
       "      <td>Av Miramar</td>\n",
       "      <td>Telèfons</td>\n",
       "      <td>8038.0</td>\n",
       "      <td>57733068.0</td>\n",
       "      <td>934234041</td>\n",
       "      <td>BARCELONA</td>\n",
       "      <td>2.164614</td>\n",
       "      <td>41.369093</td>\n",
       "      <td>Instal·lacions esportives municipals</td>\n",
       "      <td>651.0</td>\n",
       "      <td>Sants-Montjuïc</td>\n",
       "      <td>430135.864466</td>\n",
       "      <td>31.0</td>\n",
       "      <td>﻿92086000228</td>\n",
       "      <td>NaN</td>\n",
       "      <td>True</td>\n",
       "      <td>3.0</td>\n",
       "      <td>NaN</td>\n",
       "      <td>NaN</td>\n",
       "      <td>11.0</td>\n",
       "      <td>5</td>\n",
       "      <td>Piscines Municipals Montjuïc</td>\n",
       "      <td>213307.0</td>\n",
       "      <td>1987-06-25T00:00:00</td>\n",
       "      <td>4.580068e+06</td>\n",
       "      <td>NaN</td>\n",
       "      <td>2022-03-15T18:09:30.313753</td>\n",
       "      <td>6.510300e+13</td>\n",
       "      <td>Planol BCN &gt;&gt; Esports &gt;&gt; Instal·lacions esport...</td>\n",
       "      <td>(CEM Bernat Picornell)</td>\n",
       "      <td>159747.0</td>\n",
       "      <td>el Poble-sec</td>\n",
       "      <td>True</td>\n",
       "      <td>20006.0</td>\n",
       "    </tr>\n",
       "  </tbody>\n",
       "</table>\n",
       "</div>"
      ],
      "text/plain": [
       "   addresses_roadtype_name  addresses_end_street_number values_attribute_name  \\\n",
       "0                      NaN                          NaN                  Tel.   \n",
       "1                      NaN                          NaN            Informació   \n",
       "2                      NaN                          NaN            Informació   \n",
       "3                      NaN                          NaN            Informació   \n",
       "4                      NaN                          NaN            Informació   \n",
       "\n",
       "  addresses_road_name values_category  addresses_zip_code  \\\n",
       "0           Av Estadi        Telèfons              8038.0   \n",
       "1          Av Miramar        Telèfons              8038.0   \n",
       "2          Av Miramar        Telèfons              8038.0   \n",
       "3          Av Miramar        Telèfons              8038.0   \n",
       "4          Av Miramar        Telèfons              8038.0   \n",
       "\n",
       "   secondary_filters_id values_value addresses_town  geo_epgs_4326_y  \\\n",
       "0            56732071.0    934255445      BARCELONA         2.146913   \n",
       "1            57732077.0    934234041      BARCELONA         2.164614   \n",
       "2            57732073.0    934234041      BARCELONA         2.164614   \n",
       "3            57345754.0    934234041      BARCELONA         2.164614   \n",
       "4            57733068.0    934234041      BARCELONA         2.164614   \n",
       "\n",
       "   geo_epgs_4326_x                secondary_filters_name  \\\n",
       "0        41.365375                          Universitats   \n",
       "1        41.369093                        Altres esports   \n",
       "2        41.369093                               Natació   \n",
       "3        41.369093             Instal·lacions esportives   \n",
       "4        41.369093  Instal·lacions esportives municipals   \n",
       "\n",
       "   secondary_filters_tree addresses_district_name  geo_epgs_25831_x  \\\n",
       "0                   651.0          Sants-Montjuïc     428651.422989   \n",
       "1                   651.0          Sants-Montjuïc     430135.864466   \n",
       "2                   651.0          Sants-Montjuïc     430135.864466   \n",
       "3                   651.0          Sants-Montjuïc     430135.864466   \n",
       "4                   651.0          Sants-Montjuïc     430135.864466   \n",
       "\n",
       "   addresses_start_street_number   register_id  institution_id  \\\n",
       "0                           12.0  ﻿92086021895             NaN   \n",
       "1                           31.0  ﻿92086000228             NaN   \n",
       "2                           31.0  ﻿92086000228             NaN   \n",
       "3                           31.0  ﻿92086000228             NaN   \n",
       "4                           31.0  ﻿92086000228             NaN   \n",
       "\n",
       "   addresses_main_address  addresses_district_id  addresses_roadtype_id  \\\n",
       "0                    True                    3.0                    NaN   \n",
       "1                    True                    3.0                    NaN   \n",
       "2                    True                    3.0                    NaN   \n",
       "3                    True                    3.0                    NaN   \n",
       "4                    True                    3.0                    NaN   \n",
       "\n",
       "   addresses_type  addresses_neighborhood_id  _id  \\\n",
       "0             NaN                       11.0    1   \n",
       "1             NaN                       11.0    2   \n",
       "2             NaN                       11.0    3   \n",
       "3             NaN                       11.0    4   \n",
       "4             NaN                       11.0    5   \n",
       "\n",
       "                                                name  addresses_road_id  \\\n",
       "0  Institut Nacional d'Educació Física de Catalun...           116402.0   \n",
       "1                       Piscines Municipals Montjuïc           213307.0   \n",
       "2                       Piscines Municipals Montjuïc           213307.0   \n",
       "3                       Piscines Municipals Montjuïc           213307.0   \n",
       "4                       Piscines Municipals Montjuïc           213307.0   \n",
       "\n",
       "               created  geo_epgs_25831_y institution_name  \\\n",
       "0  1988-08-01T00:00:00      4.579669e+06              NaN   \n",
       "1  1987-06-25T00:00:00      4.580068e+06              NaN   \n",
       "2  1987-06-25T00:00:00      4.580068e+06              NaN   \n",
       "3  1987-06-25T00:00:00      4.580068e+06              NaN   \n",
       "4  1987-06-25T00:00:00      4.580068e+06              NaN   \n",
       "\n",
       "                     modified  secondary_filters_asia_id  \\\n",
       "0  2022-03-15T18:19:11.887664               6.510300e+13   \n",
       "1  2022-03-15T18:09:30.313753               6.510300e+13   \n",
       "2  2022-03-15T18:09:30.313753               6.510300e+13   \n",
       "3  2022-03-15T18:09:30.313753               6.510200e+10   \n",
       "4  2022-03-15T18:09:30.313753               6.510300e+13   \n",
       "\n",
       "                          secondary_filters_fullpath      values_description  \\\n",
       "0  Planol BCN >> Educació >> Ensenyament reglat >...                     NaN   \n",
       "1  Planol BCN >> Esports >> Esports individuals >...  (CEM Bernat Picornell)   \n",
       "2  Planol BCN >> Esports >> Esports individuals >...  (CEM Bernat Picornell)   \n",
       "3  Planol BCN >> Esports >> Instal·lacions esport...  (CEM Bernat Picornell)   \n",
       "4  Planol BCN >> Esports >> Instal·lacions esport...  (CEM Bernat Picornell)   \n",
       "\n",
       "   values_id addresses_neighborhood_name values_outstanding  \\\n",
       "0   166525.0                el Poble-sec               True   \n",
       "1   159747.0                el Poble-sec               True   \n",
       "2   159747.0                el Poble-sec               True   \n",
       "3   159747.0                el Poble-sec               True   \n",
       "4   159747.0                el Poble-sec               True   \n",
       "\n",
       "   values_attribute_id  \n",
       "0              20001.0  \n",
       "1              20006.0  \n",
       "2              20006.0  \n",
       "3              20006.0  \n",
       "4              20006.0  "
      ]
     },
     "execution_count": 4,
     "metadata": {},
     "output_type": "execute_result"
    },
    {
     "data": {
      "text/plain": [
       "Index(['addresses_roadtype_name', 'addresses_end_street_number',\n",
       "       'values_attribute_name', 'addresses_road_name', 'values_category',\n",
       "       'addresses_zip_code', 'secondary_filters_id', 'values_value',\n",
       "       'addresses_town', 'geo_epgs_4326_y', 'geo_epgs_4326_x',\n",
       "       'secondary_filters_name', 'secondary_filters_tree',\n",
       "       'addresses_district_name', 'geo_epgs_25831_x',\n",
       "       'addresses_start_street_number', 'register_id', 'institution_id',\n",
       "       'addresses_main_address', 'addresses_district_id',\n",
       "       'addresses_roadtype_id', 'addresses_type', 'addresses_neighborhood_id',\n",
       "       '_id', 'name', 'addresses_road_id', 'created', 'geo_epgs_25831_y',\n",
       "       'institution_name', 'modified', 'secondary_filters_asia_id',\n",
       "       'secondary_filters_fullpath', 'values_description', 'values_id',\n",
       "       'addresses_neighborhood_name', 'values_outstanding',\n",
       "       'values_attribute_id'],\n",
       "      dtype='object')"
      ]
     },
     "execution_count": 4,
     "metadata": {},
     "output_type": "execute_result"
    }
   ],
   "source": [
    "# df = pd.read_csv(data_file, encoding= 'unicode_escape')\n",
    "df = pd.read_csv(data_file)\n",
    "df.head()\n",
    "df.columns"
   ]
  },
  {
   "cell_type": "code",
   "execution_count": 13,
   "id": "4dbb7768",
   "metadata": {},
   "outputs": [],
   "source": [
    "activities_cols = ['register_id', 'name', 'geo_epgs_4326_x', 'geo_epgs_4326_y', # Must\n",
    "    'addresses_neighborhood_id', 'addresses_neighborhood_name', # For neighborhood's query\n",
    "    'addresses_district_id', 'addresses_district_name', # For district query\n",
    "    'addresses_road_name', 'addresses_road_id' # Maybe useful to search events on that road\n",
    "]\n",
    "df = df[activities_cols]"
   ]
  },
  {
   "cell_type": "code",
   "execution_count": 14,
   "id": "5f353f9b",
   "metadata": {},
   "outputs": [
    {
     "name": "stdout",
     "output_type": "stream",
     "text": [
      "Columns with NaN values: ['geo_epgs_4326_x', 'geo_epgs_4326_y', 'addresses_neighborhood_id', 'addresses_neighborhood_name', 'addresses_district_id', 'addresses_district_name', 'addresses_road_name', 'addresses_road_id']\n"
     ]
    }
   ],
   "source": [
    "print(\"Columns with NaN values: {}\".format(df.columns[df.isna().any()].tolist()))"
   ]
  },
  {
   "cell_type": "code",
   "execution_count": 15,
   "id": "b44dc8d7",
   "metadata": {},
   "outputs": [
    {
     "data": {
      "text/html": [
       "<div>\n",
       "<style scoped>\n",
       "    .dataframe tbody tr th:only-of-type {\n",
       "        vertical-align: middle;\n",
       "    }\n",
       "\n",
       "    .dataframe tbody tr th {\n",
       "        vertical-align: top;\n",
       "    }\n",
       "\n",
       "    .dataframe thead th {\n",
       "        text-align: right;\n",
       "    }\n",
       "</style>\n",
       "<table border=\"1\" class=\"dataframe\">\n",
       "  <thead>\n",
       "    <tr style=\"text-align: right;\">\n",
       "      <th></th>\n",
       "      <th>missing %</th>\n",
       "    </tr>\n",
       "  </thead>\n",
       "  <tbody>\n",
       "    <tr>\n",
       "      <th>addresses_neighborhood_id</th>\n",
       "      <td>3.0</td>\n",
       "    </tr>\n",
       "    <tr>\n",
       "      <th>addresses_neighborhood_name</th>\n",
       "      <td>3.0</td>\n",
       "    </tr>\n",
       "    <tr>\n",
       "      <th>addresses_district_id</th>\n",
       "      <td>3.0</td>\n",
       "    </tr>\n",
       "    <tr>\n",
       "      <th>addresses_district_name</th>\n",
       "      <td>3.0</td>\n",
       "    </tr>\n",
       "    <tr>\n",
       "      <th>addresses_road_name</th>\n",
       "      <td>3.0</td>\n",
       "    </tr>\n",
       "    <tr>\n",
       "      <th>addresses_road_id</th>\n",
       "      <td>3.0</td>\n",
       "    </tr>\n",
       "    <tr>\n",
       "      <th>geo_epgs_4326_x</th>\n",
       "      <td>1.0</td>\n",
       "    </tr>\n",
       "    <tr>\n",
       "      <th>geo_epgs_4326_y</th>\n",
       "      <td>1.0</td>\n",
       "    </tr>\n",
       "    <tr>\n",
       "      <th>register_id</th>\n",
       "      <td>0.0</td>\n",
       "    </tr>\n",
       "    <tr>\n",
       "      <th>name</th>\n",
       "      <td>0.0</td>\n",
       "    </tr>\n",
       "  </tbody>\n",
       "</table>\n",
       "</div>"
      ],
      "text/plain": [
       "                             missing %\n",
       "addresses_neighborhood_id          3.0\n",
       "addresses_neighborhood_name        3.0\n",
       "addresses_district_id              3.0\n",
       "addresses_district_name            3.0\n",
       "addresses_road_name                3.0\n",
       "addresses_road_id                  3.0\n",
       "geo_epgs_4326_x                    1.0\n",
       "geo_epgs_4326_y                    1.0\n",
       "register_id                        0.0\n",
       "name                               0.0"
      ]
     },
     "execution_count": 15,
     "metadata": {},
     "output_type": "execute_result"
    }
   ],
   "source": [
    "((df.isna().sum()/len(df)) * 100).to_frame(name='missing %').sort_values(by=['missing %'], ascending=False)"
   ]
  },
  {
   "cell_type": "code",
   "execution_count": 12,
   "id": "716db561",
   "metadata": {},
   "outputs": [
    {
     "data": {
      "text/plain": [
       "array(['Telèfons', nan], dtype=object)"
      ]
     },
     "execution_count": 12,
     "metadata": {},
     "output_type": "execute_result"
    }
   ],
   "source": [
    "df['values_category'].unique()"
   ]
  },
  {
   "cell_type": "code",
   "execution_count": 2,
   "id": "40395952-efee-4ce9-a21b-fe326add3ae5",
   "metadata": {},
   "outputs": [],
   "source": [
    "import pyspark\n",
    "from pyspark.sql import SparkSession\n",
    "import random"
   ]
  },
  {
   "cell_type": "code",
   "execution_count": 3,
   "id": "799db683",
   "metadata": {},
   "outputs": [],
   "source": [
    "# sc = pyspark.SparkContext(appName=\"Pi\")\n",
    "num_samples = 100000000"
   ]
  },
  {
   "cell_type": "code",
   "execution_count": 4,
   "id": "b535e429-0389-4b82-b916-9684cfdccd46",
   "metadata": {},
   "outputs": [
    {
     "name": "stderr",
     "output_type": "stream",
     "text": [
      "WARNING: An illegal reflective access operation has occurred\n",
      "WARNING: Illegal reflective access by org.apache.spark.unsafe.Platform (file:/home/bdm/miniconda3/envs/bdm/lib/python3.8/site-packages/pyspark/jars/spark-unsafe_2.12-3.2.1.jar) to constructor java.nio.DirectByteBuffer(long,int)\n",
      "WARNING: Please consider reporting this to the maintainers of org.apache.spark.unsafe.Platform\n",
      "WARNING: Use --illegal-access=warn to enable warnings of further illegal reflective access operations\n",
      "WARNING: All illegal access operations will be denied in a future release\n",
      "Using Spark's default log4j profile: org/apache/spark/log4j-defaults.properties\n",
      "Setting default log level to \"WARN\".\n",
      "To adjust logging level use sc.setLogLevel(newLevel). For SparkR, use setLogLevel(newLevel).\n",
      "22/06/06 13:40:19 WARN NativeCodeLoader: Unable to load native-hadoop library for your platform... using builtin-java classes where applicable\n"
     ]
    },
    {
     "data": {
      "text/html": [
       "\n",
       "        <div>\n",
       "            <p><b>SparkContext</b></p>\n",
       "\n",
       "            <p><a href=\"http://alakazam.fib.upc.es:4040\">Spark UI</a></p>\n",
       "\n",
       "            <dl>\n",
       "              <dt>Version</dt>\n",
       "                <dd><code>v3.2.1</code></dd>\n",
       "              <dt>Master</dt>\n",
       "                <dd><code>local[*]</code></dd>\n",
       "              <dt>AppName</dt>\n",
       "                <dd><code>Pi</code></dd>\n",
       "            </dl>\n",
       "        </div>\n",
       "        "
      ],
      "text/plain": [
       "<SparkContext master=local[*] appName=Pi>"
      ]
     },
     "execution_count": 4,
     "metadata": {},
     "output_type": "execute_result"
    }
   ],
   "source": [
    "sc = pyspark.SparkContext(appName=\"Pi\")\n",
    "sc"
   ]
  },
  {
   "cell_type": "code",
   "execution_count": 5,
   "id": "133b94d1",
   "metadata": {},
   "outputs": [],
   "source": [
    "df = sc.textFile(\"hdfs://alakazam.fib.upc.es:27000/user/bdm/data/events/activities/activities_20220404.csv\")"
   ]
  },
  {
   "cell_type": "code",
   "execution_count": 6,
   "id": "fea6afed",
   "metadata": {},
   "outputs": [
    {
     "data": {
      "text/plain": [
       "pyspark.rdd.RDD"
      ]
     },
     "execution_count": 6,
     "metadata": {},
     "output_type": "execute_result"
    }
   ],
   "source": [
    "type(df)"
   ]
  },
  {
   "cell_type": "code",
   "execution_count": 7,
   "id": "33c4a406",
   "metadata": {},
   "outputs": [
    {
     "name": "stderr",
     "output_type": "stream",
     "text": [
      "                                                                                \r"
     ]
    },
    {
     "data": {
      "text/plain": [
       "['addresses_roadtype_name,addresses_end_street_number,values_attribute_name,addresses_road_name,values_category,addresses_zip_code,secondary_filters_id,values_value,addresses_town,geo_epgs_4326_y,geo_epgs_4326_x,secondary_filters_name,secondary_filters_tree,addresses_district_name,geo_epgs_25831_x,addresses_start_street_number,register_id,institution_id,addresses_main_address,addresses_district_id,addresses_roadtype_id,addresses_type,addresses_neighborhood_id,_id,name,addresses_road_id,created,geo_epgs_25831_y,institution_name,modified,secondary_filters_asia_id,secondary_filters_fullpath,values_description,values_id,addresses_neighborhood_name,values_outstanding,values_attribute_id',\n",
       " \",595,,Avinguda Diagonal,,8014,,,Barcelona,2.130909070377303,41.38880236698143,,,Les Corts,427338.96499748,593,\\ufeff99400380901,,True,4,,,19,83,Fira Espai d'Art a l'avinguda Diagonal,144601,2015-03-20T12:37:06,4582283.64369705,,2022-03-15T18:19:17.430236,,,,,les Corts,,\"]"
      ]
     },
     "execution_count": 7,
     "metadata": {},
     "output_type": "execute_result"
    }
   ],
   "source": [
    "df.top(2)"
   ]
  },
  {
   "cell_type": "code",
   "execution_count": 8,
   "id": "7df4ae92",
   "metadata": {},
   "outputs": [],
   "source": [
    "# spark = SparkSession.builder.master(\"local\").appName(\"Pi\").config(sc.getConf()).getOrCreate()\n",
    "spark = SparkSession.builder.getOrCreate()"
   ]
  },
  {
   "cell_type": "code",
   "execution_count": 11,
   "id": "b88a11b5",
   "metadata": {},
   "outputs": [
    {
     "data": {
      "text/plain": [
       "DataFrame[_c0: string, _c1: string, _c2: string, _c3: string, _c4: string, _c5: string, _c6: string, _c7: string, _c8: string, _c9: string, _c10: string, _c11: string, _c12: string, _c13: string, _c14: string, _c15: string, _c16: string, _c17: string, _c18: string, _c19: string, _c20: string, _c21: string, _c22: string, _c23: string, _c24: string, _c25: string, _c26: string, _c27: string, _c28: string, _c29: string, _c30: string, _c31: string, _c32: string, _c33: string, _c34: string, _c35: string, _c36: string]"
      ]
     },
     "execution_count": 11,
     "metadata": {},
     "output_type": "execute_result"
    }
   ],
   "source": [
    "spark.read.format(\"csv\").load(\"hdfs://alakazam.fib.upc.es:27000/user/bdm/data/events/activities/activities_20220404.csv\")"
   ]
  },
  {
   "cell_type": "code",
   "execution_count": 3,
   "id": "9488140e-4247-45d6-8532-84e5c03a7f2a",
   "metadata": {},
   "outputs": [],
   "source": [
    "sc.stop()"
   ]
  },
  {
   "cell_type": "code",
   "execution_count": null,
   "id": "c5785fa8-57c6-4983-9bbe-283085d4aac9",
   "metadata": {},
   "outputs": [],
   "source": []
  },
  {
   "cell_type": "code",
   "execution_count": null,
   "id": "f232c26d",
   "metadata": {},
   "outputs": [],
   "source": [
    "a = '/home/bdm/BDM/src/data/events/20220502/activities/activities_20220502.csv'"
   ]
  },
  {
   "cell_type": "code",
   "execution_count": null,
   "id": "8dbcedc5",
   "metadata": {},
   "outputs": [],
   "source": [
    "a"
   ]
  },
  {
   "cell_type": "code",
   "execution_count": null,
   "id": "4f5d541c",
   "metadata": {},
   "outputs": [],
   "source": []
  }
 ],
 "metadata": {
  "interpreter": {
   "hash": "bbe16ac06b6d4bacd07cf5564ffa86eb58e7e2ab169d83d01490a955ddfe1246"
  },
  "kernelspec": {
   "display_name": "Python 3.8.13 ('bdm')",
   "language": "python",
   "name": "python3"
  },
  "language_info": {
   "codemirror_mode": {
    "name": "ipython",
    "version": 3
   },
   "file_extension": ".py",
   "mimetype": "text/x-python",
   "name": "python",
   "nbconvert_exporter": "python",
   "pygments_lexer": "ipython3",
   "version": "3.8.13"
  }
 },
 "nbformat": 4,
 "nbformat_minor": 5
}
