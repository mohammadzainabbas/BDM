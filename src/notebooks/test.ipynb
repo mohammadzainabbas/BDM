{
 "cells": [
  {
   "cell_type": "code",
   "execution_count": 1,
   "id": "1775511a-83f0-4d6e-9611-2e27291144ce",
   "metadata": {},
   "outputs": [],
   "source": [
    "import findspark\n",
    "findspark.init()"
   ]
  },
  {
   "cell_type": "code",
   "execution_count": 3,
   "id": "40395952-efee-4ce9-a21b-fe326add3ae5",
   "metadata": {},
   "outputs": [],
   "source": [
    "import pyspark\n",
    "from pyspark.sql import SparkSession\n",
    "import random"
   ]
  },
  {
   "cell_type": "code",
   "execution_count": null,
   "id": "799db683",
   "metadata": {},
   "outputs": [],
   "source": [
    "# sc = pyspark.SparkContext(appName=\"Pi\")\n",
    "num_samples = 100000000"
   ]
  },
  {
   "cell_type": "code",
   "execution_count": 4,
   "id": "b535e429-0389-4b82-b916-9684cfdccd46",
   "metadata": {},
   "outputs": [
    {
     "name": "stderr",
     "output_type": "stream",
     "text": [
      "Using Spark's default log4j profile: org/apache/spark/log4j-defaults.properties\n",
      "Setting default log level to \"WARN\".\n",
      "To adjust logging level use sc.setLogLevel(newLevel). For SparkR, use setLogLevel(newLevel).\n",
      "22/05/31 15:57:35 WARN NativeCodeLoader: Unable to load native-hadoop library for your platform... using builtin-java classes where applicable\n"
     ]
    },
    {
     "data": {
      "text/html": [
       "\n",
       "        <div>\n",
       "            <p><b>SparkContext</b></p>\n",
       "\n",
       "            <p><a href=\"http://alakazam.fib.upc.es:4040\">Spark UI</a></p>\n",
       "\n",
       "            <dl>\n",
       "              <dt>Version</dt>\n",
       "                <dd><code>v3.2.1</code></dd>\n",
       "              <dt>Master</dt>\n",
       "                <dd><code>local[*]</code></dd>\n",
       "              <dt>AppName</dt>\n",
       "                <dd><code>Pi</code></dd>\n",
       "            </dl>\n",
       "        </div>\n",
       "        "
      ],
      "text/plain": [
       "<SparkContext master=local[*] appName=Pi>"
      ]
     },
     "execution_count": 4,
     "metadata": {},
     "output_type": "execute_result"
    }
   ],
   "source": [
    "sc = pyspark.SparkContext(appName=\"Pi\")\n",
    "sc"
   ]
  },
  {
   "cell_type": "code",
   "execution_count": 5,
   "id": "a6208060-fd67-4d0d-94d6-a7d32c556224",
   "metadata": {},
   "outputs": [
    {
     "name": "stderr",
     "output_type": "stream",
     "text": [
      "[Stage 0:>                                                          (0 + 1) / 1]\r"
     ]
    },
    {
     "name": "stdout",
     "output_type": "stream",
     "text": [
      "3.14147452\n"
     ]
    },
    {
     "name": "stderr",
     "output_type": "stream",
     "text": [
      "                                                                                \r"
     ]
    }
   ],
   "source": [
    "def inside(p):     \n",
    "  x, y = random.random(), random.random()\n",
    "  return x*x + y*y < 1\n",
    "count = sc.parallelize(range(0, num_samples)).filter(inside).count()\n",
    "pi = 4 * count / num_samples\n",
    "print(pi)"
   ]
  },
  {
   "cell_type": "code",
   "execution_count": 9,
   "id": "133b94d1",
   "metadata": {},
   "outputs": [],
   "source": [
    "df = sc.textFile(\"hdfs://alakazam.fib.upc.es:27000/user/bdm/data/events/activities/activities_20220404.csv\")"
   ]
  },
  {
   "cell_type": "code",
   "execution_count": 11,
   "id": "fea6afed",
   "metadata": {},
   "outputs": [
    {
     "data": {
      "text/plain": [
       "pyspark.rdd.RDD"
      ]
     },
     "execution_count": 11,
     "metadata": {},
     "output_type": "execute_result"
    }
   ],
   "source": [
    "type(df)"
   ]
  },
  {
   "cell_type": "code",
   "execution_count": 13,
   "id": "33c4a406",
   "metadata": {},
   "outputs": [
    {
     "data": {
      "text/plain": [
       "['addresses_roadtype_name,addresses_end_street_number,values_attribute_name,addresses_road_name,values_category,addresses_zip_code,secondary_filters_id,values_value,addresses_town,geo_epgs_4326_y,geo_epgs_4326_x,secondary_filters_name,secondary_filters_tree,addresses_district_name,geo_epgs_25831_x,addresses_start_street_number,register_id,institution_id,addresses_main_address,addresses_district_id,addresses_roadtype_id,addresses_type,addresses_neighborhood_id,_id,name,addresses_road_id,created,geo_epgs_25831_y,institution_name,modified,secondary_filters_asia_id,secondary_filters_fullpath,values_description,values_id,addresses_neighborhood_name,values_outstanding,values_attribute_id',\n",
       " \",595,,Avinguda Diagonal,,8014,,,Barcelona,2.130909070377303,41.38880236698143,,,Les Corts,427338.96499748,593,\\ufeff99400380901,,True,4,,,19,83,Fira Espai d'Art a l'avinguda Diagonal,144601,2015-03-20T12:37:06,4582283.64369705,,2022-03-15T18:19:17.430236,,,,,les Corts,,\"]"
      ]
     },
     "execution_count": 13,
     "metadata": {},
     "output_type": "execute_result"
    }
   ],
   "source": [
    "df.top(2)"
   ]
  },
  {
   "cell_type": "code",
   "execution_count": 23,
   "id": "7df4ae92",
   "metadata": {},
   "outputs": [
    {
     "ename": "AttributeError",
     "evalue": "'SparkConf' object has no attribute '_get_object_id'",
     "output_type": "error",
     "traceback": [
      "\u001b[0;31m---------------------------------------------------------------------------\u001b[0m",
      "\u001b[0;31mAttributeError\u001b[0m                            Traceback (most recent call last)",
      "\u001b[1;32m/home/bdm/BDM/src/notebooks/test.ipynb Cell 9'\u001b[0m in \u001b[0;36m<cell line: 2>\u001b[0;34m()\u001b[0m\n\u001b[1;32m      <a href='vscode-notebook-cell://ssh-remote%2B7b22686f73744e616d65223a224e4e31227d/home/bdm/BDM/src/notebooks/test.ipynb#ch0000009vscode-remote?line=0'>1</a>\u001b[0m \u001b[39m# spark = SparkSession.builder.master(\"local\").appName(\"Pi\").config(sc.getConf()).getOrCreate()\u001b[39;00m\n\u001b[0;32m----> <a href='vscode-notebook-cell://ssh-remote%2B7b22686f73744e616d65223a224e4e31227d/home/bdm/BDM/src/notebooks/test.ipynb#ch0000009vscode-remote?line=1'>2</a>\u001b[0m spark \u001b[39m=\u001b[39m SparkSession\u001b[39m.\u001b[39;49mbuilder\u001b[39m.\u001b[39;49mgetOrCreate()\n",
      "File \u001b[0;32m~/miniconda3/envs/bdm/lib/python3.8/site-packages/pyspark/sql/session.py:226\u001b[0m, in \u001b[0;36mSparkSession.Builder.getOrCreate\u001b[0;34m(self)\u001b[0m\n\u001b[1;32m    <a href='file:///home/bdm/miniconda3/envs/bdm/lib/python3.8/site-packages/pyspark/sql/session.py?line=223'>224</a>\u001b[0m sparkConf \u001b[39m=\u001b[39m SparkConf()\n\u001b[1;32m    <a href='file:///home/bdm/miniconda3/envs/bdm/lib/python3.8/site-packages/pyspark/sql/session.py?line=224'>225</a>\u001b[0m \u001b[39mfor\u001b[39;00m key, value \u001b[39min\u001b[39;00m \u001b[39mself\u001b[39m\u001b[39m.\u001b[39m_options\u001b[39m.\u001b[39mitems():\n\u001b[0;32m--> <a href='file:///home/bdm/miniconda3/envs/bdm/lib/python3.8/site-packages/pyspark/sql/session.py?line=225'>226</a>\u001b[0m     sparkConf\u001b[39m.\u001b[39;49mset(key, value)\n\u001b[1;32m    <a href='file:///home/bdm/miniconda3/envs/bdm/lib/python3.8/site-packages/pyspark/sql/session.py?line=226'>227</a>\u001b[0m \u001b[39m# This SparkContext may be an existing one.\u001b[39;00m\n\u001b[1;32m    <a href='file:///home/bdm/miniconda3/envs/bdm/lib/python3.8/site-packages/pyspark/sql/session.py?line=227'>228</a>\u001b[0m sc \u001b[39m=\u001b[39m SparkContext\u001b[39m.\u001b[39mgetOrCreate(sparkConf)\n",
      "File \u001b[0;32m~/miniconda3/envs/bdm/lib/python3.8/site-packages/pyspark/conf.py:131\u001b[0m, in \u001b[0;36mSparkConf.set\u001b[0;34m(self, key, value)\u001b[0m\n\u001b[1;32m    <a href='file:///home/bdm/miniconda3/envs/bdm/lib/python3.8/site-packages/pyspark/conf.py?line=128'>129</a>\u001b[0m \u001b[39m# Try to set self._jconf first if JVM is created, set self._conf if JVM is not created yet.\u001b[39;00m\n\u001b[1;32m    <a href='file:///home/bdm/miniconda3/envs/bdm/lib/python3.8/site-packages/pyspark/conf.py?line=129'>130</a>\u001b[0m \u001b[39mif\u001b[39;00m \u001b[39mself\u001b[39m\u001b[39m.\u001b[39m_jconf \u001b[39mis\u001b[39;00m \u001b[39mnot\u001b[39;00m \u001b[39mNone\u001b[39;00m:\n\u001b[0;32m--> <a href='file:///home/bdm/miniconda3/envs/bdm/lib/python3.8/site-packages/pyspark/conf.py?line=130'>131</a>\u001b[0m     \u001b[39mself\u001b[39;49m\u001b[39m.\u001b[39;49m_jconf\u001b[39m.\u001b[39;49mset(key, \u001b[39mstr\u001b[39;49m(value))\n\u001b[1;32m    <a href='file:///home/bdm/miniconda3/envs/bdm/lib/python3.8/site-packages/pyspark/conf.py?line=131'>132</a>\u001b[0m \u001b[39melse\u001b[39;00m:\n\u001b[1;32m    <a href='file:///home/bdm/miniconda3/envs/bdm/lib/python3.8/site-packages/pyspark/conf.py?line=132'>133</a>\u001b[0m     \u001b[39mself\u001b[39m\u001b[39m.\u001b[39m_conf[key] \u001b[39m=\u001b[39m \u001b[39mstr\u001b[39m(value)\n",
      "File \u001b[0;32m~/miniconda3/envs/bdm/lib/python3.8/site-packages/py4j/java_gateway.py:1313\u001b[0m, in \u001b[0;36mJavaMember.__call__\u001b[0;34m(self, *args)\u001b[0m\n\u001b[1;32m   <a href='file:///home/bdm/miniconda3/envs/bdm/lib/python3.8/site-packages/py4j/java_gateway.py?line=1311'>1312</a>\u001b[0m \u001b[39mdef\u001b[39;00m \u001b[39m__call__\u001b[39m(\u001b[39mself\u001b[39m, \u001b[39m*\u001b[39margs):\n\u001b[0;32m-> <a href='file:///home/bdm/miniconda3/envs/bdm/lib/python3.8/site-packages/py4j/java_gateway.py?line=1312'>1313</a>\u001b[0m     args_command, temp_args \u001b[39m=\u001b[39m \u001b[39mself\u001b[39;49m\u001b[39m.\u001b[39;49m_build_args(\u001b[39m*\u001b[39;49margs)\n\u001b[1;32m   <a href='file:///home/bdm/miniconda3/envs/bdm/lib/python3.8/site-packages/py4j/java_gateway.py?line=1314'>1315</a>\u001b[0m     command \u001b[39m=\u001b[39m proto\u001b[39m.\u001b[39mCALL_COMMAND_NAME \u001b[39m+\u001b[39m\\\n\u001b[1;32m   <a href='file:///home/bdm/miniconda3/envs/bdm/lib/python3.8/site-packages/py4j/java_gateway.py?line=1315'>1316</a>\u001b[0m         \u001b[39mself\u001b[39m\u001b[39m.\u001b[39mcommand_header \u001b[39m+\u001b[39m\\\n\u001b[1;32m   <a href='file:///home/bdm/miniconda3/envs/bdm/lib/python3.8/site-packages/py4j/java_gateway.py?line=1316'>1317</a>\u001b[0m         args_command \u001b[39m+\u001b[39m\\\n\u001b[1;32m   <a href='file:///home/bdm/miniconda3/envs/bdm/lib/python3.8/site-packages/py4j/java_gateway.py?line=1317'>1318</a>\u001b[0m         proto\u001b[39m.\u001b[39mEND_COMMAND_PART\n\u001b[1;32m   <a href='file:///home/bdm/miniconda3/envs/bdm/lib/python3.8/site-packages/py4j/java_gateway.py?line=1319'>1320</a>\u001b[0m     answer \u001b[39m=\u001b[39m \u001b[39mself\u001b[39m\u001b[39m.\u001b[39mgateway_client\u001b[39m.\u001b[39msend_command(command)\n",
      "File \u001b[0;32m~/miniconda3/envs/bdm/lib/python3.8/site-packages/py4j/java_gateway.py:1283\u001b[0m, in \u001b[0;36mJavaMember._build_args\u001b[0;34m(self, *args)\u001b[0m\n\u001b[1;32m   <a href='file:///home/bdm/miniconda3/envs/bdm/lib/python3.8/site-packages/py4j/java_gateway.py?line=1278'>1279</a>\u001b[0m     new_args \u001b[39m=\u001b[39m args\n\u001b[1;32m   <a href='file:///home/bdm/miniconda3/envs/bdm/lib/python3.8/site-packages/py4j/java_gateway.py?line=1279'>1280</a>\u001b[0m     temp_args \u001b[39m=\u001b[39m []\n\u001b[1;32m   <a href='file:///home/bdm/miniconda3/envs/bdm/lib/python3.8/site-packages/py4j/java_gateway.py?line=1281'>1282</a>\u001b[0m args_command \u001b[39m=\u001b[39m \u001b[39m\"\u001b[39m\u001b[39m\"\u001b[39m\u001b[39m.\u001b[39mjoin(\n\u001b[0;32m-> <a href='file:///home/bdm/miniconda3/envs/bdm/lib/python3.8/site-packages/py4j/java_gateway.py?line=1282'>1283</a>\u001b[0m     [get_command_part(arg, \u001b[39mself\u001b[39m\u001b[39m.\u001b[39mpool) \u001b[39mfor\u001b[39;00m arg \u001b[39min\u001b[39;00m new_args])\n\u001b[1;32m   <a href='file:///home/bdm/miniconda3/envs/bdm/lib/python3.8/site-packages/py4j/java_gateway.py?line=1284'>1285</a>\u001b[0m \u001b[39mreturn\u001b[39;00m args_command, temp_args\n",
      "File \u001b[0;32m~/miniconda3/envs/bdm/lib/python3.8/site-packages/py4j/java_gateway.py:1283\u001b[0m, in \u001b[0;36m<listcomp>\u001b[0;34m(.0)\u001b[0m\n\u001b[1;32m   <a href='file:///home/bdm/miniconda3/envs/bdm/lib/python3.8/site-packages/py4j/java_gateway.py?line=1278'>1279</a>\u001b[0m     new_args \u001b[39m=\u001b[39m args\n\u001b[1;32m   <a href='file:///home/bdm/miniconda3/envs/bdm/lib/python3.8/site-packages/py4j/java_gateway.py?line=1279'>1280</a>\u001b[0m     temp_args \u001b[39m=\u001b[39m []\n\u001b[1;32m   <a href='file:///home/bdm/miniconda3/envs/bdm/lib/python3.8/site-packages/py4j/java_gateway.py?line=1281'>1282</a>\u001b[0m args_command \u001b[39m=\u001b[39m \u001b[39m\"\u001b[39m\u001b[39m\"\u001b[39m\u001b[39m.\u001b[39mjoin(\n\u001b[0;32m-> <a href='file:///home/bdm/miniconda3/envs/bdm/lib/python3.8/site-packages/py4j/java_gateway.py?line=1282'>1283</a>\u001b[0m     [get_command_part(arg, \u001b[39mself\u001b[39;49m\u001b[39m.\u001b[39;49mpool) \u001b[39mfor\u001b[39;00m arg \u001b[39min\u001b[39;00m new_args])\n\u001b[1;32m   <a href='file:///home/bdm/miniconda3/envs/bdm/lib/python3.8/site-packages/py4j/java_gateway.py?line=1284'>1285</a>\u001b[0m \u001b[39mreturn\u001b[39;00m args_command, temp_args\n",
      "File \u001b[0;32m~/miniconda3/envs/bdm/lib/python3.8/site-packages/py4j/protocol.py:298\u001b[0m, in \u001b[0;36mget_command_part\u001b[0;34m(parameter, python_proxy_pool)\u001b[0m\n\u001b[1;32m    <a href='file:///home/bdm/miniconda3/envs/bdm/lib/python3.8/site-packages/py4j/protocol.py?line=295'>296</a>\u001b[0m         command_part \u001b[39m+\u001b[39m\u001b[39m=\u001b[39m \u001b[39m\"\u001b[39m\u001b[39m;\u001b[39m\u001b[39m\"\u001b[39m \u001b[39m+\u001b[39m interface\n\u001b[1;32m    <a href='file:///home/bdm/miniconda3/envs/bdm/lib/python3.8/site-packages/py4j/protocol.py?line=296'>297</a>\u001b[0m \u001b[39melse\u001b[39;00m:\n\u001b[0;32m--> <a href='file:///home/bdm/miniconda3/envs/bdm/lib/python3.8/site-packages/py4j/protocol.py?line=297'>298</a>\u001b[0m     command_part \u001b[39m=\u001b[39m REFERENCE_TYPE \u001b[39m+\u001b[39m parameter\u001b[39m.\u001b[39;49m_get_object_id()\n\u001b[1;32m    <a href='file:///home/bdm/miniconda3/envs/bdm/lib/python3.8/site-packages/py4j/protocol.py?line=299'>300</a>\u001b[0m command_part \u001b[39m+\u001b[39m\u001b[39m=\u001b[39m \u001b[39m\"\u001b[39m\u001b[39m\\n\u001b[39;00m\u001b[39m\"\u001b[39m\n\u001b[1;32m    <a href='file:///home/bdm/miniconda3/envs/bdm/lib/python3.8/site-packages/py4j/protocol.py?line=301'>302</a>\u001b[0m \u001b[39mreturn\u001b[39;00m command_part\n",
      "\u001b[0;31mAttributeError\u001b[0m: 'SparkConf' object has no attribute '_get_object_id'"
     ]
    }
   ],
   "source": [
    "# spark = SparkSession.builder.master(\"local\").appName(\"Pi\").config(sc.getConf()).getOrCreate()\n",
    "spark = SparkSession.builder.getOrCreate()"
   ]
  },
  {
   "cell_type": "code",
   "execution_count": 3,
   "id": "9488140e-4247-45d6-8532-84e5c03a7f2a",
   "metadata": {},
   "outputs": [],
   "source": [
    "sc.stop()"
   ]
  },
  {
   "cell_type": "code",
   "execution_count": null,
   "id": "c5785fa8-57c6-4983-9bbe-283085d4aac9",
   "metadata": {},
   "outputs": [],
   "source": []
  }
 ],
 "metadata": {
  "interpreter": {
   "hash": "bbe16ac06b6d4bacd07cf5564ffa86eb58e7e2ab169d83d01490a955ddfe1246"
  },
  "kernelspec": {
   "display_name": "Python 3.8.13 ('bdm')",
   "language": "python",
   "name": "python3"
  },
  "language_info": {
   "codemirror_mode": {
    "name": "ipython",
    "version": 3
   },
   "file_extension": ".py",
   "mimetype": "text/x-python",
   "name": "python",
   "nbconvert_exporter": "python",
   "pygments_lexer": "ipython3",
   "version": "3.8.13"
  }
 },
 "nbformat": 4,
 "nbformat_minor": 5
}
